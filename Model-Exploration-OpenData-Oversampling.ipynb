{
 "cells": [
  {
   "cell_type": "code",
   "execution_count": 26,
   "metadata": {},
   "outputs": [],
   "source": [
    "#pip install imbalanced-learn"
   ]
  },
  {
   "cell_type": "code",
   "execution_count": 27,
   "metadata": {},
   "outputs": [],
   "source": [
    "import pandas as pd\n",
    "import numpy as np"
   ]
  },
  {
   "cell_type": "markdown",
   "metadata": {},
   "source": [
    "# Data Exploration"
   ]
  },
  {
   "cell_type": "markdown",
   "metadata": {},
   "source": [
    "##### Create tables"
   ]
  },
  {
   "cell_type": "code",
   "execution_count": 28,
   "metadata": {},
   "outputs": [
    {
     "data": {
      "text/html": [
       "<div>\n",
       "<style scoped>\n",
       "    .dataframe tbody tr th:only-of-type {\n",
       "        vertical-align: middle;\n",
       "    }\n",
       "\n",
       "    .dataframe tbody tr th {\n",
       "        vertical-align: top;\n",
       "    }\n",
       "\n",
       "    .dataframe thead th {\n",
       "        text-align: right;\n",
       "    }\n",
       "</style>\n",
       "<table border=\"1\" class=\"dataframe\">\n",
       "  <thead>\n",
       "    <tr style=\"text-align: right;\">\n",
       "      <th></th>\n",
       "      <th>playful,serious</th>\n",
       "      <th>shy,bold</th>\n",
       "      <th>cheery,sorrowful</th>\n",
       "      <th>masculine,feminine</th>\n",
       "      <th>charming,awkward</th>\n",
       "      <th>lewd,tasteful</th>\n",
       "      <th>intellectual,physical</th>\n",
       "      <th>strict,lenient</th>\n",
       "      <th>refined,rugged</th>\n",
       "      <th>trusting,suspicious</th>\n",
       "      <th>...</th>\n",
       "      <th>picky,always down</th>\n",
       "      <th>proactive,reactive</th>\n",
       "      <th>prudish,flirtatious</th>\n",
       "      <th>innocent,jaded</th>\n",
       "      <th>touchy-feely,distant</th>\n",
       "      <th>muddy,washed</th>\n",
       "      <th>quirky,predictable</th>\n",
       "      <th>never cries,often crying</th>\n",
       "      <th>race.label</th>\n",
       "      <th>gender.label</th>\n",
       "    </tr>\n",
       "    <tr>\n",
       "      <th>id</th>\n",
       "      <th></th>\n",
       "      <th></th>\n",
       "      <th></th>\n",
       "      <th></th>\n",
       "      <th></th>\n",
       "      <th></th>\n",
       "      <th></th>\n",
       "      <th></th>\n",
       "      <th></th>\n",
       "      <th></th>\n",
       "      <th></th>\n",
       "      <th></th>\n",
       "      <th></th>\n",
       "      <th></th>\n",
       "      <th></th>\n",
       "      <th></th>\n",
       "      <th></th>\n",
       "      <th></th>\n",
       "      <th></th>\n",
       "      <th></th>\n",
       "      <th></th>\n",
       "    </tr>\n",
       "  </thead>\n",
       "  <tbody>\n",
       "    <tr>\n",
       "      <th>WE/1</th>\n",
       "      <td>36.4</td>\n",
       "      <td>98.8</td>\n",
       "      <td>72.3</td>\n",
       "      <td>47.3</td>\n",
       "      <td>24.2</td>\n",
       "      <td>29.3</td>\n",
       "      <td>75.4</td>\n",
       "      <td>64.7</td>\n",
       "      <td>82.1</td>\n",
       "      <td>57.2</td>\n",
       "      <td>...</td>\n",
       "      <td>60.4</td>\n",
       "      <td>74.0</td>\n",
       "      <td>83.9</td>\n",
       "      <td>78.7</td>\n",
       "      <td>70.9</td>\n",
       "      <td>33.2</td>\n",
       "      <td>31.3</td>\n",
       "      <td>31.8</td>\n",
       "      <td>white</td>\n",
       "      <td>0</td>\n",
       "    </tr>\n",
       "    <tr>\n",
       "      <th>WE/2</th>\n",
       "      <td>57.4</td>\n",
       "      <td>89.2</td>\n",
       "      <td>64.7</td>\n",
       "      <td>13.8</td>\n",
       "      <td>19.2</td>\n",
       "      <td>45.0</td>\n",
       "      <td>67.5</td>\n",
       "      <td>38.9</td>\n",
       "      <td>80.4</td>\n",
       "      <td>54.2</td>\n",
       "      <td>...</td>\n",
       "      <td>73.9</td>\n",
       "      <td>65.0</td>\n",
       "      <td>93.3</td>\n",
       "      <td>81.0</td>\n",
       "      <td>66.0</td>\n",
       "      <td>28.1</td>\n",
       "      <td>41.7</td>\n",
       "      <td>27.5</td>\n",
       "      <td>white</td>\n",
       "      <td>1</td>\n",
       "    </tr>\n",
       "    <tr>\n",
       "      <th>WE/3</th>\n",
       "      <td>26.8</td>\n",
       "      <td>57.4</td>\n",
       "      <td>9.1</td>\n",
       "      <td>92.1</td>\n",
       "      <td>27.1</td>\n",
       "      <td>66.8</td>\n",
       "      <td>44.0</td>\n",
       "      <td>74.3</td>\n",
       "      <td>34.0</td>\n",
       "      <td>12.3</td>\n",
       "      <td>...</td>\n",
       "      <td>71.4</td>\n",
       "      <td>44.9</td>\n",
       "      <td>76.8</td>\n",
       "      <td>31.4</td>\n",
       "      <td>13.3</td>\n",
       "      <td>84.4</td>\n",
       "      <td>12.7</td>\n",
       "      <td>72.8</td>\n",
       "      <td>white</td>\n",
       "      <td>0</td>\n",
       "    </tr>\n",
       "    <tr>\n",
       "      <th>WE/4</th>\n",
       "      <td>56.9</td>\n",
       "      <td>74.4</td>\n",
       "      <td>28.2</td>\n",
       "      <td>58.4</td>\n",
       "      <td>27.7</td>\n",
       "      <td>76.2</td>\n",
       "      <td>30.6</td>\n",
       "      <td>58.3</td>\n",
       "      <td>33.7</td>\n",
       "      <td>35.7</td>\n",
       "      <td>...</td>\n",
       "      <td>65.4</td>\n",
       "      <td>29.8</td>\n",
       "      <td>82.3</td>\n",
       "      <td>49.3</td>\n",
       "      <td>25.2</td>\n",
       "      <td>72.2</td>\n",
       "      <td>55.8</td>\n",
       "      <td>35.9</td>\n",
       "      <td>white</td>\n",
       "      <td>0</td>\n",
       "    </tr>\n",
       "    <tr>\n",
       "      <th>WE/5</th>\n",
       "      <td>23.6</td>\n",
       "      <td>36.0</td>\n",
       "      <td>29.4</td>\n",
       "      <td>60.6</td>\n",
       "      <td>85.8</td>\n",
       "      <td>58.8</td>\n",
       "      <td>6.8</td>\n",
       "      <td>68.0</td>\n",
       "      <td>37.4</td>\n",
       "      <td>13.3</td>\n",
       "      <td>...</td>\n",
       "      <td>78.3</td>\n",
       "      <td>56.3</td>\n",
       "      <td>36.9</td>\n",
       "      <td>34.9</td>\n",
       "      <td>30.3</td>\n",
       "      <td>52.4</td>\n",
       "      <td>39.6</td>\n",
       "      <td>75.1</td>\n",
       "      <td>black</td>\n",
       "      <td>1</td>\n",
       "    </tr>\n",
       "  </tbody>\n",
       "</table>\n",
       "<p>5 rows × 402 columns</p>\n",
       "</div>"
      ],
      "text/plain": [
       "      playful,serious  shy,bold  cheery,sorrowful  masculine,feminine  \\\n",
       "id                                                                      \n",
       "WE/1             36.4      98.8              72.3                47.3   \n",
       "WE/2             57.4      89.2              64.7                13.8   \n",
       "WE/3             26.8      57.4               9.1                92.1   \n",
       "WE/4             56.9      74.4              28.2                58.4   \n",
       "WE/5             23.6      36.0              29.4                60.6   \n",
       "\n",
       "      charming,awkward  lewd,tasteful  intellectual,physical  strict,lenient  \\\n",
       "id                                                                             \n",
       "WE/1              24.2           29.3                   75.4            64.7   \n",
       "WE/2              19.2           45.0                   67.5            38.9   \n",
       "WE/3              27.1           66.8                   44.0            74.3   \n",
       "WE/4              27.7           76.2                   30.6            58.3   \n",
       "WE/5              85.8           58.8                    6.8            68.0   \n",
       "\n",
       "      refined,rugged  trusting,suspicious  ...  picky,always down  \\\n",
       "id                                         ...                      \n",
       "WE/1            82.1                 57.2  ...               60.4   \n",
       "WE/2            80.4                 54.2  ...               73.9   \n",
       "WE/3            34.0                 12.3  ...               71.4   \n",
       "WE/4            33.7                 35.7  ...               65.4   \n",
       "WE/5            37.4                 13.3  ...               78.3   \n",
       "\n",
       "      proactive,reactive  prudish,flirtatious  innocent,jaded  \\\n",
       "id                                                              \n",
       "WE/1                74.0                 83.9            78.7   \n",
       "WE/2                65.0                 93.3            81.0   \n",
       "WE/3                44.9                 76.8            31.4   \n",
       "WE/4                29.8                 82.3            49.3   \n",
       "WE/5                56.3                 36.9            34.9   \n",
       "\n",
       "      touchy-feely,distant  muddy,washed  quirky,predictable  \\\n",
       "id                                                             \n",
       "WE/1                  70.9          33.2                31.3   \n",
       "WE/2                  66.0          28.1                41.7   \n",
       "WE/3                  13.3          84.4                12.7   \n",
       "WE/4                  25.2          72.2                55.8   \n",
       "WE/5                  30.3          52.4                39.6   \n",
       "\n",
       "      never cries,often crying  race.label  gender.label  \n",
       "id                                                        \n",
       "WE/1                      31.8       white             0  \n",
       "WE/2                      27.5       white             1  \n",
       "WE/3                      72.8       white             0  \n",
       "WE/4                      35.9       white             0  \n",
       "WE/5                      75.1       black             1  \n",
       "\n",
       "[5 rows x 402 columns]"
      ]
     },
     "execution_count": 28,
     "metadata": {},
     "output_type": "execute_result"
    }
   ],
   "source": [
    "merged_df = pd.read_csv('data/opendata-with-labels.csv', index_col=0).fillna(0)\n",
    "merged_df['gender.label'] = merged_df['gender.label'].apply(lambda label: 1 if label == 'male' else 0).apply(pd.to_numeric)\n",
    "\n",
    "merged_df.head(5)\n"
   ]
  },
  {
   "cell_type": "code",
   "execution_count": 29,
   "metadata": {},
   "outputs": [
    {
     "data": {
      "text/plain": [
       "(1462, 402)"
      ]
     },
     "execution_count": 29,
     "metadata": {},
     "output_type": "execute_result"
    }
   ],
   "source": [
    "merged_df.shape"
   ]
  },
  {
   "cell_type": "code",
   "execution_count": 30,
   "metadata": {},
   "outputs": [],
   "source": [
    "merged_df_cpy = merged_df.drop(['race.label', 'gender.label'], axis = 1)"
   ]
  },
  {
   "cell_type": "code",
   "execution_count": 33,
   "metadata": {},
   "outputs": [],
   "source": [
    "import imblearn\n",
    "oversample = imblearn.over_sampling.RandomOverSampler(sampling_strategy='all')\n",
    "\n",
    "X_over, y_over = oversample.fit_resample(merged_df_cpy, merged_df['race.label'])"
   ]
  },
  {
   "cell_type": "code",
   "execution_count": 34,
   "metadata": {},
   "outputs": [
    {
     "data": {
      "text/plain": [
       "hispanic           1196\n",
       "black              1196\n",
       "native american    1196\n",
       "indian             1196\n",
       "asian              1196\n",
       "mideast            1196\n",
       "white              1196\n",
       "Name: race.label, dtype: int64"
      ]
     },
     "execution_count": 34,
     "metadata": {},
     "output_type": "execute_result"
    }
   ],
   "source": [
    "y_over.value_counts()"
   ]
  },
  {
   "cell_type": "markdown",
   "metadata": {},
   "source": [
    "##### Standardize index names"
   ]
  },
  {
   "cell_type": "code",
   "execution_count": 35,
   "metadata": {},
   "outputs": [
    {
     "name": "stdout",
     "output_type": "stream",
     "text": [
      "Total Dual Traits: 400\n"
     ]
    }
   ],
   "source": [
    "traits_columns = list(filter(lambda col: ',' in col, merged_df.columns.values))\n",
    "\n",
    "print('Total Dual Traits:', len(traits_columns))"
   ]
  },
  {
   "cell_type": "code",
   "execution_count": 36,
   "metadata": {},
   "outputs": [],
   "source": [
    "from sklearn.model_selection import KFold, train_test_split\n",
    "from sklearn.metrics import mean_squared_error, accuracy_score\n",
    "\n",
    "def evaluate_classifier(label, model, classifier, X, y):\n",
    "    \n",
    "    k_fold = KFold(n_splits=5)\n",
    "    \n",
    "    total_accuracy = 0\n",
    "    total_tries = 0\n",
    "    \n",
    "    for train_index, test_index in k_fold.split(X):\n",
    "        X_train, X_test = X[train_index], X[test_index]\n",
    "        y_train, y_test = y[train_index], y[test_index]\n",
    "        \n",
    "        classifier.fit(X_train, y_train)\n",
    "\n",
    "        y_pred = classifier.predict(X_test)\n",
    "        accuracy = accuracy_score(y_test, y_pred, normalize=True)\n",
    "\n",
    "        total_accuracy += accuracy\n",
    "        total_tries += 1\n",
    "        \n",
    "    print(f'{label} Accuracy using {model}:', round(total_accuracy / total_tries, 4))\n",
    "\n",
    "\n",
    "def test_classifier(label, model, classifier, X, y, test_size=0.25):\n",
    "    \n",
    "    X_train, X_test, y_train, y_test = train_test_split(X, y, test_size=test_size)\n",
    "    \n",
    "    classifier.fit(X_train, y_train)\n",
    "\n",
    "    y_pred = classifier.predict(X_test)\n",
    "    accuracy = accuracy_score(y_test, y_pred, normalize=True)\n",
    "\n",
    "        \n",
    "    print(f'Final {label} Accuracy using {model}:', round(accuracy, 4))\n",
    "\n",
    "    \n",
    "\n"
   ]
  },
  {
   "cell_type": "markdown",
   "metadata": {},
   "source": [
    "# Predict the Gender"
   ]
  },
  {
   "cell_type": "code",
   "execution_count": 41,
   "metadata": {},
   "outputs": [
    {
     "name": "stdout",
     "output_type": "stream",
     "text": [
      "Gender Accuracy using AdaBoost: 0.3772\n",
      "Gender Accuracy using KNN - 3: 0.5979\n",
      "Gender Accuracy using Random Forest 2^8 estimators, Gini: 0.8572\n",
      "Gender Accuracy using Random Forest 2^8 estimators, Entropy: 0.8572\n",
      "Gender Accuracy using Logistic Regression L2: 0.8572\n",
      "Gender Accuracy using Ridge Classifier, alpha 0.1: 0.5963\n",
      "Gender Accuracy using Decision Tree, vanilla : 0.8572\n",
      "Final Gender Accuracy using Logistic Regression L2: 0.9919\n"
     ]
    }
   ],
   "source": [
    "from sklearn.linear_model import LassoCV, Ridge, RidgeClassifier, LogisticRegression\n",
    "from sklearn.tree import DecisionTreeClassifier\n",
    "from sklearn.model_selection import KFold, train_test_split\n",
    "from sklearn.metrics import mean_squared_error, accuracy_score\n",
    "from sklearn.ensemble import RandomForestClassifier, AdaBoostClassifier\n",
    "from sklearn.neighbors import KNeighborsClassifier\n",
    "\n",
    "# For gender prediction, we remove the 'masculine' label\n",
    "gender_columns = list(filter(lambda trait: 'masculine' not in trait, traits_columns))\n",
    "X = X_over[gender_columns].values\n",
    "y = y_over.values\n",
    "\n",
    "\n",
    "evaluate_classifier('Gender', 'AdaBoost', AdaBoostClassifier(), X, y)\n",
    "evaluate_classifier('Gender', 'KNN - 3', KNeighborsClassifier(3), X, y)\n",
    "evaluate_classifier('Gender', 'Random Forest 2^8 estimators, Gini', RandomForestClassifier(n_estimators=2**8, criterion='gini'), X, y)\n",
    "evaluate_classifier('Gender', 'Random Forest 2^8 estimators, Entropy', RandomForestClassifier(n_estimators=2**8, criterion='entropy'), X, y)\n",
    "evaluate_classifier('Gender', 'Logistic Regression L2', LogisticRegression(penalty='l2', max_iter=5000), X, y)\n",
    "evaluate_classifier('Gender', 'Ridge Classifier, alpha 0.1', RidgeClassifier(alpha=0.1), X, y)\n",
    "evaluate_classifier('Gender', 'Decision Tree, vanilla ', DecisionTreeClassifier(), X, y)\n",
    "\n",
    "test_classifier('Gender', 'Logistic Regression L2', LogisticRegression(penalty='l2', max_iter=5000), X, y, test_size=0.25)\n"
   ]
  },
  {
   "cell_type": "code",
   "execution_count": 39,
   "metadata": {},
   "outputs": [
    {
     "data": {
      "text/plain": [
       "1    889\n",
       "0    573\n",
       "Name: gender.label, dtype: int64"
      ]
     },
     "execution_count": 39,
     "metadata": {},
     "output_type": "execute_result"
    }
   ],
   "source": [
    "merged_df['gender.label'].value_counts()"
   ]
  },
  {
   "cell_type": "markdown",
   "metadata": {},
   "source": [
    "# Predict the Race"
   ]
  },
  {
   "cell_type": "code",
   "execution_count": 40,
   "metadata": {},
   "outputs": [
    {
     "name": "stdout",
     "output_type": "stream",
     "text": [
      "Race Accuracy using AdaBoost: 0.8256\n",
      "Race Accuracy using KNN - 3: 0.7832\n",
      "Race Accuracy using Random Forest 2^8 estimators, Gini: 0.842\n",
      "Race Accuracy using Random Forest 2^8 estimators, Entropy: 0.8359\n",
      "Race Accuracy using Logistic Regression L2, 10000 iterations: 0.8762\n",
      "Race Accuracy using Ridge Classifier, alpha 0.1 : 0.8885\n",
      "Race Accuracy using Decision Tree, vanilla : 0.7955\n",
      "Final Race Accuracy using Random Forest 2^8 estimators, Entropy: 0.8388\n",
      "Final Race Accuracy using Ridge Classifier, alpha 0.1 : 0.8825\n"
     ]
    }
   ],
   "source": [
    "from sklearn.linear_model import LassoCV, Ridge, RidgeClassifier, LogisticRegression\n",
    "from sklearn.tree import DecisionTreeClassifier, plot_tree\n",
    "from sklearn.ensemble import RandomForestClassifier\n",
    "from sklearn.model_selection import KFold, train_test_split\n",
    "from sklearn.metrics import mean_squared_error, accuracy_score\n",
    "from sklearn.preprocessing import LabelEncoder\n",
    "from sklearn.neighbors import KNeighborsClassifier\n",
    "\n",
    "# For gender prediction, we remove the 'masculine' label\n",
    "race_columns = list(traits_columns)\n",
    "#race_columns.append('gender.label')\n",
    "\n",
    "y_encoder = LabelEncoder()\n",
    "\n",
    "X = merged_df[race_columns].values\n",
    "y = y_encoder.fit_transform(merged_df['race.label'])\n",
    "\n",
    "evaluate_classifier('Race', 'AdaBoost', AdaBoostClassifier(), X, y)\n",
    "evaluate_classifier('Race', 'KNN - 3', KNeighborsClassifier(3), X, y)\n",
    "evaluate_classifier('Race', 'Random Forest 2^8 estimators, Gini', RandomForestClassifier(n_estimators=2**8, criterion='gini'), X, y)\n",
    "evaluate_classifier('Race', 'Random Forest 2^8 estimators, Entropy', RandomForestClassifier(n_estimators=2**8, criterion='entropy'), X, y)\n",
    "evaluate_classifier('Race', 'Logistic Regression L2, 10000 iterations', LogisticRegression(penalty='l2', max_iter=10000), X, y)\n",
    "evaluate_classifier('Race', 'Ridge Classifier, alpha 0.1 ', RidgeClassifier(alpha=0.1), X, y)\n",
    "evaluate_classifier('Race', 'Decision Tree, vanilla ', DecisionTreeClassifier(), X, y)\n",
    "\n",
    "test_classifier('Race', 'Random Forest 2^8 estimators, Entropy', RandomForestClassifier(n_estimators=2**8, criterion='entropy'), X, y, test_size=0.25)\n",
    "test_classifier('Race', 'Ridge Classifier, alpha 0.1 ', RidgeClassifier(alpha=0.1), X, y, test_size=0.25)\n"
   ]
  },
  {
   "cell_type": "code",
   "execution_count": null,
   "metadata": {},
   "outputs": [],
   "source": [
    "from sklearn import tree\n",
    "from matplotlib import pyplot as plt\n",
    "\n",
    "decision_tree_classifier = DecisionTreeClassifier(criterion='gini')  \n",
    "decision_tree_classifier.fit(X, y)\n",
    "\n",
    "\n",
    "\n",
    "fig = plt.figure(figsize=(100,40))\n",
    "_ = tree.plot_tree(decision_tree_classifier, \n",
    "                   feature_names=race_columns,  \n",
    "                   class_names=y_encoder.classes_,\n",
    "                   filled=True,\n",
    "                   label='all')"
   ]
  },
  {
   "cell_type": "code",
   "execution_count": null,
   "metadata": {},
   "outputs": [],
   "source": [
    "merged_df['race.label'].value_counts()['white'] / len(merged_df['race.label'])"
   ]
  },
  {
   "cell_type": "code",
   "execution_count": null,
   "metadata": {},
   "outputs": [],
   "source": [
    "merged_df['race.label'].value_counts()"
   ]
  },
  {
   "cell_type": "code",
   "execution_count": 50,
   "metadata": {},
   "outputs": [
    {
     "data": {
      "text/plain": [
       "1462"
      ]
     },
     "execution_count": 50,
     "metadata": {},
     "output_type": "execute_result"
    }
   ],
   "source": [
    "len(merged_df['race.label'])"
   ]
  },
  {
   "cell_type": "code",
   "execution_count": null,
   "metadata": {},
   "outputs": [],
   "source": []
  }
 ],
 "metadata": {
  "kernelspec": {
   "display_name": "Python 3",
   "language": "python",
   "name": "python3"
  },
  "language_info": {
   "codemirror_mode": {
    "name": "ipython",
    "version": 3
   },
   "file_extension": ".py",
   "mimetype": "text/x-python",
   "name": "python",
   "nbconvert_exporter": "python",
   "pygments_lexer": "ipython3",
   "version": "3.7.6"
  }
 },
 "nbformat": 4,
 "nbformat_minor": 4
}
