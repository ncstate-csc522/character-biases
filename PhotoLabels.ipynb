{
 "cells": [
  {
   "cell_type": "markdown",
   "metadata": {},
   "source": [
    "## Photo Labels\n",
    "Use each photo on the `images` directory and obtain the labels from Betafaceapi.com"
   ]
  },
  {
   "cell_type": "code",
   "execution_count": 1,
   "metadata": {},
   "outputs": [],
   "source": [
    "import requests\n",
    "import os\n",
    "import base64\n",
    "import pandas as pd\n",
    "import pickle\n",
    "from tqdm import tqdm\n"
   ]
  },
  {
   "cell_type": "code",
   "execution_count": 2,
   "metadata": {},
   "outputs": [
    {
     "name": "stdout",
     "output_type": "stream",
     "text": [
      "Importing pickle...\n"
     ]
    }
   ],
   "source": [
    "if os.path.exists('data/image_labels.pkl'):\n",
    "    print('Importing pickle...')\n",
    "    f = open(\"data/image_labels.pkl\",\"rb\")\n",
    "    \n",
    "    image_labels = pickle.load(f)\n",
    "    f.close()\n",
    "\n",
    "else:\n",
    "    print('Pickle not found, creating new dictionary')\n",
    "    image_labels = dict()\n",
    "    "
   ]
  },
  {
   "cell_type": "code",
   "execution_count": 3,
   "metadata": {},
   "outputs": [
    {
     "name": "stderr",
     "output_type": "stream",
     "text": [
      "  0%|          | 5/1600 [00:00<04:50,  5.49it/s]"
     ]
    },
    {
     "name": "stdout",
     "output_type": "stream",
     "text": [
      "Error detecting A5.jpg {'media': {'media_uuid': '8222099c-641a-4fb8-8151-21f1ace42eb8', 'checksum': '7c523f8504d1e55c6833f73594dd636487753924be1740337e0e0dc59abeb5f8', 'faces': None, 'tags': [{'name': 'adult content', 'value': 'no', 'confidence': 0.06, 'x': 0.0, 'y': 0.0, 'width': 0.0, 'height': 0.0, 'angle': 0.0, 'instance_id': 0, 'start': '00:00:00', 'duration': '00:00:00'}], 'original_filename': 'A5.jpg', 'duration': '00:00:00'}, 'recognize': None}\n"
     ]
    },
    {
     "name": "stderr",
     "output_type": "stream",
     "text": [
      "\r",
      "  2%|▏         | 30/1600 [00:01<03:35,  7.29it/s]"
     ]
    },
    {
     "name": "stdout",
     "output_type": "stream",
     "text": [
      "Error detecting AL1.jpg {'media': {'media_uuid': '45f5e755-3c82-4232-992a-a18fffc2fdf9', 'checksum': '2ddcdb0dc064002eb3a7bf22c634e6ed725c0e899fe80ae327e1d0366cc675a8', 'faces': None, 'tags': [{'name': 'adult content', 'value': 'no', 'confidence': 0.01, 'x': 0.0, 'y': 0.0, 'width': 0.0, 'height': 0.0, 'angle': 0.0, 'instance_id': 0, 'start': '00:00:00', 'duration': '00:00:00'}], 'original_filename': 'AL1.jpg', 'duration': '00:00:00'}, 'recognize': None}\n"
     ]
    },
    {
     "name": "stderr",
     "output_type": "stream",
     "text": [
      "\r",
      "  2%|▏         | 32/1600 [00:02<05:12,  5.02it/s]"
     ]
    },
    {
     "name": "stdout",
     "output_type": "stream",
     "text": [
      "Error detecting AL2.jpg {'media': {'media_uuid': 'a08b6502-bf41-43fa-8b43-69ef93bb1f02', 'checksum': '7e8fcdaf5994e4edcd802e213ee4f66da78e7d564475f25cfa0abe26e7116dcd', 'faces': None, 'tags': [{'name': 'adult content', 'value': 'no', 'confidence': 0.03, 'x': 0.0, 'y': 0.0, 'width': 0.0, 'height': 0.0, 'angle': 0.0, 'instance_id': 0, 'start': '00:00:00', 'duration': '00:00:00'}], 'original_filename': 'AL2.jpg', 'duration': '00:00:00'}, 'recognize': None}\n"
     ]
    },
    {
     "name": "stderr",
     "output_type": "stream",
     "text": [
      "\r",
      "  2%|▏         | 37/1600 [00:03<04:52,  5.34it/s]"
     ]
    },
    {
     "name": "stdout",
     "output_type": "stream",
     "text": [
      "Error detecting ALA4.jpg {'media': {'media_uuid': '7afa9914-1e1f-4c74-908d-9facaa929e10', 'checksum': '701f28223baa8e7da4ce20774b0c5190ad4041c2c460ee591d2ab25e1e932126', 'faces': None, 'tags': [{'name': 'adult content', 'value': 'no', 'confidence': 0.0, 'x': 0.0, 'y': 0.0, 'width': 0.0, 'height': 0.0, 'angle': 0.0, 'instance_id': 0, 'start': '00:00:00', 'duration': '00:00:00'}], 'original_filename': 'ALA4.jpg', 'duration': '00:00:00'}, 'recognize': None}\n"
     ]
    },
    {
     "name": "stderr",
     "output_type": "stream",
     "text": [
      "\r",
      "  2%|▎         | 40/1600 [00:03<05:19,  4.89it/s]"
     ]
    },
    {
     "name": "stdout",
     "output_type": "stream",
     "text": [
      "Error detecting ALA7.jpg {'media': {'media_uuid': '5f61b0f7-1224-4720-bc69-78a4df1cf6f1', 'checksum': '517167cadf642935fa73a89a7e616ed25c689bffbff5b293e117dc1604003331', 'faces': None, 'tags': [{'name': 'adult content', 'value': 'no', 'confidence': 0.01, 'x': 0.0, 'y': 0.0, 'width': 0.0, 'height': 0.0, 'angle': 0.0, 'instance_id': 0, 'start': '00:00:00', 'duration': '00:00:00'}], 'original_filename': 'ALA7.jpg', 'duration': '00:00:00'}, 'recognize': None}\n"
     ]
    },
    {
     "name": "stderr",
     "output_type": "stream",
     "text": [
      "\r",
      "  3%|▎         | 42/1600 [00:04<06:23,  4.06it/s]"
     ]
    },
    {
     "name": "stdout",
     "output_type": "stream",
     "text": [
      "Error detecting ALA9.jpg {'media': {'media_uuid': '0cb6bb55-81d8-4cd3-8314-d28ed9d96476', 'checksum': '8568273165eca282b5ee3c92018cb9a1866651e89c9ca12b4e88695cabb5e773', 'faces': None, 'tags': [{'name': 'adult content', 'value': 'no', 'confidence': 0.0, 'x': 0.0, 'y': 0.0, 'width': 0.0, 'height': 0.0, 'angle': 0.0, 'instance_id': 0, 'start': '00:00:00', 'duration': '00:00:00'}], 'original_filename': 'ALA9.jpg', 'duration': '00:00:00'}, 'recognize': None}\n"
     ]
    },
    {
     "name": "stderr",
     "output_type": "stream",
     "text": [
      "\r",
      "  5%|▌         | 85/1600 [00:05<04:28,  5.64it/s]"
     ]
    },
    {
     "name": "stdout",
     "output_type": "stream",
     "text": [
      "Error detecting BATB3.jpg {'media': {'media_uuid': '06bfd314-63cb-49e1-ae7d-b25f8991b042', 'checksum': 'cd84db943d3208a4788024157b16447ccaf0647fb52f5888b2421320006cf610', 'faces': None, 'tags': [{'name': 'adult content', 'value': 'no', 'confidence': 0.01, 'x': 0.0, 'y': 0.0, 'width': 0.0, 'height': 0.0, 'angle': 0.0, 'instance_id': 0, 'start': '00:00:00', 'duration': '00:00:00'}], 'original_filename': 'BATB3.jpg', 'duration': '00:00:00'}, 'recognize': None}\n",
      "Error detecting BATB5.jpg {'media': {'media_uuid': 'a2c4b416-e626-44f6-9ace-fe70848f5ebb', 'checksum': '25dcd7a43bfd9427ae7c2793c053cb158546e69dc23d13978b9ac9e53489554f', 'faces': None, 'tags': [{'name': 'adult content', 'value': 'no', 'confidence': 0.01, 'x': 0.0, 'y': 0.0, 'width': 0.0, 'height': 0.0, 'angle': 0.0, 'instance_id': 0, 'start': '00:00:00', 'duration': '00:00:00'}], 'original_filename': 'BATB5.jpg', 'duration': '00:00:00'}, 'recognize': None}\n"
     ]
    },
    {
     "name": "stderr",
     "output_type": "stream",
     "text": [
      "\r",
      "  6%|▌         | 88/1600 [00:06<06:47,  3.71it/s]"
     ]
    },
    {
     "name": "stdout",
     "output_type": "stream",
     "text": [
      "Error detecting BATB6.jpg {'media': {'media_uuid': 'ff8f201c-84d7-4309-a31b-6ce4be97affc', 'checksum': '5430ad18691fc7633a4c8267dffd920642a103f82886cde403f03d022d5bbbb2', 'faces': None, 'tags': [{'name': 'adult content', 'value': 'no', 'confidence': 0.0, 'x': 0.0, 'y': 0.0, 'width': 0.0, 'height': 0.0, 'angle': 0.0, 'instance_id': 0, 'start': '00:00:00', 'duration': '00:00:00'}], 'original_filename': 'BATB6.jpg', 'duration': '00:00:00'}, 'recognize': None}\n"
     ]
    },
    {
     "name": "stderr",
     "output_type": "stream",
     "text": [
      "\r",
      " 10%|▉         | 152/1600 [00:07<04:37,  5.22it/s]"
     ]
    },
    {
     "name": "stdout",
     "output_type": "stream",
     "text": [
      "Error detecting BOBB1.jpg {'media': {'media_uuid': 'c4fc47d9-fc53-491b-b12d-7e17b9cb3213', 'checksum': '16218aaea22feb2f07b1a9e2ce119a4d9f98e295f13fd3df7d86e0b590cfd08c', 'faces': None, 'tags': [{'name': 'adult content', 'value': 'no', 'confidence': 0.0, 'x': 0.0, 'y': 0.0, 'width': 0.0, 'height': 0.0, 'angle': 0.0, 'instance_id': 0, 'start': '00:00:00', 'duration': '00:00:00'}], 'original_filename': 'BOBB1.jpg', 'duration': '00:00:00'}, 'recognize': None}\n",
      "Error detecting BOBB2.jpg {'media': {'media_uuid': '30a0468c-6846-4493-92ce-b0a5a534f645', 'checksum': 'ad55f7fa045b3c36ae2bf808c0291f46c8298dcac2f01bf05691c81910a6036a', 'faces': None, 'tags': [{'name': 'adult content', 'value': 'no', 'confidence': 0.12, 'x': 0.0, 'y': 0.0, 'width': 0.0, 'height': 0.0, 'angle': 0.0, 'instance_id': 0, 'start': '00:00:00', 'duration': '00:00:00'}], 'original_filename': 'BOBB2.jpg', 'duration': '00:00:00'}, 'recognize': None}\n",
      "Error detecting BOBB3.jpg {'media': {'media_uuid': '4e545f47-2215-4854-a30f-9c3c61cccf4f', 'checksum': 'f1d286d979cfe6a141d3591d718bd2ae5dd4d187869ffb7498fdeb366c1573be', 'faces': None, 'tags': [{'name': 'adult content', 'value': 'no', 'confidence': 0.0, 'x': 0.0, 'y': 0.0, 'width': 0.0, 'height': 0.0, 'angle': 0.0, 'instance_id': 0, 'start': '00:00:00', 'duration': '00:00:00'}], 'original_filename': 'BOBB3.jpg', 'duration': '00:00:00'}, 'recognize': None}\n",
      "Error detecting BOBB4.jpg {'media': {'media_uuid': '1a2a7bf9-929d-4e60-b6db-58761f9b2191', 'checksum': 'a6d331e25f9ff6cdbfacc3928f6fe5df1e6c9863c1ce7d0d25cd7aeb00055754', 'faces': None, 'tags': [{'name': 'adult content', 'value': 'no', 'confidence': 0.01, 'x': 0.0, 'y': 0.0, 'width': 0.0, 'height': 0.0, 'angle': 0.0, 'instance_id': 0, 'start': '00:00:00', 'duration': '00:00:00'}], 'original_filename': 'BOBB4.jpg', 'duration': '00:00:00'}, 'recognize': None}\n"
     ]
    },
    {
     "name": "stderr",
     "output_type": "stream",
     "text": [
      "\r",
      " 10%|▉         | 157/1600 [00:10<07:07,  3.38it/s]"
     ]
    },
    {
     "name": "stdout",
     "output_type": "stream",
     "text": [
      "Error detecting BOBB5.jpg {'media': {'media_uuid': '7bb655c9-054d-4b99-a9e1-621399e77243', 'checksum': 'fb3577fae744843b0017c025f31cca693b1fde512788c613c4fee124378b826f', 'faces': None, 'tags': [{'name': 'adult content', 'value': 'no', 'confidence': 0.02, 'x': 0.0, 'y': 0.0, 'width': 0.0, 'height': 0.0, 'angle': 0.0, 'instance_id': 0, 'start': '00:00:00', 'duration': '00:00:00'}], 'original_filename': 'BOBB5.jpg', 'duration': '00:00:00'}, 'recognize': None}\n"
     ]
    },
    {
     "name": "stderr",
     "output_type": "stream",
     "text": [
      "\r",
      " 13%|█▎        | 202/1600 [00:10<04:56,  4.71it/s]"
     ]
    },
    {
     "name": "stdout",
     "output_type": "stream",
     "text": [
      "Error detecting CAD1.jpg {'media': {'media_uuid': '37754a36-51d4-4828-9b53-cad1e918210a', 'checksum': '83d3f44004538593b8eff66e4e6e4eadd6586c9b32e222c80b6e89c084087c14', 'faces': None, 'tags': [{'name': 'adult content', 'value': 'no', 'confidence': 0.01, 'x': 0.0, 'y': 0.0, 'width': 0.0, 'height': 0.0, 'angle': 0.0, 'instance_id': 0, 'start': '00:00:00', 'duration': '00:00:00'}], 'original_filename': 'CAD1.jpg', 'duration': '00:00:00'}, 'recognize': None}\n",
      "Error detecting CAD2.jpg {'media': {'media_uuid': '56d11ae3-3c56-4bea-b04a-77c4c5c8b30d', 'checksum': '575104a21766fabb9ebbf72551ee53cc4b72bb5fff1b95cc06e56c1f2db28a01', 'faces': None, 'tags': [{'name': 'adult content', 'value': 'no', 'confidence': 0.0, 'x': 0.0, 'y': 0.0, 'width': 0.0, 'height': 0.0, 'angle': 0.0, 'instance_id': 0, 'start': '00:00:00', 'duration': '00:00:00'}], 'original_filename': 'CAD2.jpg', 'duration': '00:00:00'}, 'recognize': None}\n"
     ]
    },
    {
     "name": "stderr",
     "output_type": "stream",
     "text": [
      "\r",
      " 13%|█▎        | 207/1600 [00:12<05:21,  4.33it/s]"
     ]
    },
    {
     "name": "stdout",
     "output_type": "stream",
     "text": [
      "Error detecting CAD3.jpg {'media': {'media_uuid': '77f7b6ca-a120-499e-9f18-21a671e7ffd0', 'checksum': '66da5e1206ef6929ac2453e61e2517bec8862f3aef1b867e13d6189da427b5b2', 'faces': None, 'tags': [{'name': 'adult content', 'value': 'no', 'confidence': 0.01, 'x': 0.0, 'y': 0.0, 'width': 0.0, 'height': 0.0, 'angle': 0.0, 'instance_id': 0, 'start': '00:00:00', 'duration': '00:00:00'}], 'original_filename': 'CAD3.jpg', 'duration': '00:00:00'}, 'recognize': None}\n"
     ]
    },
    {
     "name": "stderr",
     "output_type": "stream",
     "text": [
      "\r",
      " 14%|█▍        | 223/1600 [00:12<04:00,  5.72it/s]"
     ]
    },
    {
     "name": "stdout",
     "output_type": "stream",
     "text": [
      "Error detecting CBP6.jpg {'media': {'media_uuid': 'b1f9804c-1f79-4687-95ba-e259d3a01ac8', 'checksum': 'b5ccfc670fe1b8fcb19666cdb3f7c9bbe4a8bdac481a2ed38d598dd0bb1bdfb8', 'faces': None, 'tags': [{'name': 'adult content', 'value': 'no', 'confidence': 0.0, 'x': 0.0, 'y': 0.0, 'width': 0.0, 'height': 0.0, 'angle': 0.0, 'instance_id': 0, 'start': '00:00:00', 'duration': '00:00:00'}], 'original_filename': 'CBP6.jpg', 'duration': '00:00:00'}, 'recognize': None}\n"
     ]
    },
    {
     "name": "stderr",
     "output_type": "stream",
     "text": [
      "\r",
      " 14%|█▍        | 230/1600 [00:13<03:28,  6.58it/s]"
     ]
    },
    {
     "name": "stdout",
     "output_type": "stream",
     "text": [
      "Error detecting CH1.jpg {'media': {'media_uuid': '530ebe70-711c-4ca7-bfce-7c7da7a2f9b3', 'checksum': '7979d08951aedd4ae5b86a6a5ce31846694bf56ef8b87a41caa527c7d9e9a83a', 'faces': None, 'tags': [{'name': 'adult content', 'value': 'no', 'confidence': 0.03, 'x': 0.0, 'y': 0.0, 'width': 0.0, 'height': 0.0, 'angle': 0.0, 'instance_id': 0, 'start': '00:00:00', 'duration': '00:00:00'}], 'original_filename': 'CH1.jpg', 'duration': '00:00:00'}, 'recognize': None}\n",
      "Error detecting CH2.jpg {'media': {'media_uuid': '2b899942-d6b3-47cc-a218-b4eb31de1bcd', 'checksum': '9fcf8fe1e9e573b24d8a8b204145ca7421806b1b1511a2bc5751f8c0c029707c', 'faces': None, 'tags': [{'name': 'adult content', 'value': 'no', 'confidence': 0.01, 'x': 0.0, 'y': 0.0, 'width': 0.0, 'height': 0.0, 'angle': 0.0, 'instance_id': 0, 'start': '00:00:00', 'duration': '00:00:00'}], 'original_filename': 'CH2.jpg', 'duration': '00:00:00'}, 'recognize': None}\n",
      "Error detecting CH3.jpg {'media': {'media_uuid': '8c7a1001-6f1b-4f43-b519-a7ea1adcdaa1', 'checksum': '0502d13fd069d432d6f03c90759d414ddcbf66c29bd210f8905276c568b4e7a8', 'faces': None, 'tags': [{'name': 'adult content', 'value': 'no', 'confidence': 0.03, 'x': 0.0, 'y': 0.0, 'width': 0.0, 'height': 0.0, 'angle': 0.0, 'instance_id': 0, 'start': '00:00:00', 'duration': '00:00:00'}], 'original_filename': 'CH3.jpg', 'duration': '00:00:00'}, 'recognize': None}\n"
     ]
    },
    {
     "name": "stderr",
     "output_type": "stream",
     "text": [
      "\r",
      " 15%|█▍        | 233/1600 [00:15<07:17,  3.12it/s]"
     ]
    },
    {
     "name": "stdout",
     "output_type": "stream",
     "text": [
      "Error detecting CH4.jpg {'media': {'media_uuid': '95dd14ef-b2d9-4460-a2f9-54e3fe30f74a', 'checksum': '6b6ca4fb36f77148fd821366ef4b5f111254ff2eb6abcabbf5b7e80d5b393fd3', 'faces': None, 'tags': [{'name': 'adult content', 'value': 'no', 'confidence': 0.01, 'x': 0.0, 'y': 0.0, 'width': 0.0, 'height': 0.0, 'angle': 0.0, 'instance_id': 0, 'start': '00:00:00', 'duration': '00:00:00'}], 'original_filename': 'CH4.jpg', 'duration': '00:00:00'}, 'recognize': None}\n"
     ]
    },
    {
     "name": "stderr",
     "output_type": "stream",
     "text": [
      "\r",
      " 15%|█▍        | 235/1600 [00:16<07:33,  3.01it/s]"
     ]
    },
    {
     "name": "stdout",
     "output_type": "stream",
     "text": [
      "Error detecting CH5.jpg {'media': {'media_uuid': '26c18d39-7aba-4bf8-8969-296783b5cf16', 'checksum': 'f8e195b918a072d2bb844722eafadaaf9e2222c5fd756e1fefd6bfd5261cfb60', 'faces': None, 'tags': [{'name': 'adult content', 'value': 'no', 'confidence': 0.0, 'x': 0.0, 'y': 0.0, 'width': 0.0, 'height': 0.0, 'angle': 0.0, 'instance_id': 0, 'start': '00:00:00', 'duration': '00:00:00'}], 'original_filename': 'CH5.jpg', 'duration': '00:00:00'}, 'recognize': None}\n"
     ]
    },
    {
     "name": "stderr",
     "output_type": "stream",
     "text": [
      "\r",
      " 16%|█▌        | 251/1600 [00:17<05:31,  4.07it/s]"
     ]
    },
    {
     "name": "stdout",
     "output_type": "stream",
     "text": [
      "Error detecting COCO5.jpg {'media': {'media_uuid': 'fbb57773-31c0-43d3-9c65-2d09ecbf7eb8', 'checksum': '91cfb37168437b9d3d462343bfc43e8f0e5b9252f3cd0f7809a1c443578a4e65', 'faces': None, 'tags': [{'name': 'adult content', 'value': 'no', 'confidence': 0.05, 'x': 0.0, 'y': 0.0, 'width': 0.0, 'height': 0.0, 'angle': 0.0, 'instance_id': 0, 'start': '00:00:00', 'duration': '00:00:00'}], 'original_filename': 'COCO5.jpg', 'duration': '00:00:00'}, 'recognize': None}\n"
     ]
    },
    {
     "name": "stderr",
     "output_type": "stream",
     "text": [
      "\r",
      " 17%|█▋        | 277/1600 [00:17<03:58,  5.56it/s]"
     ]
    },
    {
     "name": "stdout",
     "output_type": "stream",
     "text": [
      "Error detecting D4.jpg {'media': {'media_uuid': 'c65e9671-6f6a-4bcd-a1c9-5eb5ac8bda58', 'checksum': '3109724c534b97ae93d0383c721151cc2db57cc21d6e81618f85c2680e77db1b', 'faces': None, 'tags': [{'name': 'adult content', 'value': 'no', 'confidence': 0.01, 'x': 0.0, 'y': 0.0, 'width': 0.0, 'height': 0.0, 'angle': 0.0, 'instance_id': 0, 'start': '00:00:00', 'duration': '00:00:00'}], 'original_filename': 'D4.jpg', 'duration': '00:00:00'}, 'recognize': None}\n"
     ]
    },
    {
     "name": "stderr",
     "output_type": "stream",
     "text": [
      "\r",
      " 21%|██▏       | 341/1600 [00:18<02:42,  7.74it/s]"
     ]
    },
    {
     "name": "stdout",
     "output_type": "stream",
     "text": [
      "Error detecting DS2.jpg {'media': {'media_uuid': '2a0e57cd-8213-4c56-9fb8-5ee0ce12f224', 'checksum': '2d78237b17d8a2034687ad8c5e9d2a42a3e31da58f56f9823b5c44f5c3251441', 'faces': None, 'tags': [{'name': 'adult content', 'value': 'no', 'confidence': 0.01, 'x': 0.0, 'y': 0.0, 'width': 0.0, 'height': 0.0, 'angle': 0.0, 'instance_id': 0, 'start': '00:00:00', 'duration': '00:00:00'}], 'original_filename': 'DS2.jpg', 'duration': '00:00:00'}, 'recognize': None}\n"
     ]
    },
    {
     "name": "stderr",
     "output_type": "stream",
     "text": [
      "\r",
      " 24%|██▍       | 385/1600 [00:19<01:55, 10.52it/s]"
     ]
    },
    {
     "name": "stdout",
     "output_type": "stream",
     "text": [
      "Error detecting ESSM3.jpg {'media': {'media_uuid': 'fdd8b225-76fc-45e3-af6c-f65792478c7d', 'checksum': '9ed8d38ca72b7997f2cbc00458a4c7af61f9efd9de2b7e9a4e76a25c716e1f84', 'faces': None, 'tags': [{'name': 'adult content', 'value': 'no', 'confidence': 0.01, 'x': 0.0, 'y': 0.0, 'width': 0.0, 'height': 0.0, 'angle': 0.0, 'instance_id': 0, 'start': '00:00:00', 'duration': '00:00:00'}], 'original_filename': 'ESSM3.jpg', 'duration': '00:00:00'}, 'recognize': None}\n"
     ]
    },
    {
     "name": "stderr",
     "output_type": "stream",
     "text": [
      "\r",
      " 25%|██▍       | 395/1600 [00:19<01:45, 11.47it/s]"
     ]
    },
    {
     "name": "stdout",
     "output_type": "stream",
     "text": [
      "Error detecting FAR4.jpg {'media': {'media_uuid': '2e503513-95f6-4e30-8423-5bfb7d850690', 'checksum': '96da4d1d50cb8e8ebc63c490104a56a3db479c22752fe6f4900703fdceb47897', 'faces': None, 'tags': [{'name': 'adult content', 'value': 'no', 'confidence': 0.0, 'x': 0.0, 'y': 0.0, 'width': 0.0, 'height': 0.0, 'angle': 0.0, 'instance_id': 0, 'start': '00:00:00', 'duration': '00:00:00'}], 'original_filename': 'FAR4.jpg', 'duration': '00:00:00'}, 'recognize': None}\n"
     ]
    },
    {
     "name": "stderr",
     "output_type": "stream",
     "text": [
      "\r",
      " 25%|██▍       | 399/1600 [00:20<02:16,  8.79it/s]"
     ]
    },
    {
     "name": "stdout",
     "output_type": "stream",
     "text": [
      "Error detecting FAR6.jpg {'media': {'media_uuid': 'c32c82c3-8041-493d-906c-f8f44cc1feb9', 'checksum': '6b205951744ce802c35ac41b2a59ed202a07b71db2ff9b7e77fd5b09b561bf94', 'faces': None, 'tags': [{'name': 'adult content', 'value': 'no', 'confidence': 0.0, 'x': 0.0, 'y': 0.0, 'width': 0.0, 'height': 0.0, 'angle': 0.0, 'instance_id': 0, 'start': '00:00:00', 'duration': '00:00:00'}], 'original_filename': 'FAR6.jpg', 'duration': '00:00:00'}, 'recognize': None}\n"
     ]
    },
    {
     "name": "stderr",
     "output_type": "stream",
     "text": [
      "\r",
      " 26%|██▋       | 420/1600 [00:21<01:45, 11.18it/s]"
     ]
    },
    {
     "name": "stdout",
     "output_type": "stream",
     "text": [
      "Error detecting FN2.jpg {'media': {'media_uuid': 'cb9d9385-1407-4cf4-a638-728b27f47829', 'checksum': '244ae29d2b6443c65453afe7793c08e617b615541045b94a1442fc2790541a99', 'faces': None, 'tags': [{'name': 'adult content', 'value': 'no', 'confidence': 0.0, 'x': 0.0, 'y': 0.0, 'width': 0.0, 'height': 0.0, 'angle': 0.0, 'instance_id': 0, 'start': '00:00:00', 'duration': '00:00:00'}], 'original_filename': 'FN2.jpg', 'duration': '00:00:00'}, 'recognize': None}\n"
     ]
    },
    {
     "name": "stderr",
     "output_type": "stream",
     "text": [
      "\r",
      " 26%|██▋       | 423/1600 [00:21<02:23,  8.19it/s]"
     ]
    },
    {
     "name": "stdout",
     "output_type": "stream",
     "text": [
      "Error detecting FN3.jpg {'media': {'media_uuid': '72121250-8016-40c1-aca7-1e091de7ebb1', 'checksum': '438dd2bb6fc3b7fce928bf77c87c9d31f925360920cf52c8479920cc1b10a40b', 'faces': None, 'tags': [{'name': 'adult content', 'value': 'no', 'confidence': 0.0, 'x': 0.0, 'y': 0.0, 'width': 0.0, 'height': 0.0, 'angle': 0.0, 'instance_id': 0, 'start': '00:00:00', 'duration': '00:00:00'}], 'original_filename': 'FN3.jpg', 'duration': '00:00:00'}, 'recognize': None}\n"
     ]
    },
    {
     "name": "stderr",
     "output_type": "stream",
     "text": [
      "\r",
      " 27%|██▋       | 435/1600 [00:22<02:00,  9.67it/s]"
     ]
    },
    {
     "name": "stdout",
     "output_type": "stream",
     "text": [
      "Error detecting FR4.jpg {'media': {'media_uuid': '3d93c91e-fd4e-47f8-84b2-d9bace65c0af', 'checksum': 'c3f461b855a89e61598fd586601c38f178bda301ab0d5ac278abff386bfaf007', 'faces': None, 'tags': [{'name': 'adult content', 'value': 'no', 'confidence': 0.06, 'x': 0.0, 'y': 0.0, 'width': 0.0, 'height': 0.0, 'angle': 0.0, 'instance_id': 0, 'start': '00:00:00', 'duration': '00:00:00'}], 'original_filename': 'FR4.jpg', 'duration': '00:00:00'}, 'recognize': None}\n"
     ]
    },
    {
     "name": "stderr",
     "output_type": "stream",
     "text": [
      "\r",
      " 28%|██▊       | 447/1600 [00:23<01:44, 11.07it/s]"
     ]
    },
    {
     "name": "stdout",
     "output_type": "stream",
     "text": [
      "Error detecting FUTR1.jpg {'media': {'media_uuid': 'a21d8ac9-bb5f-40bf-a20e-d311a9a9121a', 'checksum': '59989fb0401e35178364b75e3abfe2733f6f2176087dc2f8ebf0e795ad90ef92', 'faces': None, 'tags': [{'name': 'adult content', 'value': 'no', 'confidence': 0.0, 'x': 0.0, 'y': 0.0, 'width': 0.0, 'height': 0.0, 'angle': 0.0, 'instance_id': 0, 'start': '00:00:00', 'duration': '00:00:00'}], 'original_filename': 'FUTR1.jpg', 'duration': '00:00:00'}, 'recognize': None}\n",
      "Error detecting FUTR10.jpg {'media': {'media_uuid': 'a4813860-8371-4ff6-bb41-db297e1ccae2', 'checksum': '84bc010b85d29ce0de5f5625102d28969602b7434b75615de483ab32fd362ad9', 'faces': None, 'tags': [{'name': 'adult content', 'value': 'no', 'confidence': 0.18, 'x': 0.0, 'y': 0.0, 'width': 0.0, 'height': 0.0, 'angle': 0.0, 'instance_id': 0, 'start': '00:00:00', 'duration': '00:00:00'}], 'original_filename': 'FUTR10.jpg', 'duration': '00:00:00'}, 'recognize': None}\n"
     ]
    },
    {
     "name": "stderr",
     "output_type": "stream",
     "text": [
      "\r",
      " 28%|██▊       | 449/1600 [00:24<05:12,  3.68it/s]"
     ]
    },
    {
     "name": "stdout",
     "output_type": "stream",
     "text": [
      "Error detecting FUTR2.jpg {'media': {'media_uuid': '449f3cb9-871e-4fda-af71-85d7dc3a26d9', 'checksum': 'dceffcd8c5f3a9160487de2569ba08f3bbed33e1c5c725ac78382d1aa90b2e1d', 'faces': None, 'tags': [{'name': 'adult content', 'value': 'no', 'confidence': 0.07, 'x': 0.0, 'y': 0.0, 'width': 0.0, 'height': 0.0, 'angle': 0.0, 'instance_id': 0, 'start': '00:00:00', 'duration': '00:00:00'}], 'original_filename': 'FUTR2.jpg', 'duration': '00:00:00'}, 'recognize': None}\n",
      "Error detecting FUTR3.jpg {'media': {'media_uuid': '5c6bb474-8146-4f0b-903a-87c967a4af96', 'checksum': 'a83f127c4005c1c1f254da218d975f168e344dec48240cfec7538c3e8dc7380a', 'faces': None, 'tags': [{'name': 'adult content', 'value': 'no', 'confidence': 0.02, 'x': 0.0, 'y': 0.0, 'width': 0.0, 'height': 0.0, 'angle': 0.0, 'instance_id': 0, 'start': '00:00:00', 'duration': '00:00:00'}], 'original_filename': 'FUTR3.jpg', 'duration': '00:00:00'}, 'recognize': None}\n"
     ]
    },
    {
     "name": "stderr",
     "output_type": "stream",
     "text": [
      "\r",
      " 28%|██▊       | 451/1600 [00:26<07:41,  2.49it/s]"
     ]
    },
    {
     "name": "stdout",
     "output_type": "stream",
     "text": [
      "Error detecting FUTR4.jpg {'media': {'media_uuid': 'cce811b8-e6f9-49ee-a82c-a386d84e8d63', 'checksum': '0201e02189032ec3287424b5cb8b4f0ef8501e130909bda8a72e931c19298574', 'faces': None, 'tags': [{'name': 'adult content', 'value': 'no', 'confidence': 0.0, 'x': 0.0, 'y': 0.0, 'width': 0.0, 'height': 0.0, 'angle': 0.0, 'instance_id': 0, 'start': '00:00:00', 'duration': '00:00:00'}], 'original_filename': 'FUTR4.jpg', 'duration': '00:00:00'}, 'recognize': None}\n",
      "Error detecting FUTR5.jpg {'media': {'media_uuid': 'fe38abbf-9d13-4495-9ce0-d9e054399f3c', 'checksum': '0b0ec3a1240884819d37e8fc3348839f1d5b9abd45b34fae404652bb4b3e4eeb', 'faces': None, 'tags': [{'name': 'adult content', 'value': 'no', 'confidence': 0.0, 'x': 0.0, 'y': 0.0, 'width': 0.0, 'height': 0.0, 'angle': 0.0, 'instance_id': 0, 'start': '00:00:00', 'duration': '00:00:00'}], 'original_filename': 'FUTR5.jpg', 'duration': '00:00:00'}, 'recognize': None}\n"
     ]
    },
    {
     "name": "stderr",
     "output_type": "stream",
     "text": [
      "\r",
      " 28%|██▊       | 453/1600 [00:27<09:18,  2.05it/s]"
     ]
    },
    {
     "name": "stdout",
     "output_type": "stream",
     "text": [
      "Error detecting FUTR6.jpg {'media': {'media_uuid': 'fc75ce1d-c607-4727-9478-2943c4b58e8c', 'checksum': 'b102e93fdfc893f545cbf3771b67fbf9d7621d416f4e0e8082ef8e759b292293', 'faces': None, 'tags': [{'name': 'adult content', 'value': 'no', 'confidence': 0.01, 'x': 0.0, 'y': 0.0, 'width': 0.0, 'height': 0.0, 'angle': 0.0, 'instance_id': 0, 'start': '00:00:00', 'duration': '00:00:00'}], 'original_filename': 'FUTR6.jpg', 'duration': '00:00:00'}, 'recognize': None}\n"
     ]
    },
    {
     "name": "stderr",
     "output_type": "stream",
     "text": [
      "\r",
      " 28%|██▊       | 454/1600 [00:28<10:32,  1.81it/s]"
     ]
    },
    {
     "name": "stdout",
     "output_type": "stream",
     "text": [
      "Error detecting FUTR7.jpg {'media': {'media_uuid': 'd3efa9e0-7bbb-4839-8e0f-b4122ef0eece', 'checksum': '04a4197f4c9c5d735a38098401ffd4c528caf38d5581fdcc3eaf44035d0bb151', 'faces': None, 'tags': [{'name': 'adult content', 'value': 'no', 'confidence': 0.05, 'x': 0.0, 'y': 0.0, 'width': 0.0, 'height': 0.0, 'angle': 0.0, 'instance_id': 0, 'start': '00:00:00', 'duration': '00:00:00'}], 'original_filename': 'FUTR7.jpg', 'duration': '00:00:00'}, 'recognize': None}\n"
     ]
    },
    {
     "name": "stderr",
     "output_type": "stream",
     "text": [
      "\r",
      " 28%|██▊       | 455/1600 [00:28<11:18,  1.69it/s]"
     ]
    },
    {
     "name": "stdout",
     "output_type": "stream",
     "text": [
      "Error detecting FUTR8.jpg {'media': {'media_uuid': '65be0a57-5eff-4c74-99ed-d9b28889fbfe', 'checksum': 'e0c88a97743b984eda8c8e32662df301fc7ba0bd5af61d428ff8f4e479eb1479', 'faces': None, 'tags': [{'name': 'adult content', 'value': 'no', 'confidence': 0.04, 'x': 0.0, 'y': 0.0, 'width': 0.0, 'height': 0.0, 'angle': 0.0, 'instance_id': 0, 'start': '00:00:00', 'duration': '00:00:00'}], 'original_filename': 'FUTR8.jpg', 'duration': '00:00:00'}, 'recognize': None}\n"
     ]
    },
    {
     "name": "stderr",
     "output_type": "stream",
     "text": [
      "\r",
      " 28%|██▊       | 456/1600 [00:29<12:01,  1.59it/s]"
     ]
    },
    {
     "name": "stdout",
     "output_type": "stream",
     "text": [
      "Error detecting FUTR9.jpg {'media': {'media_uuid': '12607ca7-6fe2-4807-bba5-d778d71d6943', 'checksum': '1510396fdd54ee7e797837e1a0519a6795486dcf31b4244ec0dd814b2f3af52e', 'faces': None, 'tags': [{'name': 'adult content', 'value': 'no', 'confidence': 0.0, 'x': 0.0, 'y': 0.0, 'width': 0.0, 'height': 0.0, 'angle': 0.0, 'instance_id': 0, 'start': '00:00:00', 'duration': '00:00:00'}], 'original_filename': 'FUTR9.jpg', 'duration': '00:00:00'}, 'recognize': None}\n"
     ]
    },
    {
     "name": "stderr",
     "output_type": "stream",
     "text": [
      "\r",
      " 35%|███▍      | 555/1600 [00:30<07:43,  2.25it/s]"
     ]
    },
    {
     "name": "stdout",
     "output_type": "stream",
     "text": [
      "Error detecting GOT27.jpg {'media': {'media_uuid': 'b906c96b-366c-410d-a4c0-daf6d31670cc', 'checksum': '98af70dafd3b713ef679b7b7226b11bc44ed8a62becb1b37ecc2863eeb4436e5', 'faces': None, 'tags': [{'name': 'adult content', 'value': 'no', 'confidence': 0.01, 'x': 0.0, 'y': 0.0, 'width': 0.0, 'height': 0.0, 'angle': 0.0, 'instance_id': 0, 'start': '00:00:00', 'duration': '00:00:00'}], 'original_filename': 'GOT27.jpg', 'duration': '00:00:00'}, 'recognize': None}\n"
     ]
    },
    {
     "name": "stderr",
     "output_type": "stream",
     "text": [
      "\r",
      " 41%|████▏     | 660/1600 [00:31<04:53,  3.20it/s]"
     ]
    },
    {
     "name": "stdout",
     "output_type": "stream",
     "text": [
      "Error detecting HP25.jpg {'media': {'media_uuid': '0d21fe8a-2c45-4f0e-881f-eb583d5968f9', 'checksum': '13434b22fe1bbd77b78c9a3b0d29b5daac88062e7fbc9fd3a9594ee680bd7ba5', 'faces': None, 'tags': [{'name': 'adult content', 'value': 'no', 'confidence': 0.01, 'x': 0.0, 'y': 0.0, 'width': 0.0, 'height': 0.0, 'angle': 0.0, 'instance_id': 0, 'start': '00:00:00', 'duration': '00:00:00'}], 'original_filename': 'HP25.jpg', 'duration': '00:00:00'}, 'recognize': None}\n"
     ]
    },
    {
     "name": "stderr",
     "output_type": "stream",
     "text": [
      "\r",
      " 45%|████▌     | 727/1600 [00:31<03:13,  4.51it/s]"
     ]
    },
    {
     "name": "stdout",
     "output_type": "stream",
     "text": [
      "Error detecting LEGO2.jpg {'media': {'media_uuid': '81b9c4d1-66ec-4586-a27f-1dd49261f2eb', 'checksum': '96eb58f5c2d9640a04d610152d5930f702b9d122659e845cac6a4304dbe5da0c', 'faces': None, 'tags': [{'name': 'adult content', 'value': 'no', 'confidence': 0.08, 'x': 0.0, 'y': 0.0, 'width': 0.0, 'height': 0.0, 'angle': 0.0, 'instance_id': 0, 'start': '00:00:00', 'duration': '00:00:00'}], 'original_filename': 'LEGO2.jpg', 'duration': '00:00:00'}, 'recognize': None}\n",
      "Error detecting LEGO3.jpg {'media': {'media_uuid': '9ea72b1e-e2a9-48c2-8b66-180c6394e644', 'checksum': '3e94478330a528cd88d8d70115760f56b2f034e505181c772c1b50c319447e55', 'faces': None, 'tags': [{'name': 'adult content', 'value': 'no', 'confidence': 0.01, 'x': 0.0, 'y': 0.0, 'width': 0.0, 'height': 0.0, 'angle': 0.0, 'instance_id': 0, 'start': '00:00:00', 'duration': '00:00:00'}], 'original_filename': 'LEGO3.jpg', 'duration': '00:00:00'}, 'recognize': None}\n",
      "Error detecting LEGO4.jpg {'media': {'media_uuid': '78ef602e-e1e5-44a7-a940-c34eadc17176', 'checksum': '6972f818f9c6c29c72a560226ab0b9bdef8285ddfb75f6b9ba3b125cd48861cc', 'faces': None, 'tags': [{'name': 'adult content', 'value': 'no', 'confidence': 0.05, 'x': 0.0, 'y': 0.0, 'width': 0.0, 'height': 0.0, 'angle': 0.0, 'instance_id': 0, 'start': '00:00:00', 'duration': '00:00:00'}], 'original_filename': 'LEGO4.jpg', 'duration': '00:00:00'}, 'recognize': None}\n",
      "Error detecting LEGO5.jpg {'media': {'media_uuid': '393dbf3c-ab27-4c42-913c-7e9af8f73a34', 'checksum': '417fb59b24d43658f61cabce79a22c2db5ead85f59716673cd4b643930466e44', 'faces': None, 'tags': [{'name': 'adult content', 'value': 'no', 'confidence': 0.03, 'x': 0.0, 'y': 0.0, 'width': 0.0, 'height': 0.0, 'angle': 0.0, 'instance_id': 0, 'start': '00:00:00', 'duration': '00:00:00'}], 'original_filename': 'LEGO5.jpg', 'duration': '00:00:00'}, 'recognize': None}\n",
      "Error detecting LK1.jpg {'media': {'media_uuid': '6784f14f-adeb-41ba-9cc1-ac9901cd8529', 'checksum': '6b26fda187a769dd23b103f145a4b85b699dd5386272dd1374d57153d4664287', 'faces': None, 'tags': [{'name': 'adult content', 'value': 'no', 'confidence': 0.0, 'x': 0.0, 'y': 0.0, 'width': 0.0, 'height': 0.0, 'angle': 0.0, 'instance_id': 0, 'start': '00:00:00', 'duration': '00:00:00'}], 'original_filename': 'LK1.jpg', 'duration': '00:00:00'}, 'recognize': None}\n",
      "Error detecting LK3.jpg {'media': {'media_uuid': '23c5a73f-955d-401c-8fcc-57a01433ffcc', 'checksum': '23df9ccc715933e65af55f6a02e5b2d3202900356b1e3ae865bfdd57842a3534', 'faces': None, 'tags': [{'name': 'adult content', 'value': 'no', 'confidence': 0.15, 'x': 0.0, 'y': 0.0, 'width': 0.0, 'height': 0.0, 'angle': 0.0, 'instance_id': 0, 'start': '00:00:00', 'duration': '00:00:00'}], 'original_filename': 'LK3.jpg', 'duration': '00:00:00'}, 'recognize': None}\n",
      "Error detecting LK4.jpg {'media': {'media_uuid': '399a3e78-08a8-4b4c-bd2e-bfff8e3040f4', 'checksum': 'b46520121755dbdedb985ad3f27e7e53f03aa3b303f16d397d04a9b98dc91c05', 'faces': None, 'tags': [{'name': 'adult content', 'value': 'no', 'confidence': 0.03, 'x': 0.0, 'y': 0.0, 'width': 0.0, 'height': 0.0, 'angle': 0.0, 'instance_id': 0, 'start': '00:00:00', 'duration': '00:00:00'}], 'original_filename': 'LK4.jpg', 'duration': '00:00:00'}, 'recognize': None}\n",
      "Error detecting LK5.jpg {'media': {'media_uuid': 'a725ac2a-068c-4276-a821-4754a2f29d4b', 'checksum': '9a96424b2d033be2e28b795ec1d7dd8980aec0d22bbcf1b1a1ed57e8833ec3e6', 'faces': None, 'tags': [{'name': 'adult content', 'value': 'no', 'confidence': 0.01, 'x': 0.0, 'y': 0.0, 'width': 0.0, 'height': 0.0, 'angle': 0.0, 'instance_id': 0, 'start': '00:00:00', 'duration': '00:00:00'}], 'original_filename': 'LK5.jpg', 'duration': '00:00:00'}, 'recognize': None}\n"
     ]
    },
    {
     "name": "stderr",
     "output_type": "stream",
     "text": [
      "\r",
      " 46%|████▌     | 736/1600 [00:37<04:52,  2.96it/s]"
     ]
    },
    {
     "name": "stdout",
     "output_type": "stream",
     "text": [
      "Error detecting LK6.jpg {'media': {'media_uuid': 'ae7b415b-77d8-48ed-ba6b-898de827aafb', 'checksum': 'cbfb743aa1711f16c3257a321247e75811df22743794b64a7f831601359d4a67', 'faces': None, 'tags': [{'name': 'adult content', 'value': 'no', 'confidence': 0.02, 'x': 0.0, 'y': 0.0, 'width': 0.0, 'height': 0.0, 'angle': 0.0, 'instance_id': 0, 'start': '00:00:00', 'duration': '00:00:00'}], 'original_filename': 'LK6.jpg', 'duration': '00:00:00'}, 'recognize': None}\n"
     ]
    },
    {
     "name": "stderr",
     "output_type": "stream",
     "text": [
      "\r",
      " 47%|████▋     | 752/1600 [00:37<03:31,  4.01it/s]"
     ]
    },
    {
     "name": "stdout",
     "output_type": "stream",
     "text": [
      "Error detecting LS1.jpg {'media': {'media_uuid': 'fbc4d851-1cd1-45a7-bdd2-7e13e76259de', 'checksum': 'cfcffa103860db655a3ebf787cd508efaa4fd56c7a880cecddf3a1917f665afa', 'faces': None, 'tags': [{'name': 'adult content', 'value': 'no', 'confidence': 0.03, 'x': 0.0, 'y': 0.0, 'width': 0.0, 'height': 0.0, 'angle': 0.0, 'instance_id': 0, 'start': '00:00:00', 'duration': '00:00:00'}], 'original_filename': 'LS1.jpg', 'duration': '00:00:00'}, 'recognize': None}\n",
      "Error detecting LS3.jpg {'media': {'media_uuid': 'e5a4981c-5841-431f-9cdd-f49619715edd', 'checksum': 'a39d73130b10e97faaf22b392eddaff65e5532682e8af2961e009f22a518391c', 'faces': None, 'tags': [{'name': 'adult content', 'value': 'no', 'confidence': 0.03, 'x': 0.0, 'y': 0.0, 'width': 0.0, 'height': 0.0, 'angle': 0.0, 'instance_id': 0, 'start': '00:00:00', 'duration': '00:00:00'}], 'original_filename': 'LS3.jpg', 'duration': '00:00:00'}, 'recognize': None}\n",
      "Error detecting LS4.jpg {'media': {'media_uuid': 'd2cf0495-c300-4634-b523-a145ab95fe24', 'checksum': 'fab8f9e878709d8af28c4eff4e264f718cf811441f7cc17ce0db96e19b878b35', 'faces': None, 'tags': [{'name': 'adult content', 'value': 'no', 'confidence': 0.01, 'x': 0.0, 'y': 0.0, 'width': 0.0, 'height': 0.0, 'angle': 0.0, 'instance_id': 0, 'start': '00:00:00', 'duration': '00:00:00'}], 'original_filename': 'LS4.jpg', 'duration': '00:00:00'}, 'recognize': None}\n",
      "Error detecting LS5.jpg {'media': {'media_uuid': '76f2a30b-86cf-44ed-b48a-8b7d3240e7c0', 'checksum': 'aa6999b1b9d49bf6d9f0024f7ce25c9d5c85093df24dd13ccec6855477e91d4f', 'faces': None, 'tags': [{'name': 'adult content', 'value': 'no', 'confidence': 0.0, 'x': 0.0, 'y': 0.0, 'width': 0.0, 'height': 0.0, 'angle': 0.0, 'instance_id': 0, 'start': '00:00:00', 'duration': '00:00:00'}], 'original_filename': 'LS5.jpg', 'duration': '00:00:00'}, 'recognize': None}\n"
     ]
    },
    {
     "name": "stderr",
     "output_type": "stream",
     "text": [
      "\r",
      " 47%|████▋     | 757/1600 [00:40<04:47,  2.94it/s]"
     ]
    },
    {
     "name": "stdout",
     "output_type": "stream",
     "text": [
      "Error detecting LS6.jpg {'media': {'media_uuid': '1b54e404-3951-4cf1-a278-f5729c0e99e8', 'checksum': '43b3fd908992aef8ddaa9bce99e18908c474a4b032296baba45f6cf7e6e46a8e', 'faces': None, 'tags': [{'name': 'adult content', 'value': 'no', 'confidence': 0.04, 'x': 0.0, 'y': 0.0, 'width': 0.0, 'height': 0.0, 'angle': 0.0, 'instance_id': 0, 'start': '00:00:00', 'duration': '00:00:00'}], 'original_filename': 'LS6.jpg', 'duration': '00:00:00'}, 'recognize': None}\n"
     ]
    },
    {
     "name": "stderr",
     "output_type": "stream",
     "text": [
      "\r",
      " 48%|████▊     | 761/1600 [00:41<04:04,  3.43it/s]"
     ]
    },
    {
     "name": "stdout",
     "output_type": "stream",
     "text": [
      "Error detecting LU4.jpg {'media': {'media_uuid': 'f45a8d96-7694-428b-a31a-321d2f45b44e', 'checksum': 'ba12d85e7e9c992fb47e5f6eefdc42b2e228b4b2cb9759c3e0a40f9a0ee54d8a', 'faces': None, 'tags': [{'name': 'adult content', 'value': 'no', 'confidence': 0.0, 'x': 0.0, 'y': 0.0, 'width': 0.0, 'height': 0.0, 'angle': 0.0, 'instance_id': 0, 'start': '00:00:00', 'duration': '00:00:00'}], 'original_filename': 'LU4.jpg', 'duration': '00:00:00'}, 'recognize': None}\n"
     ]
    },
    {
     "name": "stderr",
     "output_type": "stream",
     "text": [
      "\r",
      " 49%|████▉     | 785/1600 [00:42<02:53,  4.69it/s]"
     ]
    },
    {
     "name": "stdout",
     "output_type": "stream",
     "text": [
      "Error detecting MCU10.jpg {'media': {'media_uuid': 'c36aaa2d-a744-4e55-b3b2-2064fda66c3d', 'checksum': 'b4c1a059811271db8789d89aa9562930967fc7dc25dc505523da2706432b5e53', 'faces': None, 'tags': [{'name': 'adult content', 'value': 'no', 'confidence': 0.0, 'x': 0.0, 'y': 0.0, 'width': 0.0, 'height': 0.0, 'angle': 0.0, 'instance_id': 0, 'start': '00:00:00', 'duration': '00:00:00'}], 'original_filename': 'MCU10.jpg', 'duration': '00:00:00'}, 'recognize': None}\n"
     ]
    },
    {
     "name": "stderr",
     "output_type": "stream",
     "text": [
      "\r",
      " 52%|█████▏    | 825/1600 [00:42<01:59,  6.47it/s]"
     ]
    },
    {
     "name": "stdout",
     "output_type": "stream",
     "text": [
      "Error detecting MLP1.jpg {'media': {'media_uuid': '21629fe5-bac0-4b47-b967-5835c73b89d8', 'checksum': '58e6f7285281a3c95ff88c9a69c71754ef7ee97885e35569dae797189bd0e88c', 'faces': None, 'tags': [{'name': 'adult content', 'value': 'no', 'confidence': 0.06, 'x': 0.0, 'y': 0.0, 'width': 0.0, 'height': 0.0, 'angle': 0.0, 'instance_id': 0, 'start': '00:00:00', 'duration': '00:00:00'}], 'original_filename': 'MLP1.jpg', 'duration': '00:00:00'}, 'recognize': None}\n",
      "Error detecting MLP2.jpg {'media': {'media_uuid': '0afc56a2-a09c-4c1f-8c38-2b4f38cbb260', 'checksum': '54881a36856e46de93bc69a4745d15c19f54b4a5b070d075ab8997d5af55a17c', 'faces': None, 'tags': [{'name': 'adult content', 'value': 'no', 'confidence': 0.01, 'x': 0.0, 'y': 0.0, 'width': 0.0, 'height': 0.0, 'angle': 0.0, 'instance_id': 0, 'start': '00:00:00', 'duration': '00:00:00'}], 'original_filename': 'MLP2.jpg', 'duration': '00:00:00'}, 'recognize': None}\n",
      "Error detecting MLP4.jpg {'media': {'media_uuid': '1d7ca478-2281-41f8-bafb-8aa298476dd0', 'checksum': 'eeb97e20ec4930a7500c0bf14064089ca8192a83afde33d9fcfc52fc51899c10', 'faces': None, 'tags': [{'name': 'adult content', 'value': 'no', 'confidence': 0.01, 'x': 0.0, 'y': 0.0, 'width': 0.0, 'height': 0.0, 'angle': 0.0, 'instance_id': 0, 'start': '00:00:00', 'duration': '00:00:00'}], 'original_filename': 'MLP4.jpg', 'duration': '00:00:00'}, 'recognize': None}\n"
     ]
    },
    {
     "name": "stderr",
     "output_type": "stream",
     "text": [
      "\r",
      " 52%|█████▏    | 829/1600 [00:44<03:28,  3.71it/s]"
     ]
    },
    {
     "name": "stdout",
     "output_type": "stream",
     "text": [
      "Error detecting MLP5.jpg {'media': {'media_uuid': '5cb82483-801a-4517-898f-b8c29d0806a7', 'checksum': '310d3295e217d9b15ab34d11fd144303656797e62a01dfa1182cdc9c1b9dc6c6', 'faces': None, 'tags': [{'name': 'adult content', 'value': 'no', 'confidence': 0.06, 'x': 0.0, 'y': 0.0, 'width': 0.0, 'height': 0.0, 'angle': 0.0, 'instance_id': 0, 'start': '00:00:00', 'duration': '00:00:00'}], 'original_filename': 'MLP5.jpg', 'duration': '00:00:00'}, 'recognize': None}\n"
     ]
    },
    {
     "name": "stderr",
     "output_type": "stream",
     "text": [
      "\r",
      " 52%|█████▏    | 832/1600 [00:45<03:19,  3.86it/s]"
     ]
    },
    {
     "name": "stdout",
     "output_type": "stream",
     "text": [
      "Error detecting MLP6.jpg {'media': {'media_uuid': 'f6663ec0-3965-4b35-97f4-3be7bcaab93c', 'checksum': '3c01cba53fe4c67f2431c471345a910010875d70eff698e194851b3be1380c8a', 'faces': None, 'tags': [{'name': 'adult content', 'value': 'no', 'confidence': 0.01, 'x': 0.0, 'y': 0.0, 'width': 0.0, 'height': 0.0, 'angle': 0.0, 'instance_id': 0, 'start': '00:00:00', 'duration': '00:00:00'}], 'original_filename': 'MLP6.jpg', 'duration': '00:00:00'}, 'recognize': None}\n"
     ]
    },
    {
     "name": "stderr",
     "output_type": "stream",
     "text": [
      "\r",
      " 55%|█████▍    | 872/1600 [00:46<02:15,  5.36it/s]"
     ]
    },
    {
     "name": "stdout",
     "output_type": "stream",
     "text": [
      "Error detecting MU2.jpg {'media': {'media_uuid': '26acbbc7-d851-42e9-87fd-515f49895a04', 'checksum': '542b39385d1c580720f48b4ed08a72d15dd38b6ceb812b37bf3e34462bffd2b1', 'faces': None, 'tags': [{'name': 'adult content', 'value': 'no', 'confidence': 0.07, 'x': 0.0, 'y': 0.0, 'width': 0.0, 'height': 0.0, 'angle': 0.0, 'instance_id': 0, 'start': '00:00:00', 'duration': '00:00:00'}], 'original_filename': 'MU2.jpg', 'duration': '00:00:00'}, 'recognize': None}\n",
      "Error detecting MU4.jpg {'media': {'media_uuid': 'be30cf87-67e7-4cae-a362-39ad07b1716c', 'checksum': '0ea59a298a69c667684082ef619c8bc7b91734b66335a3444afd11388315967b', 'faces': None, 'tags': [{'name': 'adult content', 'value': 'no', 'confidence': 0.01, 'x': 0.0, 'y': 0.0, 'width': 0.0, 'height': 0.0, 'angle': 0.0, 'instance_id': 0, 'start': '00:00:00', 'duration': '00:00:00'}], 'original_filename': 'MU4.jpg', 'duration': '00:00:00'}, 'recognize': None}\n",
      "Error detecting MU5.jpg {'media': {'media_uuid': '9adcc1c8-f6c0-4495-be4a-cf3db543c723', 'checksum': 'bc840dbdecbc330fbad77f28fabaa578815f3874ed48b10d973373ec57065865', 'faces': None, 'tags': [{'name': 'adult content', 'value': 'no', 'confidence': 0.02, 'x': 0.0, 'y': 0.0, 'width': 0.0, 'height': 0.0, 'angle': 0.0, 'instance_id': 0, 'start': '00:00:00', 'duration': '00:00:00'}], 'original_filename': 'MU5.jpg', 'duration': '00:00:00'}, 'recognize': None}\n"
     ]
    },
    {
     "name": "stderr",
     "output_type": "stream",
     "text": [
      "\r",
      " 55%|█████▍    | 876/1600 [00:48<03:25,  3.52it/s]"
     ]
    },
    {
     "name": "stdout",
     "output_type": "stream",
     "text": [
      "Error detecting MU6.jpg {'media': {'media_uuid': '2bff2b97-e6fc-40f3-8339-9f76246948fe', 'checksum': '1d20fd98b427f4cb68866343655ed4d2c3324549d718ae268368e1a5815ea915', 'faces': None, 'tags': [{'name': 'adult content', 'value': 'no', 'confidence': 0.02, 'x': 0.0, 'y': 0.0, 'width': 0.0, 'height': 0.0, 'angle': 0.0, 'instance_id': 0, 'start': '00:00:00', 'duration': '00:00:00'}], 'original_filename': 'MU6.jpg', 'duration': '00:00:00'}, 'recognize': None}\n"
     ]
    },
    {
     "name": "stderr",
     "output_type": "stream",
     "text": [
      "\r",
      " 56%|█████▌    | 889/1600 [00:49<02:33,  4.64it/s]"
     ]
    },
    {
     "name": "stdout",
     "output_type": "stream",
     "text": [
      "Error detecting NG2.jpg {'media': {'media_uuid': '95828f54-fe35-408c-bcce-2912a84d3a30', 'checksum': '3162740fe7f68d57a95da8fb60a26493f04dd5d93ec2b658ba071957267df4d9', 'faces': None, 'tags': [{'name': 'adult content', 'value': 'no', 'confidence': 0.01, 'x': 0.0, 'y': 0.0, 'width': 0.0, 'height': 0.0, 'angle': 0.0, 'instance_id': 0, 'start': '00:00:00', 'duration': '00:00:00'}], 'original_filename': 'NG2.jpg', 'duration': '00:00:00'}, 'recognize': None}\n"
     ]
    },
    {
     "name": "stderr",
     "output_type": "stream",
     "text": [
      "\r",
      " 56%|█████▋    | 904/1600 [00:49<01:54,  6.08it/s]"
     ]
    },
    {
     "name": "stdout",
     "output_type": "stream",
     "text": [
      "Error detecting O5.jpg {'media': {'media_uuid': '5bdb7bfe-7e2b-46d2-a46e-ec2e146289dd', 'checksum': '5b5a2f7cc134b1ce0f791598df39f588a523f18b2d2f46cb9c83fe0c8aa75018', 'faces': None, 'tags': [{'name': 'adult content', 'value': 'no', 'confidence': 0.07, 'x': 0.0, 'y': 0.0, 'width': 0.0, 'height': 0.0, 'angle': 0.0, 'instance_id': 0, 'start': '00:00:00', 'duration': '00:00:00'}], 'original_filename': 'O5.jpg', 'duration': '00:00:00'}, 'recognize': None}\n"
     ]
    },
    {
     "name": "stderr",
     "output_type": "stream",
     "text": [
      "\r",
      " 57%|█████▋    | 915/1600 [00:50<01:31,  7.46it/s]"
     ]
    },
    {
     "name": "stdout",
     "output_type": "stream",
     "text": [
      "Error detecting OD1.jpg {'media': {'media_uuid': 'd3dbf001-cb05-49ff-82df-41f432ebca8e', 'checksum': 'c88bd25eee309849d94bf4ce1fb672feb4a93618d59b0ef4ffe1f1767225a9d1', 'faces': None, 'tags': [{'name': 'adult content', 'value': 'no', 'confidence': 0.08, 'x': 0.0, 'y': 0.0, 'width': 0.0, 'height': 0.0, 'angle': 0.0, 'instance_id': 0, 'start': '00:00:00', 'duration': '00:00:00'}], 'original_filename': 'OD1.jpg', 'duration': '00:00:00'}, 'recognize': None}\n"
     ]
    },
    {
     "name": "stderr",
     "output_type": "stream",
     "text": [
      "\r",
      " 57%|█████▋    | 917/1600 [00:51<02:14,  5.08it/s]"
     ]
    },
    {
     "name": "stdout",
     "output_type": "stream",
     "text": [
      "Error detecting OD3.jpg {'media': {'media_uuid': 'd718761d-ba11-41b2-8a28-f1469788fbc3', 'checksum': '2c442518577a5c65a31de00f168d85db35b31ac2e52ec0ee27e570590ede073e', 'faces': None, 'tags': [{'name': 'adult content', 'value': 'no', 'confidence': 0.01, 'x': 0.0, 'y': 0.0, 'width': 0.0, 'height': 0.0, 'angle': 0.0, 'instance_id': 0, 'start': '00:00:00', 'duration': '00:00:00'}], 'original_filename': 'OD3.jpg', 'duration': '00:00:00'}, 'recognize': None}\n"
     ]
    },
    {
     "name": "stderr",
     "output_type": "stream",
     "text": [
      "\r",
      " 60%|█████▉    | 953/1600 [00:51<01:33,  6.93it/s]"
     ]
    },
    {
     "name": "stdout",
     "output_type": "stream",
     "text": [
      "Error detecting PA1.jpg {'media': {'media_uuid': '29be111a-e4f2-4d32-b0c5-fbbe31005a2c', 'checksum': 'a531c186a920f9dbfd17f3dc6225738e6b98d074f274d0f634a6eabd1d772e1c', 'faces': None, 'tags': [{'name': 'adult content', 'value': 'no', 'confidence': 0.0, 'x': 0.0, 'y': 0.0, 'width': 0.0, 'height': 0.0, 'angle': 0.0, 'instance_id': 0, 'start': '00:00:00', 'duration': '00:00:00'}], 'original_filename': 'PA1.jpg', 'duration': '00:00:00'}, 'recognize': None}\n"
     ]
    },
    {
     "name": "stderr",
     "output_type": "stream",
     "text": [
      "\r",
      " 60%|█████▉    | 956/1600 [00:52<01:49,  5.89it/s]"
     ]
    },
    {
     "name": "stdout",
     "output_type": "stream",
     "text": [
      "Error detecting PA2.jpg {'media': {'media_uuid': '8c72c50f-9992-4b64-999d-28c479822fd6', 'checksum': '4c03c4a4dfa32c6be8e5b26d31d022cbc6a5e3c85f1a7cc84013da2c54fe7d92', 'faces': None, 'tags': [{'name': 'adult content', 'value': 'no', 'confidence': 0.0, 'x': 0.0, 'y': 0.0, 'width': 0.0, 'height': 0.0, 'angle': 0.0, 'instance_id': 0, 'start': '00:00:00', 'duration': '00:00:00'}], 'original_filename': 'PA2.jpg', 'duration': '00:00:00'}, 'recognize': None}\n"
     ]
    },
    {
     "name": "stderr",
     "output_type": "stream",
     "text": [
      "\r",
      " 61%|██████▏   | 980/1600 [00:53<01:19,  7.84it/s]"
     ]
    },
    {
     "name": "stdout",
     "output_type": "stream",
     "text": [
      "Error detecting PK1.jpg {'media': {'media_uuid': 'd9322720-23e5-472b-bcaf-a7296039c37a', 'checksum': '1e4548d76bcf661514c5edf590d55d5934fc8c3c0884b31f6df4c18ea66dd69e', 'faces': None, 'tags': [{'name': 'adult content', 'value': 'no', 'confidence': 0.0, 'x': 0.0, 'y': 0.0, 'width': 0.0, 'height': 0.0, 'angle': 0.0, 'instance_id': 0, 'start': '00:00:00', 'duration': '00:00:00'}], 'original_filename': 'PK1.jpg', 'duration': '00:00:00'}, 'recognize': None}\n",
      "Error detecting PK2.jpg {'media': {'media_uuid': 'c2fe31b6-5039-4afc-94d3-3d76fa310fc2', 'checksum': '232aa76a3096365cb8e2c1d636b364a8e286c5391dcc11fee442de6444df646f', 'faces': None, 'tags': [{'name': 'adult content', 'value': 'no', 'confidence': 0.01, 'x': 0.0, 'y': 0.0, 'width': 0.0, 'height': 0.0, 'angle': 0.0, 'instance_id': 0, 'start': '00:00:00', 'duration': '00:00:00'}], 'original_filename': 'PK2.jpg', 'duration': '00:00:00'}, 'recognize': None}\n"
     ]
    },
    {
     "name": "stderr",
     "output_type": "stream",
     "text": [
      "\r",
      " 61%|██████▏   | 983/1600 [00:54<02:19,  4.41it/s]"
     ]
    },
    {
     "name": "stdout",
     "output_type": "stream",
     "text": [
      "Error detecting PK4.jpg {'media': {'media_uuid': 'fc3f7fe6-2f47-4cbd-9d34-5d68738919cc', 'checksum': '260119845bbc4d6c23caecfe9efa2867d838fe3a989cd2b765e0ea9735c07e79', 'faces': None, 'tags': [{'name': 'adult content', 'value': 'no', 'confidence': 0.0, 'x': 0.0, 'y': 0.0, 'width': 0.0, 'height': 0.0, 'angle': 0.0, 'instance_id': 0, 'start': '00:00:00', 'duration': '00:00:00'}], 'original_filename': 'PK4.jpg', 'duration': '00:00:00'}, 'recognize': None}\n"
     ]
    },
    {
     "name": "stderr",
     "output_type": "stream",
     "text": [
      " 65%|██████▍   | 1033/1600 [02:21<15:22,  1.63s/it]"
     ]
    },
    {
     "name": "stdout",
     "output_type": "stream",
     "text": [
      "Error detecting RAT1.jpg {'media': {'media_uuid': 'd4f14d9f-6f5b-4c8e-9f29-648889120148', 'checksum': 'b2af29dd707bbe064bb5dfd0be6e93fbde12f0a442a4dd08c45b30225bb92e5a', 'faces': None, 'tags': [{'name': 'adult content', 'value': 'no', 'confidence': 0.01, 'x': 0.0, 'y': 0.0, 'width': 0.0, 'height': 0.0, 'angle': 0.0, 'instance_id': 0, 'start': '00:00:00', 'duration': '00:00:00'}], 'original_filename': 'RAT1.jpg', 'duration': '00:00:00'}, 'recognize': None}\n"
     ]
    },
    {
     "name": "stderr",
     "output_type": "stream",
     "text": [
      " 65%|██████▌   | 1042/1600 [02:36<15:27,  1.66s/it]"
     ]
    },
    {
     "name": "stdout",
     "output_type": "stream",
     "text": [
      "Error detecting RH1.jpg {'media': {'media_uuid': 'a86a458a-6602-4734-bc85-554e6fe39c57', 'checksum': 'ce60a9dd821b37be62e28a1bce9edf30348f53fe0b005d90e5c1abcc981bb9d1', 'faces': None, 'tags': [{'name': 'adult content', 'value': 'no', 'confidence': 0.02, 'x': 0.0, 'y': 0.0, 'width': 0.0, 'height': 0.0, 'angle': 0.0, 'instance_id': 0, 'start': '00:00:00', 'duration': '00:00:00'}], 'original_filename': 'RH1.jpg', 'duration': '00:00:00'}, 'recognize': None}\n"
     ]
    },
    {
     "name": "stderr",
     "output_type": "stream",
     "text": [
      "\r",
      " 65%|██████▌   | 1043/1600 [02:38<14:16,  1.54s/it]"
     ]
    },
    {
     "name": "stdout",
     "output_type": "stream",
     "text": [
      "Error detecting RH2.jpg {'media': {'media_uuid': '4ab60fc5-9570-43a7-97a3-4dddd7766a6f', 'checksum': 'f1ab4dfc57b49932333977d3603afa18b31df1f65bf881fc6511186ea9760ddb', 'faces': None, 'tags': [{'name': 'adult content', 'value': 'no', 'confidence': 0.01, 'x': 0.0, 'y': 0.0, 'width': 0.0, 'height': 0.0, 'angle': 0.0, 'instance_id': 0, 'start': '00:00:00', 'duration': '00:00:00'}], 'original_filename': 'RH2.jpg', 'duration': '00:00:00'}, 'recognize': None}\n"
     ]
    },
    {
     "name": "stderr",
     "output_type": "stream",
     "text": [
      " 65%|██████▌   | 1046/1600 [02:42<13:26,  1.46s/it]"
     ]
    },
    {
     "name": "stdout",
     "output_type": "stream",
     "text": [
      "Error detecting RH5.jpg {'media': {'media_uuid': '18954484-4bd2-4f20-bd6c-82c00d4c9e88', 'checksum': '44b03624bd35e47ec37c119ca149b2a8b6fb3d1dc8752db4575b6c65e62d8c4c', 'faces': None, 'tags': [{'name': 'adult content', 'value': 'no', 'confidence': 0.33, 'x': 0.0, 'y': 0.0, 'width': 0.0, 'height': 0.0, 'angle': 0.0, 'instance_id': 0, 'start': '00:00:00', 'duration': '00:00:00'}], 'original_filename': 'RH5.jpg', 'duration': '00:00:00'}, 'recognize': None}\n"
     ]
    },
    {
     "name": "stderr",
     "output_type": "stream",
     "text": [
      "\r",
      " 65%|██████▌   | 1047/1600 [02:44<13:00,  1.41s/it]"
     ]
    },
    {
     "name": "stdout",
     "output_type": "stream",
     "text": [
      "Error detecting RH6.jpg {'media': {'media_uuid': 'b80d7a28-5ddd-46c8-8782-617b319d2e27', 'checksum': 'fac8ef536f124ad3fc66f62ee0805d862e3b0641883c775ed867b4977ffefc86', 'faces': None, 'tags': [{'name': 'adult content', 'value': 'no', 'confidence': 0.01, 'x': 0.0, 'y': 0.0, 'width': 0.0, 'height': 0.0, 'angle': 0.0, 'instance_id': 0, 'start': '00:00:00', 'duration': '00:00:00'}], 'original_filename': 'RH6.jpg', 'duration': '00:00:00'}, 'recognize': None}\n"
     ]
    },
    {
     "name": "stderr",
     "output_type": "stream",
     "text": [
      " 66%|██████▌   | 1050/1600 [02:50<15:37,  1.70s/it]"
     ]
    },
    {
     "name": "stdout",
     "output_type": "stream",
     "text": [
      "Error detecting RJ3.jpg {'media': {'media_uuid': 'd407d678-4755-4f24-8f43-13c7c57d4a5c', 'checksum': 'e6369d00a03a70b0e34b93f260b3fab886093f7e6cb05f2b816879094921e4db', 'faces': None, 'tags': [{'name': 'adult content', 'value': 'no', 'confidence': 0.23, 'x': 0.0, 'y': 0.0, 'width': 0.0, 'height': 0.0, 'angle': 0.0, 'instance_id': 0, 'start': '00:00:00', 'duration': '00:00:00'}], 'original_filename': 'RJ3.jpg', 'duration': '00:00:00'}, 'recognize': None}\n"
     ]
    },
    {
     "name": "stderr",
     "output_type": "stream",
     "text": [
      "\r",
      " 66%|██████▌   | 1051/1600 [02:51<13:57,  1.53s/it]"
     ]
    },
    {
     "name": "stdout",
     "output_type": "stream",
     "text": [
      "Error detecting RJ4.jpg {'media': {'media_uuid': '565249f9-abb2-41cd-a2fd-8bee1354b9e2', 'checksum': '1fa8e69cd51c2f4764be303bea67c82675d948c32c4db8ef90f3576c135923e2', 'faces': None, 'tags': [{'name': 'adult content', 'value': 'no', 'confidence': 0.02, 'x': 0.0, 'y': 0.0, 'width': 0.0, 'height': 0.0, 'angle': 0.0, 'instance_id': 0, 'start': '00:00:00', 'duration': '00:00:00'}], 'original_filename': 'RJ4.jpg', 'duration': '00:00:00'}, 'recognize': None}\n"
     ]
    },
    {
     "name": "stderr",
     "output_type": "stream",
     "text": [
      " 66%|██████▌   | 1053/1600 [02:54<14:49,  1.63s/it]"
     ]
    },
    {
     "name": "stdout",
     "output_type": "stream",
     "text": [
      "Error detecting RJ6.jpg {'media': {'media_uuid': '28349b51-10b8-4df1-bae3-398e5edad9c8', 'checksum': 'd4400b9b4f6c8a353d193fc300b9fcd7b0e988b229cbbb3b72f73fc9f8462666', 'faces': None, 'tags': [{'name': 'adult content', 'value': 'no', 'confidence': 0.19, 'x': 0.0, 'y': 0.0, 'width': 0.0, 'height': 0.0, 'angle': 0.0, 'instance_id': 0, 'start': '00:00:00', 'duration': '00:00:00'}], 'original_filename': 'RJ6.jpg', 'duration': '00:00:00'}, 'recognize': None}\n"
     ]
    },
    {
     "name": "stderr",
     "output_type": "stream",
     "text": [
      " 66%|██████▌   | 1057/1600 [03:01<14:26,  1.60s/it]"
     ]
    },
    {
     "name": "stdout",
     "output_type": "stream",
     "text": [
      "Error detecting RLA4.jpg {'media': {'media_uuid': 'c6b3c538-657f-4234-a182-5f18b96899d5', 'checksum': '95fb47fb04da6bbc1cef5d5b418ad3af1e9d24b114085a60428386d32b8c3334', 'faces': None, 'tags': [{'name': 'adult content', 'value': 'no', 'confidence': 0.02, 'x': 0.0, 'y': 0.0, 'width': 0.0, 'height': 0.0, 'angle': 0.0, 'instance_id': 0, 'start': '00:00:00', 'duration': '00:00:00'}], 'original_filename': 'RLA4.jpg', 'duration': '00:00:00'}, 'recognize': None}\n"
     ]
    },
    {
     "name": "stderr",
     "output_type": "stream",
     "text": [
      " 66%|██████▋   | 1060/1600 [03:06<14:16,  1.59s/it]"
     ]
    },
    {
     "name": "stdout",
     "output_type": "stream",
     "text": [
      "Error detecting RM1.jpg {'media': {'media_uuid': '66ff19f6-6d21-4abb-8128-2d3867fe2f12', 'checksum': 'afd070a01be4dadbecd0fd3098ef1d47e51a065a56835b06a63610c4e85e3703', 'faces': None, 'tags': [{'name': 'adult content', 'value': 'no', 'confidence': 0.0, 'x': 0.0, 'y': 0.0, 'width': 0.0, 'height': 0.0, 'angle': 0.0, 'instance_id': 0, 'start': '00:00:00', 'duration': '00:00:00'}], 'original_filename': 'RM1.jpg', 'duration': '00:00:00'}, 'recognize': None}\n"
     ]
    },
    {
     "name": "stderr",
     "output_type": "stream",
     "text": [
      "\r",
      " 66%|██████▋   | 1061/1600 [03:08<14:46,  1.64s/it]"
     ]
    },
    {
     "name": "stdout",
     "output_type": "stream",
     "text": [
      "Error detecting RM2.jpg {'media': {'media_uuid': '1ff59f5d-2c20-4c89-965c-ddee3c72f8de', 'checksum': '1d488302633d666fb03124ee3a824289e300d1fc38fe53961351f3c694e7409a', 'faces': None, 'tags': [{'name': 'adult content', 'value': 'no', 'confidence': 0.03, 'x': 0.0, 'y': 0.0, 'width': 0.0, 'height': 0.0, 'angle': 0.0, 'instance_id': 0, 'start': '00:00:00', 'duration': '00:00:00'}], 'original_filename': 'RM2.jpg', 'duration': '00:00:00'}, 'recognize': None}\n"
     ]
    },
    {
     "name": "stderr",
     "output_type": "stream",
     "text": [
      " 66%|██████▋   | 1063/1600 [03:11<14:17,  1.60s/it]"
     ]
    },
    {
     "name": "stdout",
     "output_type": "stream",
     "text": [
      "Error detecting S1.jpg {'media': {'media_uuid': '1de6af7a-36ae-472e-8dc2-bdf80476cb20', 'checksum': '2a824e136583a86fef75bc5649a55712acffa00aa4fc239663c4c264805c18cf', 'faces': None, 'tags': [{'name': 'adult content', 'value': 'no', 'confidence': 0.01, 'x': 0.0, 'y': 0.0, 'width': 0.0, 'height': 0.0, 'angle': 0.0, 'instance_id': 0, 'start': '00:00:00', 'duration': '00:00:00'}], 'original_filename': 'S1.jpg', 'duration': '00:00:00'}, 'recognize': None}\n"
     ]
    },
    {
     "name": "stderr",
     "output_type": "stream",
     "text": [
      "\r",
      " 66%|██████▋   | 1064/1600 [03:12<13:02,  1.46s/it]"
     ]
    },
    {
     "name": "stdout",
     "output_type": "stream",
     "text": [
      "Error detecting S10.jpg {'media': {'media_uuid': '320c262f-0c33-4e9b-8235-8c3444ce2154', 'checksum': '955daf0fbbb3cc300870ffca8d4f56b470be3f925fb264250d6fadb3ef921811', 'faces': None, 'tags': [{'name': 'adult content', 'value': 'no', 'confidence': 0.02, 'x': 0.0, 'y': 0.0, 'width': 0.0, 'height': 0.0, 'angle': 0.0, 'instance_id': 0, 'start': '00:00:00', 'duration': '00:00:00'}], 'original_filename': 'S10.jpg', 'duration': '00:00:00'}, 'recognize': None}\n"
     ]
    },
    {
     "name": "stderr",
     "output_type": "stream",
     "text": [
      "\r",
      " 67%|██████▋   | 1065/1600 [03:13<12:12,  1.37s/it]"
     ]
    },
    {
     "name": "stdout",
     "output_type": "stream",
     "text": [
      "Error detecting S11.jpg {'media': {'media_uuid': '66950317-29d3-48d8-afa4-c73593f6f36d', 'checksum': 'e209f53265b4746cba9c33ef624a5f9ce01ad5ae5e34470e7ddd51639ac4e009', 'faces': None, 'tags': [{'name': 'adult content', 'value': 'no', 'confidence': 0.01, 'x': 0.0, 'y': 0.0, 'width': 0.0, 'height': 0.0, 'angle': 0.0, 'instance_id': 0, 'start': '00:00:00', 'duration': '00:00:00'}], 'original_filename': 'S11.jpg', 'duration': '00:00:00'}, 'recognize': None}\n"
     ]
    },
    {
     "name": "stderr",
     "output_type": "stream",
     "text": [
      "\r",
      " 67%|██████▋   | 1066/1600 [03:15<11:39,  1.31s/it]"
     ]
    },
    {
     "name": "stdout",
     "output_type": "stream",
     "text": [
      "Error detecting S12.jpg {'media': {'media_uuid': 'cd6b64e7-cbae-4143-ac38-1e03ca6129f4', 'checksum': 'ba805580a126bce4e16c8ea0dbf74d38258af05b3c5ac5a666d951d4f06036da', 'faces': None, 'tags': [{'name': 'adult content', 'value': 'no', 'confidence': 0.02, 'x': 0.0, 'y': 0.0, 'width': 0.0, 'height': 0.0, 'angle': 0.0, 'instance_id': 0, 'start': '00:00:00', 'duration': '00:00:00'}], 'original_filename': 'S12.jpg', 'duration': '00:00:00'}, 'recognize': None}\n"
     ]
    },
    {
     "name": "stderr",
     "output_type": "stream",
     "text": [
      "\r",
      " 67%|██████▋   | 1067/1600 [03:16<11:03,  1.25s/it]"
     ]
    },
    {
     "name": "stdout",
     "output_type": "stream",
     "text": [
      "Error detecting S13.jpg {'media': {'media_uuid': '6dfcb285-09b8-4b3c-98ab-8c0246f2f851', 'checksum': 'd50b143c3f8b81f6e246eb0ca62c92cc96c3aecbd32671a5a4755ff0db535941', 'faces': None, 'tags': [{'name': 'adult content', 'value': 'no', 'confidence': 0.0, 'x': 0.0, 'y': 0.0, 'width': 0.0, 'height': 0.0, 'angle': 0.0, 'instance_id': 0, 'start': '00:00:00', 'duration': '00:00:00'}], 'original_filename': 'S13.jpg', 'duration': '00:00:00'}, 'recognize': None}\n"
     ]
    },
    {
     "name": "stderr",
     "output_type": "stream",
     "text": [
      "\r",
      " 67%|██████▋   | 1068/1600 [03:17<11:10,  1.26s/it]"
     ]
    },
    {
     "name": "stdout",
     "output_type": "stream",
     "text": [
      "Error detecting S14.jpg {'media': {'media_uuid': '00c7ef67-7752-4b6c-92a3-427deaf0a4e4', 'checksum': '40e4398bee7a15e4880740795bbebc4fa50993f02cc14dbb334e0efc0f3b4ab8', 'faces': None, 'tags': [{'name': 'adult content', 'value': 'no', 'confidence': 0.01, 'x': 0.0, 'y': 0.0, 'width': 0.0, 'height': 0.0, 'angle': 0.0, 'instance_id': 0, 'start': '00:00:00', 'duration': '00:00:00'}], 'original_filename': 'S14.jpg', 'duration': '00:00:00'}, 'recognize': None}\n"
     ]
    },
    {
     "name": "stderr",
     "output_type": "stream",
     "text": [
      "\r",
      " 67%|██████▋   | 1069/1600 [03:18<10:45,  1.22s/it]"
     ]
    },
    {
     "name": "stdout",
     "output_type": "stream",
     "text": [
      "Error detecting S15.jpg {'media': {'media_uuid': '821e7a4d-913b-4b28-912c-6b305d6df69f', 'checksum': '0360aa90e3fc1fb6e5e5c892134e38e41da6131ff152092db91eedfb396af852', 'faces': None, 'tags': [{'name': 'adult content', 'value': 'no', 'confidence': 0.0, 'x': 0.0, 'y': 0.0, 'width': 0.0, 'height': 0.0, 'angle': 0.0, 'instance_id': 0, 'start': '00:00:00', 'duration': '00:00:00'}], 'original_filename': 'S15.jpg', 'duration': '00:00:00'}, 'recognize': None}\n"
     ]
    },
    {
     "name": "stderr",
     "output_type": "stream",
     "text": [
      "\r",
      " 67%|██████▋   | 1070/1600 [03:20<12:29,  1.41s/it]"
     ]
    },
    {
     "name": "stdout",
     "output_type": "stream",
     "text": [
      "Error detecting S2.jpg {'media': {'media_uuid': 'a419f90d-66b8-4275-b97d-b18dece62522', 'checksum': '18d4d2e46c51373872cc033bfdb01a38fc9ce51c387ae558ab7aca97b46666b6', 'faces': None, 'tags': [{'name': 'adult content', 'value': 'no', 'confidence': 0.0, 'x': 0.0, 'y': 0.0, 'width': 0.0, 'height': 0.0, 'angle': 0.0, 'instance_id': 0, 'start': '00:00:00', 'duration': '00:00:00'}], 'original_filename': 'S2.jpg', 'duration': '00:00:00'}, 'recognize': None}\n"
     ]
    },
    {
     "name": "stderr",
     "output_type": "stream",
     "text": [
      "\r",
      " 67%|██████▋   | 1071/1600 [03:21<11:32,  1.31s/it]"
     ]
    },
    {
     "name": "stdout",
     "output_type": "stream",
     "text": [
      "Error detecting S3.jpg {'media': {'media_uuid': '53d19ff3-00ff-429d-8aa6-4f39c71c7ed9', 'checksum': 'f4ccad95cb7104ca861dbc3a044c7c367bde115f2f99681d356e1b62a722a93c', 'faces': None, 'tags': [{'name': 'adult content', 'value': 'no', 'confidence': 0.01, 'x': 0.0, 'y': 0.0, 'width': 0.0, 'height': 0.0, 'angle': 0.0, 'instance_id': 0, 'start': '00:00:00', 'duration': '00:00:00'}], 'original_filename': 'S3.jpg', 'duration': '00:00:00'}, 'recognize': None}\n"
     ]
    },
    {
     "name": "stderr",
     "output_type": "stream",
     "text": [
      "\r",
      " 67%|██████▋   | 1072/1600 [03:22<11:24,  1.30s/it]"
     ]
    },
    {
     "name": "stdout",
     "output_type": "stream",
     "text": [
      "Error detecting S4.jpg {'media': {'media_uuid': 'b397baeb-f79e-4984-a7b6-da9f5ea6a7fe', 'checksum': 'a4303fe651c232deab73707d30013b92dd92e557b14f4149521e236fa360822e', 'faces': None, 'tags': [{'name': 'adult content', 'value': 'no', 'confidence': 0.0, 'x': 0.0, 'y': 0.0, 'width': 0.0, 'height': 0.0, 'angle': 0.0, 'instance_id': 0, 'start': '00:00:00', 'duration': '00:00:00'}], 'original_filename': 'S4.jpg', 'duration': '00:00:00'}, 'recognize': None}\n"
     ]
    },
    {
     "name": "stderr",
     "output_type": "stream",
     "text": [
      "\r",
      " 67%|██████▋   | 1073/1600 [03:23<10:53,  1.24s/it]"
     ]
    },
    {
     "name": "stdout",
     "output_type": "stream",
     "text": [
      "Error detecting S5.jpg {'media': {'media_uuid': '185cb64e-0a9a-4d87-9dfc-405283da8ba5', 'checksum': 'dc9982a83793c261dc7ee6e635a019a63bd86c6a0a34adf8b1ff5c170378cbce', 'faces': None, 'tags': [{'name': 'adult content', 'value': 'no', 'confidence': 0.0, 'x': 0.0, 'y': 0.0, 'width': 0.0, 'height': 0.0, 'angle': 0.0, 'instance_id': 0, 'start': '00:00:00', 'duration': '00:00:00'}], 'original_filename': 'S5.jpg', 'duration': '00:00:00'}, 'recognize': None}\n"
     ]
    },
    {
     "name": "stderr",
     "output_type": "stream",
     "text": [
      "\r",
      " 67%|██████▋   | 1074/1600 [03:25<10:56,  1.25s/it]"
     ]
    },
    {
     "name": "stdout",
     "output_type": "stream",
     "text": [
      "Error detecting S6.jpg {'media': {'media_uuid': '24cbb14d-daca-4b6c-97cd-a43133b4983a', 'checksum': '7c0787e1bd6e02b6616fe84bed294401605f5e85e4cba4573d6d5ef5affb9c1d', 'faces': None, 'tags': [{'name': 'adult content', 'value': 'no', 'confidence': 0.01, 'x': 0.0, 'y': 0.0, 'width': 0.0, 'height': 0.0, 'angle': 0.0, 'instance_id': 0, 'start': '00:00:00', 'duration': '00:00:00'}], 'original_filename': 'S6.jpg', 'duration': '00:00:00'}, 'recognize': None}\n"
     ]
    },
    {
     "name": "stderr",
     "output_type": "stream",
     "text": [
      "\r",
      " 67%|██████▋   | 1075/1600 [03:26<10:30,  1.20s/it]"
     ]
    },
    {
     "name": "stdout",
     "output_type": "stream",
     "text": [
      "Error detecting S7.jpg {'media': {'media_uuid': '03e56186-8a53-471f-9b28-096dde14abaf', 'checksum': '95841e96d9379e9779098e749d565dd15f5785664e05d99f1c8d2e7ba55a59ce', 'faces': None, 'tags': [{'name': 'adult content', 'value': 'no', 'confidence': 0.02, 'x': 0.0, 'y': 0.0, 'width': 0.0, 'height': 0.0, 'angle': 0.0, 'instance_id': 0, 'start': '00:00:00', 'duration': '00:00:00'}], 'original_filename': 'S7.jpg', 'duration': '00:00:00'}, 'recognize': None}\n"
     ]
    },
    {
     "name": "stderr",
     "output_type": "stream",
     "text": [
      " 67%|██████▋   | 1079/1600 [03:33<13:23,  1.54s/it]"
     ]
    },
    {
     "name": "stdout",
     "output_type": "stream",
     "text": [
      "Error detecting S8.jpg {'media': {'media_uuid': 'ae202157-b524-442a-a48a-71476893b31b', 'checksum': '86d9701c6c298ecf0b100be145a3d8768ca9bf51d47d0dd337e8eafe863dd01b', 'faces': None, 'tags': [{'name': 'adult content', 'value': 'no', 'confidence': 0.0, 'x': 0.0, 'y': 0.0, 'width': 0.0, 'height': 0.0, 'angle': 0.0, 'instance_id': 0, 'start': '00:00:00', 'duration': '00:00:00'}], 'original_filename': 'S8.jpg', 'duration': '00:00:00'}, 'recognize': None}\n"
     ]
    },
    {
     "name": "stderr",
     "output_type": "stream",
     "text": [
      " 68%|██████▊   | 1090/1600 [03:52<14:33,  1.71s/it]"
     ]
    },
    {
     "name": "stdout",
     "output_type": "stream",
     "text": [
      "Error detecting S9.jpg {'media': {'media_uuid': '70ff4a80-b70c-41ab-907f-7fd1ff9eaca3', 'checksum': '0e18afac5e3c6fc270c8b0cdfb5de7d79d03c6ac449334bb4ef55dfc760ad8a2', 'faces': None, 'tags': [{'name': 'adult content', 'value': 'no', 'confidence': 0.03, 'x': 0.0, 'y': 0.0, 'width': 0.0, 'height': 0.0, 'angle': 0.0, 'instance_id': 0, 'start': '00:00:00', 'duration': '00:00:00'}], 'original_filename': 'S9.jpg', 'duration': '00:00:00'}, 'recognize': None}\n"
     ]
    },
    {
     "name": "stderr",
     "output_type": "stream",
     "text": [
      " 72%|███████▏  | 1155/1600 [06:00<13:44,  1.85s/it]"
     ]
    },
    {
     "name": "stdout",
     "output_type": "stream",
     "text": [
      "Error detecting SK1.jpg {'media': {'media_uuid': '2b20cb4c-8d05-46c8-8c57-fdd5b0104e59', 'checksum': 'ebadc63cc24ddbacb647d97245d120e82a79fad016d1e4ccdba38876e7a1e8bc', 'faces': None, 'tags': [{'name': 'adult content', 'value': 'no', 'confidence': 0.0, 'x': 0.0, 'y': 0.0, 'width': 0.0, 'height': 0.0, 'angle': 0.0, 'instance_id': 0, 'start': '00:00:00', 'duration': '00:00:00'}], 'original_filename': 'SK1.jpg', 'duration': '00:00:00'}, 'recognize': None}\n"
     ]
    },
    {
     "name": "stderr",
     "output_type": "stream",
     "text": [
      "\r",
      " 72%|███████▏  | 1156/1600 [06:01<12:45,  1.72s/it]"
     ]
    },
    {
     "name": "stdout",
     "output_type": "stream",
     "text": [
      "Error detecting SK2.jpg {'media': {'media_uuid': 'd4e7e082-39f6-492f-a19d-55fc35df00ef', 'checksum': '97643816da1e548ca68604a87a5b28636f18f816feb208ef5c42f40bfaffe035', 'faces': None, 'tags': [{'name': 'adult content', 'value': 'no', 'confidence': 0.0, 'x': 0.0, 'y': 0.0, 'width': 0.0, 'height': 0.0, 'angle': 0.0, 'instance_id': 0, 'start': '00:00:00', 'duration': '00:00:00'}], 'original_filename': 'SK2.jpg', 'duration': '00:00:00'}, 'recognize': None}\n"
     ]
    },
    {
     "name": "stderr",
     "output_type": "stream",
     "text": [
      " 73%|███████▎  | 1164/1600 [06:15<12:39,  1.74s/it]"
     ]
    },
    {
     "name": "stdout",
     "output_type": "stream",
     "text": [
      "Error detecting SM1.jpg {'media': {'media_uuid': 'ef4e97fd-2cb3-4346-9b2f-7ffec8278d1b', 'checksum': '7daf0b8c46f7800d9460809afcc586d13fec550d443604a69fb387a4a150a0d1', 'faces': None, 'tags': [{'name': 'adult content', 'value': 'no', 'confidence': 0.0, 'x': 0.0, 'y': 0.0, 'width': 0.0, 'height': 0.0, 'angle': 0.0, 'instance_id': 0, 'start': '00:00:00', 'duration': '00:00:00'}], 'original_filename': 'SM1.jpg', 'duration': '00:00:00'}, 'recognize': None}\n"
     ]
    },
    {
     "name": "stderr",
     "output_type": "stream",
     "text": [
      "\r",
      " 73%|███████▎  | 1165/1600 [06:16<11:15,  1.55s/it]"
     ]
    },
    {
     "name": "stdout",
     "output_type": "stream",
     "text": [
      "Error detecting SM2.jpg {'media': {'media_uuid': '4a1e7728-d8ea-4776-bda3-22d4b8edc4f5', 'checksum': '19e1d94e04f1546c2aaee9ee2d377d4ff9c98c538f63f02a5d523847791e9621', 'faces': None, 'tags': [{'name': 'adult content', 'value': 'no', 'confidence': 0.0, 'x': 0.0, 'y': 0.0, 'width': 0.0, 'height': 0.0, 'angle': 0.0, 'instance_id': 0, 'start': '00:00:00', 'duration': '00:00:00'}], 'original_filename': 'SM2.jpg', 'duration': '00:00:00'}, 'recognize': None}\n"
     ]
    },
    {
     "name": "stderr",
     "output_type": "stream",
     "text": [
      "\r",
      " 73%|███████▎  | 1166/1600 [06:18<10:26,  1.44s/it]"
     ]
    },
    {
     "name": "stdout",
     "output_type": "stream",
     "text": [
      "Error detecting SM3.jpg {'media': {'media_uuid': '6cc1710f-9828-48f0-8e21-a4a46e62dad1', 'checksum': '34f16a56059d507d3d8b3b93ccd298f54c1b47fac563cfbe6c602a7108ba5dfc', 'faces': None, 'tags': [{'name': 'adult content', 'value': 'no', 'confidence': 0.01, 'x': 0.0, 'y': 0.0, 'width': 0.0, 'height': 0.0, 'angle': 0.0, 'instance_id': 0, 'start': '00:00:00', 'duration': '00:00:00'}], 'original_filename': 'SM3.jpg', 'duration': '00:00:00'}, 'recognize': None}\n"
     ]
    },
    {
     "name": "stderr",
     "output_type": "stream",
     "text": [
      "\r",
      " 73%|███████▎  | 1167/1600 [06:18<08:48,  1.22s/it]"
     ]
    },
    {
     "name": "stdout",
     "output_type": "stream",
     "text": [
      "Error detecting SM4.jpg {'media': {'media_uuid': 'acc9c8be-8638-47f1-b148-b59e93cefe73', 'checksum': '7292f89579ec0e0742ad9d79217798d7f4838f6ddc13dc7ad40d1a81287f9769', 'faces': None, 'tags': [{'name': 'adult content', 'value': 'no', 'confidence': 0.0, 'x': 0.0, 'y': 0.0, 'width': 0.0, 'height': 0.0, 'angle': 0.0, 'instance_id': 0, 'start': '00:00:00', 'duration': '00:00:00'}], 'original_filename': 'SM4.jpg', 'duration': '00:00:00'}, 'recognize': None}\n"
     ]
    },
    {
     "name": "stderr",
     "output_type": "stream",
     "text": [
      "\r",
      " 73%|███████▎  | 1168/1600 [06:19<08:33,  1.19s/it]"
     ]
    },
    {
     "name": "stdout",
     "output_type": "stream",
     "text": [
      "Error detecting SM5.jpg {'media': {'media_uuid': '703444fb-3301-4119-9194-c2e9af9d8834', 'checksum': '781c0f060c7f01b9357db06264d493b834d2bedc98938fc06f826d04ad044245', 'faces': None, 'tags': [{'name': 'adult content', 'value': 'no', 'confidence': 0.01, 'x': 0.0, 'y': 0.0, 'width': 0.0, 'height': 0.0, 'angle': 0.0, 'instance_id': 0, 'start': '00:00:00', 'duration': '00:00:00'}], 'original_filename': 'SM5.jpg', 'duration': '00:00:00'}, 'recognize': None}\n"
     ]
    },
    {
     "name": "stderr",
     "output_type": "stream",
     "text": [
      "\r",
      " 73%|███████▎  | 1169/1600 [06:22<10:27,  1.46s/it]"
     ]
    },
    {
     "name": "stdout",
     "output_type": "stream",
     "text": [
      "Error detecting SM6.jpg {'media': {'media_uuid': 'a374ae1e-7c98-42a8-9fbd-0761a96d9ada', 'checksum': 'b71d330aab0493ba3bac584fcb4a674799bd45e9aed1605479c0ada5c753a2b9', 'faces': None, 'tags': [{'name': 'adult content', 'value': 'no', 'confidence': 0.02, 'x': 0.0, 'y': 0.0, 'width': 0.0, 'height': 0.0, 'angle': 0.0, 'instance_id': 0, 'start': '00:00:00', 'duration': '00:00:00'}], 'original_filename': 'SM6.jpg', 'duration': '00:00:00'}, 'recognize': None}\n"
     ]
    },
    {
     "name": "stderr",
     "output_type": "stream",
     "text": [
      " 74%|███████▍  | 1184/1600 [06:47<11:38,  1.68s/it]"
     ]
    },
    {
     "name": "stdout",
     "output_type": "stream",
     "text": [
      "Error detecting SNW3.jpg {'media': {'media_uuid': '2140cfb8-2e8c-47be-a670-5c062bb6d69f', 'checksum': '8cee521a65b0449e4fa179add7bf2e56f2020d92a3dcbf1c29577603d876621b', 'faces': None, 'tags': [{'name': 'adult content', 'value': 'no', 'confidence': 0.02, 'x': 0.0, 'y': 0.0, 'width': 0.0, 'height': 0.0, 'angle': 0.0, 'instance_id': 0, 'start': '00:00:00', 'duration': '00:00:00'}], 'original_filename': 'SNW3.jpg', 'duration': '00:00:00'}, 'recognize': None}\n"
     ]
    },
    {
     "name": "stderr",
     "output_type": "stream",
     "text": [
      " 75%|███████▍  | 1195/1600 [07:07<11:37,  1.72s/it]"
     ]
    },
    {
     "name": "stdout",
     "output_type": "stream",
     "text": [
      "Error detecting SP1.jpg {'media': {'media_uuid': 'ef3ec0eb-52d1-4fcd-af92-c791956ab7fe', 'checksum': 'bd0b7d0ba91bf181448fb4093cacb0968ff1d7b79e7f135e0e8b813ca76dccc2', 'faces': None, 'tags': [{'name': 'adult content', 'value': 'no', 'confidence': 0.0, 'x': 0.0, 'y': 0.0, 'width': 0.0, 'height': 0.0, 'angle': 0.0, 'instance_id': 0, 'start': '00:00:00', 'duration': '00:00:00'}], 'original_filename': 'SP1.jpg', 'duration': '00:00:00'}, 'recognize': None}\n"
     ]
    },
    {
     "name": "stderr",
     "output_type": "stream",
     "text": [
      "\r",
      " 75%|███████▍  | 1196/1600 [07:08<10:17,  1.53s/it]"
     ]
    },
    {
     "name": "stdout",
     "output_type": "stream",
     "text": [
      "Error detecting SP2.jpg {'media': {'media_uuid': '57b134a9-bdec-4f0d-95ec-d5e249142179', 'checksum': '21770a0a44fee83263bd348c0ed8a142460b446e807a59b642e9826ec99860bc', 'faces': None, 'tags': [{'name': 'adult content', 'value': 'no', 'confidence': 0.04, 'x': 0.0, 'y': 0.0, 'width': 0.0, 'height': 0.0, 'angle': 0.0, 'instance_id': 0, 'start': '00:00:00', 'duration': '00:00:00'}], 'original_filename': 'SP2.jpg', 'duration': '00:00:00'}, 'recognize': None}\n"
     ]
    },
    {
     "name": "stderr",
     "output_type": "stream",
     "text": [
      "\r",
      " 75%|███████▍  | 1197/1600 [07:09<09:44,  1.45s/it]"
     ]
    },
    {
     "name": "stdout",
     "output_type": "stream",
     "text": [
      "Error detecting SP3.jpg {'media': {'media_uuid': '8d15fe60-8a63-4ab4-9083-37884a0c974b', 'checksum': 'fd4839cf4d9c06422b33d04d7461977b2fc52599b48a6e0cba2876de1da7384c', 'faces': None, 'tags': [{'name': 'adult content', 'value': 'no', 'confidence': 0.01, 'x': 0.0, 'y': 0.0, 'width': 0.0, 'height': 0.0, 'angle': 0.0, 'instance_id': 0, 'start': '00:00:00', 'duration': '00:00:00'}], 'original_filename': 'SP3.jpg', 'duration': '00:00:00'}, 'recognize': None}\n"
     ]
    },
    {
     "name": "stderr",
     "output_type": "stream",
     "text": [
      "\r",
      " 75%|███████▍  | 1198/1600 [07:10<09:22,  1.40s/it]"
     ]
    },
    {
     "name": "stdout",
     "output_type": "stream",
     "text": [
      "Error detecting SP4.jpg {'media': {'media_uuid': 'e856e132-9c48-4b74-9796-9009d549e0b4', 'checksum': '92821ed03a4e6072517d9047cdc805c99a14d5a825ac58d2029678ca8eea0e0b', 'faces': None, 'tags': [{'name': 'adult content', 'value': 'no', 'confidence': 0.0, 'x': 0.0, 'y': 0.0, 'width': 0.0, 'height': 0.0, 'angle': 0.0, 'instance_id': 0, 'start': '00:00:00', 'duration': '00:00:00'}], 'original_filename': 'SP4.jpg', 'duration': '00:00:00'}, 'recognize': None}\n"
     ]
    },
    {
     "name": "stderr",
     "output_type": "stream",
     "text": [
      " 75%|███████▌  | 1201/1600 [07:15<09:56,  1.50s/it]"
     ]
    },
    {
     "name": "stdout",
     "output_type": "stream",
     "text": [
      "Error detecting SPEED2.jpg {'media': {'media_uuid': 'c314d20b-2de3-4065-b114-942191f0ae37', 'checksum': 'c59d860d1b66b678168ce531d483e68e44d3bcf9651ae62b9ad17282356f7cf6', 'faces': None, 'tags': [{'name': 'adult content', 'value': 'no', 'confidence': 0.01, 'x': 0.0, 'y': 0.0, 'width': 0.0, 'height': 0.0, 'angle': 0.0, 'instance_id': 0, 'start': '00:00:00', 'duration': '00:00:00'}], 'original_filename': 'SPEED2.jpg', 'duration': '00:00:00'}, 'recognize': None}\n"
     ]
    },
    {
     "name": "stderr",
     "output_type": "stream",
     "text": [
      " 80%|███████▉  | 1274/1600 [09:40<09:30,  1.75s/it]"
     ]
    },
    {
     "name": "stdout",
     "output_type": "stream",
     "text": [
      "Error detecting SW4.jpg {'media': {'media_uuid': 'b16a539c-301b-49c7-a81d-8179a02533cf', 'checksum': '3e710afba55b88f26e6e91a161437f0ce17fe2429cc5c73256dffe2f870b7dcd', 'faces': None, 'tags': [{'name': 'adult content', 'value': 'no', 'confidence': 0.0, 'x': 0.0, 'y': 0.0, 'width': 0.0, 'height': 0.0, 'angle': 0.0, 'instance_id': 0, 'start': '00:00:00', 'duration': '00:00:00'}], 'original_filename': 'SW4.jpg', 'duration': '00:00:00'}, 'recognize': None}\n"
     ]
    },
    {
     "name": "stderr",
     "output_type": "stream",
     "text": [
      " 83%|████████▎ | 1323/1600 [11:08<06:55,  1.50s/it]"
     ]
    },
    {
     "name": "stdout",
     "output_type": "stream",
     "text": [
      "Error detecting TB11.jpg {'media': {'media_uuid': '2993f642-9ee7-4afd-93ba-414830046f08', 'checksum': 'a4fdc4d28184e6595635cb9672d7f792f7ef7af03467ca0e134e231052ee81e2', 'faces': None, 'tags': [{'name': 'adult content', 'value': 'no', 'confidence': 0.05, 'x': 0.0, 'y': 0.0, 'width': 0.0, 'height': 0.0, 'angle': 0.0, 'instance_id': 0, 'start': '00:00:00', 'duration': '00:00:00'}], 'original_filename': 'TB11.jpg', 'duration': '00:00:00'}, 'recognize': None}\n"
     ]
    },
    {
     "name": "stderr",
     "output_type": "stream",
     "text": [
      " 84%|████████▍ | 1341/1600 [11:41<06:57,  1.61s/it]"
     ]
    },
    {
     "name": "stdout",
     "output_type": "stream",
     "text": [
      "Error detecting TDPT3.jpg {'media': {'media_uuid': '1a4091dd-886b-4771-b35c-5169659fb3d5', 'checksum': '43403508f5e3ef995ad8f44dbade25f2f9aa1df511fd0a2d5e83c17af97f03dd', 'faces': None, 'tags': [{'name': 'adult content', 'value': 'no', 'confidence': 0.24, 'x': 0.0, 'y': 0.0, 'width': 0.0, 'height': 0.0, 'angle': 0.0, 'instance_id': 0, 'start': '00:00:00', 'duration': '00:00:00'}], 'original_filename': 'TDPT3.jpg', 'duration': '00:00:00'}, 'recognize': None}\n"
     ]
    },
    {
     "name": "stderr",
     "output_type": "stream",
     "text": [
      " 86%|████████▋ | 1383/1600 [12:57<06:16,  1.74s/it]"
     ]
    },
    {
     "name": "stdout",
     "output_type": "stream",
     "text": [
      "Error detecting TLM2.jpg {'media': {'media_uuid': '01e95e13-95e5-4932-a228-0ff87aff70ce', 'checksum': '1edb88d0ae0774f682ea7b6d034a54762dfe7b42fb9dc6c613769893cbdd9b9c', 'faces': None, 'tags': [{'name': 'adult content', 'value': 'no', 'confidence': 0.01, 'x': 0.0, 'y': 0.0, 'width': 0.0, 'height': 0.0, 'angle': 0.0, 'instance_id': 0, 'start': '00:00:00', 'duration': '00:00:00'}], 'original_filename': 'TLM2.jpg', 'duration': '00:00:00'}, 'recognize': None}\n"
     ]
    },
    {
     "name": "stderr",
     "output_type": "stream",
     "text": [
      "\r",
      " 86%|████████▋ | 1384/1600 [12:58<05:32,  1.54s/it]"
     ]
    },
    {
     "name": "stdout",
     "output_type": "stream",
     "text": [
      "Error detecting TLM3.jpg {'media': {'media_uuid': 'ab3e882a-f4de-46eb-8148-00d8ef4bcb62', 'checksum': 'f5575e8630afb05e8450c4fa21314c99dd03d29e671d258369178ef64cedbd17', 'faces': None, 'tags': [{'name': 'adult content', 'value': 'no', 'confidence': 0.01, 'x': 0.0, 'y': 0.0, 'width': 0.0, 'height': 0.0, 'angle': 0.0, 'instance_id': 0, 'start': '00:00:00', 'duration': '00:00:00'}], 'original_filename': 'TLM3.jpg', 'duration': '00:00:00'}, 'recognize': None}\n"
     ]
    },
    {
     "name": "stderr",
     "output_type": "stream",
     "text": [
      " 90%|████████▉ | 1434/1600 [14:29<04:35,  1.66s/it]"
     ]
    },
    {
     "name": "stdout",
     "output_type": "stream",
     "text": [
      "Error detecting TRNF3.jpg {'media': {'media_uuid': 'ab9d42f8-3ac8-49d6-aa4a-063058240b67', 'checksum': '0d475edf9cd5d06cd849a9c7ebe983c16fecce317bc6a8569f8f9b122df58122', 'faces': None, 'tags': [{'name': 'adult content', 'value': 'no', 'confidence': 0.01, 'x': 0.0, 'y': 0.0, 'width': 0.0, 'height': 0.0, 'angle': 0.0, 'instance_id': 0, 'start': '00:00:00', 'duration': '00:00:00'}], 'original_filename': 'TRNF3.jpg', 'duration': '00:00:00'}, 'recognize': None}\n"
     ]
    },
    {
     "name": "stderr",
     "output_type": "stream",
     "text": [
      "\r",
      " 90%|████████▉ | 1435/1600 [14:31<04:21,  1.58s/it]"
     ]
    },
    {
     "name": "stdout",
     "output_type": "stream",
     "text": [
      "Error detecting TRNF4.jpg {'media': {'media_uuid': 'da957c40-34e1-43ec-9568-eaddf0811cce', 'checksum': '75ebd42c7a2afd6523fde7e8d50ebda67ee841dc8d450a86381f2b8431dbeeb7', 'faces': None, 'tags': [{'name': 'adult content', 'value': 'no', 'confidence': 0.0, 'x': 0.0, 'y': 0.0, 'width': 0.0, 'height': 0.0, 'angle': 0.0, 'instance_id': 0, 'start': '00:00:00', 'duration': '00:00:00'}], 'original_filename': 'TRNF4.jpg', 'duration': '00:00:00'}, 'recognize': None}\n"
     ]
    },
    {
     "name": "stderr",
     "output_type": "stream",
     "text": [
      "\r",
      " 90%|████████▉ | 1436/1600 [14:33<04:31,  1.66s/it]"
     ]
    },
    {
     "name": "stdout",
     "output_type": "stream",
     "text": [
      "Error detecting TRNF5.jpg {'media': {'media_uuid': 'b7128efd-c003-454b-9ebd-46e36fd88893', 'checksum': '755aae49b7429ed6c45e44954245114c8f940ee28bb3fd1a2c99b057461dfae9', 'faces': None, 'tags': [{'name': 'adult content', 'value': 'no', 'confidence': 0.01, 'x': 0.0, 'y': 0.0, 'width': 0.0, 'height': 0.0, 'angle': 0.0, 'instance_id': 0, 'start': '00:00:00', 'duration': '00:00:00'}], 'original_filename': 'TRNF5.jpg', 'duration': '00:00:00'}, 'recognize': None}\n"
     ]
    },
    {
     "name": "stderr",
     "output_type": "stream",
     "text": [
      " 90%|█████████ | 1443/1600 [14:44<04:03,  1.55s/it]"
     ]
    },
    {
     "name": "stdout",
     "output_type": "stream",
     "text": [
      "Error detecting TS4.jpg {'media': {'media_uuid': '0d59801e-c469-428f-9269-86756ba9981a', 'checksum': 'cf7e63737684fa6376702c8dc222b6a38f9a9e33c1880eea79a8d0beb3786286', 'faces': None, 'tags': [{'name': 'adult content', 'value': 'no', 'confidence': 0.05, 'x': 0.0, 'y': 0.0, 'width': 0.0, 'height': 0.0, 'angle': 0.0, 'instance_id': 0, 'start': '00:00:00', 'duration': '00:00:00'}], 'original_filename': 'TS4.jpg', 'duration': '00:00:00'}, 'recognize': None}\n"
     ]
    },
    {
     "name": "stderr",
     "output_type": "stream",
     "text": [
      " 94%|█████████▍| 1505/1600 [16:41<02:35,  1.64s/it]"
     ]
    },
    {
     "name": "stdout",
     "output_type": "stream",
     "text": [
      "Error detecting VK1.jpg {'error_code': -57, 'error_description': 'you have reached your daily processed images limit'}\n"
     ]
    },
    {
     "name": "stderr",
     "output_type": "stream",
     "text": [
      "\r",
      " 94%|█████████▍| 1506/1600 [16:41<02:01,  1.29s/it]"
     ]
    },
    {
     "name": "stdout",
     "output_type": "stream",
     "text": [
      "Error detecting VK10.jpg {'error_code': -57, 'error_description': 'you have reached your daily processed images limit'}\n"
     ]
    },
    {
     "name": "stderr",
     "output_type": "stream",
     "text": [
      "\r",
      " 94%|█████████▍| 1507/1600 [16:42<01:37,  1.05s/it]"
     ]
    },
    {
     "name": "stdout",
     "output_type": "stream",
     "text": [
      "Error detecting VK2.jpg {'error_code': -57, 'error_description': 'you have reached your daily processed images limit'}\n"
     ]
    },
    {
     "name": "stderr",
     "output_type": "stream",
     "text": [
      "\r",
      " 94%|█████████▍| 1508/1600 [16:42<01:21,  1.14it/s]"
     ]
    },
    {
     "name": "stdout",
     "output_type": "stream",
     "text": [
      "Error detecting VK3.jpg {'error_code': -57, 'error_description': 'you have reached your daily processed images limit'}\n"
     ]
    },
    {
     "name": "stderr",
     "output_type": "stream",
     "text": [
      "\r",
      " 94%|█████████▍| 1509/1600 [16:43<01:12,  1.26it/s]"
     ]
    },
    {
     "name": "stdout",
     "output_type": "stream",
     "text": [
      "Error detecting VK4.jpg {'error_code': -57, 'error_description': 'you have reached your daily processed images limit'}\n"
     ]
    },
    {
     "name": "stderr",
     "output_type": "stream",
     "text": [
      "\r",
      " 94%|█████████▍| 1510/1600 [16:43<01:03,  1.42it/s]"
     ]
    },
    {
     "name": "stdout",
     "output_type": "stream",
     "text": [
      "Error detecting VK5.jpg {'error_code': -57, 'error_description': 'you have reached your daily processed images limit'}\n"
     ]
    },
    {
     "name": "stderr",
     "output_type": "stream",
     "text": [
      "\r",
      " 94%|█████████▍| 1511/1600 [16:44<00:57,  1.56it/s]"
     ]
    },
    {
     "name": "stdout",
     "output_type": "stream",
     "text": [
      "Error detecting VK6.jpg {'error_code': -57, 'error_description': 'you have reached your daily processed images limit'}\n"
     ]
    },
    {
     "name": "stderr",
     "output_type": "stream",
     "text": [
      "\r",
      " 94%|█████████▍| 1512/1600 [16:44<00:52,  1.69it/s]"
     ]
    },
    {
     "name": "stdout",
     "output_type": "stream",
     "text": [
      "Error detecting VK7.jpg {'error_code': -57, 'error_description': 'you have reached your daily processed images limit'}\n"
     ]
    },
    {
     "name": "stderr",
     "output_type": "stream",
     "text": [
      "\r",
      " 95%|█████████▍| 1513/1600 [16:45<00:48,  1.79it/s]"
     ]
    },
    {
     "name": "stdout",
     "output_type": "stream",
     "text": [
      "Error detecting VK8.jpg {'error_code': -57, 'error_description': 'you have reached your daily processed images limit'}\n"
     ]
    },
    {
     "name": "stderr",
     "output_type": "stream",
     "text": [
      "\r",
      " 95%|█████████▍| 1514/1600 [16:45<00:48,  1.79it/s]"
     ]
    },
    {
     "name": "stdout",
     "output_type": "stream",
     "text": [
      "Error detecting VK9.jpg {'error_code': -57, 'error_description': 'you have reached your daily processed images limit'}\n"
     ]
    },
    {
     "name": "stderr",
     "output_type": "stream",
     "text": [
      "\r",
      " 95%|█████████▍| 1515/1600 [16:46<00:45,  1.87it/s]"
     ]
    },
    {
     "name": "stdout",
     "output_type": "stream",
     "text": [
      "Error detecting WC1.jpg {'error_code': -57, 'error_description': 'you have reached your daily processed images limit'}\n"
     ]
    },
    {
     "name": "stderr",
     "output_type": "stream",
     "text": [
      "\r",
      " 95%|█████████▍| 1516/1600 [16:46<00:43,  1.93it/s]"
     ]
    },
    {
     "name": "stdout",
     "output_type": "stream",
     "text": [
      "Error detecting WC2.jpg {'error_code': -57, 'error_description': 'you have reached your daily processed images limit'}\n"
     ]
    },
    {
     "name": "stderr",
     "output_type": "stream",
     "text": [
      "\r",
      " 95%|█████████▍| 1517/1600 [16:47<00:42,  1.95it/s]"
     ]
    },
    {
     "name": "stdout",
     "output_type": "stream",
     "text": [
      "Error detecting WC3.jpg {'error_code': -57, 'error_description': 'you have reached your daily processed images limit'}\n"
     ]
    },
    {
     "name": "stderr",
     "output_type": "stream",
     "text": [
      "\r",
      " 95%|█████████▍| 1518/1600 [16:47<00:41,  1.99it/s]"
     ]
    },
    {
     "name": "stdout",
     "output_type": "stream",
     "text": [
      "Error detecting WC4.jpg {'error_code': -57, 'error_description': 'you have reached your daily processed images limit'}\n"
     ]
    },
    {
     "name": "stderr",
     "output_type": "stream",
     "text": [
      "\r",
      " 95%|█████████▍| 1519/1600 [16:48<00:40,  2.01it/s]"
     ]
    },
    {
     "name": "stdout",
     "output_type": "stream",
     "text": [
      "Error detecting WC5.jpg {'error_code': -57, 'error_description': 'you have reached your daily processed images limit'}\n"
     ]
    },
    {
     "name": "stderr",
     "output_type": "stream",
     "text": [
      "\r",
      " 95%|█████████▌| 1520/1600 [16:48<00:37,  2.14it/s]"
     ]
    },
    {
     "name": "stdout",
     "output_type": "stream",
     "text": [
      "Error detecting WC6.jpg {'error_code': -57, 'error_description': 'you have reached your daily processed images limit'}\n"
     ]
    },
    {
     "name": "stderr",
     "output_type": "stream",
     "text": [
      "\r",
      " 95%|█████████▌| 1521/1600 [16:49<00:37,  2.11it/s]"
     ]
    },
    {
     "name": "stdout",
     "output_type": "stream",
     "text": [
      "Error detecting WD1.jpg {'error_code': -57, 'error_description': 'you have reached your daily processed images limit'}\n"
     ]
    },
    {
     "name": "stderr",
     "output_type": "stream",
     "text": [
      "\r",
      " 95%|█████████▌| 1522/1600 [16:49<00:36,  2.11it/s]"
     ]
    },
    {
     "name": "stdout",
     "output_type": "stream",
     "text": [
      "Error detecting WD10.jpg {'error_code': -57, 'error_description': 'you have reached your daily processed images limit'}\n"
     ]
    },
    {
     "name": "stderr",
     "output_type": "stream",
     "text": [
      "\r",
      " 95%|█████████▌| 1523/1600 [16:50<00:36,  2.11it/s]"
     ]
    },
    {
     "name": "stdout",
     "output_type": "stream",
     "text": [
      "Error detecting WD2.jpg {'error_code': -57, 'error_description': 'you have reached your daily processed images limit'}\n"
     ]
    },
    {
     "name": "stderr",
     "output_type": "stream",
     "text": [
      "\r",
      " 95%|█████████▌| 1524/1600 [16:50<00:38,  1.98it/s]"
     ]
    },
    {
     "name": "stdout",
     "output_type": "stream",
     "text": [
      "Error detecting WD3.jpg {'error_code': -57, 'error_description': 'you have reached your daily processed images limit'}\n"
     ]
    },
    {
     "name": "stderr",
     "output_type": "stream",
     "text": [
      "\r",
      " 95%|█████████▌| 1525/1600 [16:51<00:37,  2.01it/s]"
     ]
    },
    {
     "name": "stdout",
     "output_type": "stream",
     "text": [
      "Error detecting WD4.jpg {'error_code': -57, 'error_description': 'you have reached your daily processed images limit'}\n"
     ]
    },
    {
     "name": "stderr",
     "output_type": "stream",
     "text": [
      "\r",
      " 95%|█████████▌| 1526/1600 [16:51<00:36,  2.02it/s]"
     ]
    },
    {
     "name": "stdout",
     "output_type": "stream",
     "text": [
      "Error detecting WD5.jpg {'error_code': -57, 'error_description': 'you have reached your daily processed images limit'}\n"
     ]
    },
    {
     "name": "stderr",
     "output_type": "stream",
     "text": [
      "\r",
      " 95%|█████████▌| 1527/1600 [16:52<00:35,  2.05it/s]"
     ]
    },
    {
     "name": "stdout",
     "output_type": "stream",
     "text": [
      "Error detecting WD6.jpg {'error_code': -57, 'error_description': 'you have reached your daily processed images limit'}\n"
     ]
    },
    {
     "name": "stderr",
     "output_type": "stream",
     "text": [
      "\r",
      " 96%|█████████▌| 1528/1600 [16:52<00:34,  2.07it/s]"
     ]
    },
    {
     "name": "stdout",
     "output_type": "stream",
     "text": [
      "Error detecting WD7.jpg {'error_code': -57, 'error_description': 'you have reached your daily processed images limit'}\n"
     ]
    },
    {
     "name": "stderr",
     "output_type": "stream",
     "text": [
      "\r",
      " 96%|█████████▌| 1529/1600 [16:53<00:34,  2.07it/s]"
     ]
    },
    {
     "name": "stdout",
     "output_type": "stream",
     "text": [
      "Error detecting WD8.jpg {'error_code': -57, 'error_description': 'you have reached your daily processed images limit'}\n"
     ]
    },
    {
     "name": "stderr",
     "output_type": "stream",
     "text": [
      "\r",
      " 96%|█████████▌| 1530/1600 [16:53<00:33,  2.09it/s]"
     ]
    },
    {
     "name": "stdout",
     "output_type": "stream",
     "text": [
      "Error detecting WD9.jpg {'error_code': -57, 'error_description': 'you have reached your daily processed images limit'}\n"
     ]
    },
    {
     "name": "stderr",
     "output_type": "stream",
     "text": [
      "\r",
      " 96%|█████████▌| 1531/1600 [16:54<00:33,  2.09it/s]"
     ]
    },
    {
     "name": "stdout",
     "output_type": "stream",
     "text": [
      "Error detecting WE1.jpg {'error_code': -57, 'error_description': 'you have reached your daily processed images limit'}\n"
     ]
    },
    {
     "name": "stderr",
     "output_type": "stream",
     "text": [
      "\r",
      " 96%|█████████▌| 1532/1600 [16:54<00:36,  1.88it/s]"
     ]
    },
    {
     "name": "stdout",
     "output_type": "stream",
     "text": [
      "Error detecting WE2.jpg {'error_code': -57, 'error_description': 'you have reached your daily processed images limit'}\n"
     ]
    },
    {
     "name": "stderr",
     "output_type": "stream",
     "text": [
      "\r",
      " 96%|█████████▌| 1533/1600 [16:55<00:34,  1.94it/s]"
     ]
    },
    {
     "name": "stdout",
     "output_type": "stream",
     "text": [
      "Error detecting WE3.jpg {'error_code': -57, 'error_description': 'you have reached your daily processed images limit'}\n"
     ]
    },
    {
     "name": "stderr",
     "output_type": "stream",
     "text": [
      "\r",
      " 96%|█████████▌| 1534/1600 [16:55<00:33,  1.96it/s]"
     ]
    },
    {
     "name": "stdout",
     "output_type": "stream",
     "text": [
      "Error detecting WE4.jpg {'error_code': -57, 'error_description': 'you have reached your daily processed images limit'}\n"
     ]
    },
    {
     "name": "stderr",
     "output_type": "stream",
     "text": [
      "\r",
      " 96%|█████████▌| 1535/1600 [16:56<00:32,  1.99it/s]"
     ]
    },
    {
     "name": "stdout",
     "output_type": "stream",
     "text": [
      "Error detecting WE5.jpg {'error_code': -57, 'error_description': 'you have reached your daily processed images limit'}\n"
     ]
    },
    {
     "name": "stderr",
     "output_type": "stream",
     "text": [
      "\r",
      " 96%|█████████▌| 1536/1600 [16:56<00:31,  2.03it/s]"
     ]
    },
    {
     "name": "stdout",
     "output_type": "stream",
     "text": [
      "Error detecting WO1.jpg {'error_code': -57, 'error_description': 'you have reached your daily processed images limit'}\n"
     ]
    },
    {
     "name": "stderr",
     "output_type": "stream",
     "text": [
      "\r",
      " 96%|█████████▌| 1537/1600 [16:57<00:30,  2.05it/s]"
     ]
    },
    {
     "name": "stdout",
     "output_type": "stream",
     "text": [
      "Error detecting WO2.jpg {'error_code': -57, 'error_description': 'you have reached your daily processed images limit'}\n"
     ]
    },
    {
     "name": "stderr",
     "output_type": "stream",
     "text": [
      "\r",
      " 96%|█████████▌| 1538/1600 [16:57<00:30,  2.03it/s]"
     ]
    },
    {
     "name": "stdout",
     "output_type": "stream",
     "text": [
      "Error detecting WO3.jpg {'error_code': -57, 'error_description': 'you have reached your daily processed images limit'}\n"
     ]
    },
    {
     "name": "stderr",
     "output_type": "stream",
     "text": [
      "\r",
      " 96%|█████████▌| 1539/1600 [16:58<00:29,  2.05it/s]"
     ]
    },
    {
     "name": "stdout",
     "output_type": "stream",
     "text": [
      "Error detecting WO4.jpg {'error_code': -57, 'error_description': 'you have reached your daily processed images limit'}\n"
     ]
    },
    {
     "name": "stderr",
     "output_type": "stream",
     "text": [
      "\r",
      " 96%|█████████▋| 1540/1600 [16:58<00:29,  2.05it/s]"
     ]
    },
    {
     "name": "stdout",
     "output_type": "stream",
     "text": [
      "Error detecting WO5.jpg {'error_code': -57, 'error_description': 'you have reached your daily processed images limit'}\n"
     ]
    },
    {
     "name": "stderr",
     "output_type": "stream",
     "text": [
      "\r",
      " 96%|█████████▋| 1541/1600 [16:59<00:28,  2.07it/s]"
     ]
    },
    {
     "name": "stdout",
     "output_type": "stream",
     "text": [
      "Error detecting WO6.jpg {'error_code': -57, 'error_description': 'you have reached your daily processed images limit'}\n"
     ]
    },
    {
     "name": "stderr",
     "output_type": "stream",
     "text": [
      "\r",
      " 96%|█████████▋| 1542/1600 [16:59<00:28,  2.05it/s]"
     ]
    },
    {
     "name": "stdout",
     "output_type": "stream",
     "text": [
      "Error detecting WSS1.jpg {'error_code': -57, 'error_description': 'you have reached your daily processed images limit'}\n"
     ]
    },
    {
     "name": "stderr",
     "output_type": "stream",
     "text": [
      "\r",
      " 96%|█████████▋| 1543/1600 [17:00<00:28,  2.03it/s]"
     ]
    },
    {
     "name": "stdout",
     "output_type": "stream",
     "text": [
      "Error detecting WSS2.jpg {'error_code': -57, 'error_description': 'you have reached your daily processed images limit'}\n"
     ]
    },
    {
     "name": "stderr",
     "output_type": "stream",
     "text": [
      "\r",
      " 96%|█████████▋| 1544/1600 [17:00<00:27,  2.05it/s]"
     ]
    },
    {
     "name": "stdout",
     "output_type": "stream",
     "text": [
      "Error detecting WSS3.jpg {'error_code': -57, 'error_description': 'you have reached your daily processed images limit'}\n"
     ]
    },
    {
     "name": "stderr",
     "output_type": "stream",
     "text": [
      "\r",
      " 97%|█████████▋| 1545/1600 [17:01<00:26,  2.07it/s]"
     ]
    },
    {
     "name": "stdout",
     "output_type": "stream",
     "text": [
      "Error detecting WSS4.jpg {'error_code': -57, 'error_description': 'you have reached your daily processed images limit'}\n"
     ]
    },
    {
     "name": "stderr",
     "output_type": "stream",
     "text": [
      "\r",
      " 97%|█████████▋| 1546/1600 [17:01<00:25,  2.08it/s]"
     ]
    },
    {
     "name": "stdout",
     "output_type": "stream",
     "text": [
      "Error detecting WSS5.jpg {'error_code': -57, 'error_description': 'you have reached your daily processed images limit'}\n"
     ]
    },
    {
     "name": "stderr",
     "output_type": "stream",
     "text": [
      "\r",
      " 97%|█████████▋| 1547/1600 [17:02<00:25,  2.09it/s]"
     ]
    },
    {
     "name": "stdout",
     "output_type": "stream",
     "text": [
      "Error detecting WSW1.jpg {'error_code': -57, 'error_description': 'you have reached your daily processed images limit'}\n"
     ]
    },
    {
     "name": "stderr",
     "output_type": "stream",
     "text": [
      "\r",
      " 97%|█████████▋| 1548/1600 [17:02<00:25,  2.07it/s]"
     ]
    },
    {
     "name": "stdout",
     "output_type": "stream",
     "text": [
      "Error detecting WSW10.jpg {'error_code': -57, 'error_description': 'you have reached your daily processed images limit'}\n"
     ]
    },
    {
     "name": "stderr",
     "output_type": "stream",
     "text": [
      "\r",
      " 97%|█████████▋| 1549/1600 [17:02<00:23,  2.19it/s]"
     ]
    },
    {
     "name": "stdout",
     "output_type": "stream",
     "text": [
      "Error detecting WSW11.jpg {'error_code': -57, 'error_description': 'you have reached your daily processed images limit'}\n"
     ]
    },
    {
     "name": "stderr",
     "output_type": "stream",
     "text": [
      "\r",
      " 97%|█████████▋| 1550/1600 [17:03<00:23,  2.13it/s]"
     ]
    },
    {
     "name": "stdout",
     "output_type": "stream",
     "text": [
      "Error detecting WSW12.jpg {'error_code': -57, 'error_description': 'you have reached your daily processed images limit'}\n"
     ]
    },
    {
     "name": "stderr",
     "output_type": "stream",
     "text": [
      "\r",
      " 97%|█████████▋| 1551/1600 [17:03<00:23,  2.10it/s]"
     ]
    },
    {
     "name": "stdout",
     "output_type": "stream",
     "text": [
      "Error detecting WSW13.jpg {'error_code': -57, 'error_description': 'you have reached your daily processed images limit'}\n"
     ]
    },
    {
     "name": "stderr",
     "output_type": "stream",
     "text": [
      "\r",
      " 97%|█████████▋| 1552/1600 [17:04<00:21,  2.19it/s]"
     ]
    },
    {
     "name": "stdout",
     "output_type": "stream",
     "text": [
      "Error detecting WSW14.jpg {'error_code': -57, 'error_description': 'you have reached your daily processed images limit'}\n"
     ]
    },
    {
     "name": "stderr",
     "output_type": "stream",
     "text": [
      "\r",
      " 97%|█████████▋| 1553/1600 [17:04<00:21,  2.17it/s]"
     ]
    },
    {
     "name": "stdout",
     "output_type": "stream",
     "text": [
      "Error detecting WSW15.jpg {'error_code': -57, 'error_description': 'you have reached your daily processed images limit'}\n"
     ]
    },
    {
     "name": "stderr",
     "output_type": "stream",
     "text": [
      "\r",
      " 97%|█████████▋| 1554/1600 [17:05<00:21,  2.13it/s]"
     ]
    },
    {
     "name": "stdout",
     "output_type": "stream",
     "text": [
      "Error detecting WSW2.jpg {'error_code': -57, 'error_description': 'you have reached your daily processed images limit'}\n"
     ]
    },
    {
     "name": "stderr",
     "output_type": "stream",
     "text": [
      "\r",
      " 97%|█████████▋| 1555/1600 [17:05<00:21,  2.11it/s]"
     ]
    },
    {
     "name": "stdout",
     "output_type": "stream",
     "text": [
      "Error detecting WSW3.jpg {'error_code': -57, 'error_description': 'you have reached your daily processed images limit'}\n"
     ]
    },
    {
     "name": "stderr",
     "output_type": "stream",
     "text": [
      "\r",
      " 97%|█████████▋| 1556/1600 [17:06<00:21,  2.08it/s]"
     ]
    },
    {
     "name": "stdout",
     "output_type": "stream",
     "text": [
      "Error detecting WSW4.jpg {'error_code': -57, 'error_description': 'you have reached your daily processed images limit'}\n"
     ]
    },
    {
     "name": "stderr",
     "output_type": "stream",
     "text": [
      "\r",
      " 97%|█████████▋| 1557/1600 [17:06<00:20,  2.05it/s]"
     ]
    },
    {
     "name": "stdout",
     "output_type": "stream",
     "text": [
      "Error detecting WSW5.jpg {'error_code': -57, 'error_description': 'you have reached your daily processed images limit'}\n"
     ]
    },
    {
     "name": "stderr",
     "output_type": "stream",
     "text": [
      "\r",
      " 97%|█████████▋| 1558/1600 [17:07<00:19,  2.19it/s]"
     ]
    },
    {
     "name": "stdout",
     "output_type": "stream",
     "text": [
      "Error detecting WSW6.jpg {'error_code': -57, 'error_description': 'you have reached your daily processed images limit'}\n"
     ]
    },
    {
     "name": "stderr",
     "output_type": "stream",
     "text": [
      "\r",
      " 97%|█████████▋| 1559/1600 [17:07<00:19,  2.13it/s]"
     ]
    },
    {
     "name": "stdout",
     "output_type": "stream",
     "text": [
      "Error detecting WSW7.jpg {'error_code': -57, 'error_description': 'you have reached your daily processed images limit'}\n"
     ]
    },
    {
     "name": "stderr",
     "output_type": "stream",
     "text": [
      "\r",
      " 98%|█████████▊| 1560/1600 [17:08<00:18,  2.12it/s]"
     ]
    },
    {
     "name": "stdout",
     "output_type": "stream",
     "text": [
      "Error detecting WSW8.jpg {'error_code': -57, 'error_description': 'you have reached your daily processed images limit'}\n"
     ]
    },
    {
     "name": "stderr",
     "output_type": "stream",
     "text": [
      "\r",
      " 98%|█████████▊| 1561/1600 [17:08<00:18,  2.08it/s]"
     ]
    },
    {
     "name": "stdout",
     "output_type": "stream",
     "text": [
      "Error detecting WSW9.jpg {'error_code': -57, 'error_description': 'you have reached your daily processed images limit'}\n"
     ]
    },
    {
     "name": "stderr",
     "output_type": "stream",
     "text": [
      "\r",
      " 98%|█████████▊| 1562/1600 [17:09<00:19,  1.96it/s]"
     ]
    },
    {
     "name": "stdout",
     "output_type": "stream",
     "text": [
      "Error detecting WW1.jpg {'error_code': -57, 'error_description': 'you have reached your daily processed images limit'}\n"
     ]
    },
    {
     "name": "stderr",
     "output_type": "stream",
     "text": [
      "\r",
      " 98%|█████████▊| 1563/1600 [17:09<00:19,  1.90it/s]"
     ]
    },
    {
     "name": "stdout",
     "output_type": "stream",
     "text": [
      "Error detecting WW10.jpg {'error_code': -57, 'error_description': 'you have reached your daily processed images limit'}\n"
     ]
    },
    {
     "name": "stderr",
     "output_type": "stream",
     "text": [
      "\r",
      " 98%|█████████▊| 1564/1600 [17:10<00:18,  1.96it/s]"
     ]
    },
    {
     "name": "stdout",
     "output_type": "stream",
     "text": [
      "Error detecting WW2.jpg {'error_code': -57, 'error_description': 'you have reached your daily processed images limit'}\n"
     ]
    },
    {
     "name": "stderr",
     "output_type": "stream",
     "text": [
      "\r",
      " 98%|█████████▊| 1565/1600 [17:10<00:18,  1.90it/s]"
     ]
    },
    {
     "name": "stdout",
     "output_type": "stream",
     "text": [
      "Error detecting WW3.jpg {'error_code': -57, 'error_description': 'you have reached your daily processed images limit'}\n"
     ]
    },
    {
     "name": "stderr",
     "output_type": "stream",
     "text": [
      "\r",
      " 98%|█████████▊| 1566/1600 [17:11<00:18,  1.85it/s]"
     ]
    },
    {
     "name": "stdout",
     "output_type": "stream",
     "text": [
      "Error detecting WW4.jpg {'error_code': -57, 'error_description': 'you have reached your daily processed images limit'}\n"
     ]
    },
    {
     "name": "stderr",
     "output_type": "stream",
     "text": [
      "\r",
      " 98%|█████████▊| 1567/1600 [17:11<00:18,  1.82it/s]"
     ]
    },
    {
     "name": "stdout",
     "output_type": "stream",
     "text": [
      "Error detecting WW5.jpg {'error_code': -57, 'error_description': 'you have reached your daily processed images limit'}\n"
     ]
    },
    {
     "name": "stderr",
     "output_type": "stream",
     "text": [
      "\r",
      " 98%|█████████▊| 1568/1600 [17:12<00:17,  1.80it/s]"
     ]
    },
    {
     "name": "stdout",
     "output_type": "stream",
     "text": [
      "Error detecting WW6.jpg {'error_code': -57, 'error_description': 'you have reached your daily processed images limit'}\n"
     ]
    },
    {
     "name": "stderr",
     "output_type": "stream",
     "text": [
      "\r",
      " 98%|█████████▊| 1569/1600 [17:13<00:17,  1.79it/s]"
     ]
    },
    {
     "name": "stdout",
     "output_type": "stream",
     "text": [
      "Error detecting WW7.jpg {'error_code': -57, 'error_description': 'you have reached your daily processed images limit'}\n"
     ]
    },
    {
     "name": "stderr",
     "output_type": "stream",
     "text": [
      "\r",
      " 98%|█████████▊| 1570/1600 [17:13<00:16,  1.79it/s]"
     ]
    },
    {
     "name": "stdout",
     "output_type": "stream",
     "text": [
      "Error detecting WW8.jpg {'error_code': -57, 'error_description': 'you have reached your daily processed images limit'}\n"
     ]
    },
    {
     "name": "stderr",
     "output_type": "stream",
     "text": [
      "\r",
      " 98%|█████████▊| 1571/1600 [17:14<00:15,  1.87it/s]"
     ]
    },
    {
     "name": "stdout",
     "output_type": "stream",
     "text": [
      "Error detecting WW9.jpg {'error_code': -57, 'error_description': 'you have reached your daily processed images limit'}\n"
     ]
    },
    {
     "name": "stderr",
     "output_type": "stream",
     "text": [
      "\r",
      " 98%|█████████▊| 1572/1600 [17:14<00:14,  1.92it/s]"
     ]
    },
    {
     "name": "stdout",
     "output_type": "stream",
     "text": [
      "Error detecting WWCF1.jpg {'error_code': -57, 'error_description': 'you have reached your daily processed images limit'}\n"
     ]
    },
    {
     "name": "stderr",
     "output_type": "stream",
     "text": [
      "\r",
      " 98%|█████████▊| 1573/1600 [17:15<00:13,  1.94it/s]"
     ]
    },
    {
     "name": "stdout",
     "output_type": "stream",
     "text": [
      "Error detecting WWCF2.jpg {'error_code': -57, 'error_description': 'you have reached your daily processed images limit'}\n"
     ]
    },
    {
     "name": "stderr",
     "output_type": "stream",
     "text": [
      "\r",
      " 98%|█████████▊| 1574/1600 [17:15<00:13,  1.97it/s]"
     ]
    },
    {
     "name": "stdout",
     "output_type": "stream",
     "text": [
      "Error detecting WWCF3.jpg {'error_code': -57, 'error_description': 'you have reached your daily processed images limit'}\n"
     ]
    },
    {
     "name": "stderr",
     "output_type": "stream",
     "text": [
      "\r",
      " 98%|█████████▊| 1575/1600 [17:15<00:11,  2.12it/s]"
     ]
    },
    {
     "name": "stdout",
     "output_type": "stream",
     "text": [
      "Error detecting XF1.jpg {'error_code': -57, 'error_description': 'you have reached your daily processed images limit'}\n"
     ]
    },
    {
     "name": "stderr",
     "output_type": "stream",
     "text": [
      "\r",
      " 98%|█████████▊| 1576/1600 [17:16<00:11,  2.12it/s]"
     ]
    },
    {
     "name": "stdout",
     "output_type": "stream",
     "text": [
      "Error detecting XF2.jpg {'error_code': -57, 'error_description': 'you have reached your daily processed images limit'}\n"
     ]
    },
    {
     "name": "stderr",
     "output_type": "stream",
     "text": [
      "\r",
      " 99%|█████████▊| 1577/1600 [17:16<00:10,  2.11it/s]"
     ]
    },
    {
     "name": "stdout",
     "output_type": "stream",
     "text": [
      "Error detecting XF3.jpg {'error_code': -57, 'error_description': 'you have reached your daily processed images limit'}\n"
     ]
    },
    {
     "name": "stderr",
     "output_type": "stream",
     "text": [
      "\r",
      " 99%|█████████▊| 1578/1600 [17:17<00:10,  2.08it/s]"
     ]
    },
    {
     "name": "stdout",
     "output_type": "stream",
     "text": [
      "Error detecting XM1.jpg {'error_code': -57, 'error_description': 'you have reached your daily processed images limit'}\n"
     ]
    },
    {
     "name": "stderr",
     "output_type": "stream",
     "text": [
      "\r",
      " 99%|█████████▊| 1579/1600 [17:17<00:10,  2.09it/s]"
     ]
    },
    {
     "name": "stdout",
     "output_type": "stream",
     "text": [
      "Error detecting XM10.jpg {'error_code': -57, 'error_description': 'you have reached your daily processed images limit'}\n"
     ]
    },
    {
     "name": "stderr",
     "output_type": "stream",
     "text": [
      "\r",
      " 99%|█████████▉| 1580/1600 [17:18<00:09,  2.10it/s]"
     ]
    },
    {
     "name": "stdout",
     "output_type": "stream",
     "text": [
      "Error detecting XM2.jpg {'error_code': -57, 'error_description': 'you have reached your daily processed images limit'}\n"
     ]
    },
    {
     "name": "stderr",
     "output_type": "stream",
     "text": [
      "\r",
      " 99%|█████████▉| 1581/1600 [17:18<00:09,  2.10it/s]"
     ]
    },
    {
     "name": "stdout",
     "output_type": "stream",
     "text": [
      "Error detecting XM3.jpg {'error_code': -57, 'error_description': 'you have reached your daily processed images limit'}\n"
     ]
    },
    {
     "name": "stderr",
     "output_type": "stream",
     "text": [
      "\r",
      " 99%|█████████▉| 1582/1600 [17:19<00:08,  2.09it/s]"
     ]
    },
    {
     "name": "stdout",
     "output_type": "stream",
     "text": [
      "Error detecting XM4.jpg {'error_code': -57, 'error_description': 'you have reached your daily processed images limit'}\n"
     ]
    },
    {
     "name": "stderr",
     "output_type": "stream",
     "text": [
      "\r",
      " 99%|█████████▉| 1583/1600 [17:19<00:07,  2.21it/s]"
     ]
    },
    {
     "name": "stdout",
     "output_type": "stream",
     "text": [
      "Error detecting XM5.jpg {'error_code': -57, 'error_description': 'you have reached your daily processed images limit'}\n"
     ]
    },
    {
     "name": "stderr",
     "output_type": "stream",
     "text": [
      "\r",
      " 99%|█████████▉| 1584/1600 [17:20<00:06,  2.29it/s]"
     ]
    },
    {
     "name": "stdout",
     "output_type": "stream",
     "text": [
      "Error detecting XM6.jpg {'error_code': -57, 'error_description': 'you have reached your daily processed images limit'}\n"
     ]
    },
    {
     "name": "stderr",
     "output_type": "stream",
     "text": [
      "\r",
      " 99%|█████████▉| 1585/1600 [17:20<00:06,  2.21it/s]"
     ]
    },
    {
     "name": "stdout",
     "output_type": "stream",
     "text": [
      "Error detecting XM7.jpg {'error_code': -57, 'error_description': 'you have reached your daily processed images limit'}\n"
     ]
    },
    {
     "name": "stderr",
     "output_type": "stream",
     "text": [
      "\r",
      " 99%|█████████▉| 1586/1600 [17:21<00:06,  2.18it/s]"
     ]
    },
    {
     "name": "stdout",
     "output_type": "stream",
     "text": [
      "Error detecting XM8.jpg {'error_code': -57, 'error_description': 'you have reached your daily processed images limit'}\n"
     ]
    },
    {
     "name": "stderr",
     "output_type": "stream",
     "text": [
      "\r",
      " 99%|█████████▉| 1587/1600 [17:21<00:06,  2.15it/s]"
     ]
    },
    {
     "name": "stdout",
     "output_type": "stream",
     "text": [
      "Error detecting XM9.jpg {'error_code': -57, 'error_description': 'you have reached your daily processed images limit'}\n"
     ]
    },
    {
     "name": "stderr",
     "output_type": "stream",
     "text": [
      "\r",
      " 99%|█████████▉| 1588/1600 [17:22<00:06,  1.90it/s]"
     ]
    },
    {
     "name": "stdout",
     "output_type": "stream",
     "text": [
      "Error detecting Y1.jpg {'error_code': -57, 'error_description': 'you have reached your daily processed images limit'}\n"
     ]
    },
    {
     "name": "stderr",
     "output_type": "stream",
     "text": [
      "\r",
      " 99%|█████████▉| 1589/1600 [17:22<00:05,  1.95it/s]"
     ]
    },
    {
     "name": "stdout",
     "output_type": "stream",
     "text": [
      "Error detecting Y10.jpg {'error_code': -57, 'error_description': 'you have reached your daily processed images limit'}\n"
     ]
    },
    {
     "name": "stderr",
     "output_type": "stream",
     "text": [
      "\r",
      " 99%|█████████▉| 1590/1600 [17:23<00:05,  1.88it/s]"
     ]
    },
    {
     "name": "stdout",
     "output_type": "stream",
     "text": [
      "Error detecting Y2.jpg {'error_code': -57, 'error_description': 'you have reached your daily processed images limit'}\n"
     ]
    },
    {
     "name": "stderr",
     "output_type": "stream",
     "text": [
      "\r",
      " 99%|█████████▉| 1591/1600 [17:23<00:04,  1.93it/s]"
     ]
    },
    {
     "name": "stdout",
     "output_type": "stream",
     "text": [
      "Error detecting Y3.jpg {'error_code': -57, 'error_description': 'you have reached your daily processed images limit'}\n"
     ]
    },
    {
     "name": "stderr",
     "output_type": "stream",
     "text": [
      "\r",
      "100%|█████████▉| 1592/1600 [17:24<00:04,  1.97it/s]"
     ]
    },
    {
     "name": "stdout",
     "output_type": "stream",
     "text": [
      "Error detecting Y4.jpg {'error_code': -57, 'error_description': 'you have reached your daily processed images limit'}\n"
     ]
    },
    {
     "name": "stderr",
     "output_type": "stream",
     "text": [
      "\r",
      "100%|█████████▉| 1593/1600 [17:24<00:03,  2.00it/s]"
     ]
    },
    {
     "name": "stdout",
     "output_type": "stream",
     "text": [
      "Error detecting Y5.jpg {'error_code': -57, 'error_description': 'you have reached your daily processed images limit'}\n"
     ]
    },
    {
     "name": "stderr",
     "output_type": "stream",
     "text": [
      "\r",
      "100%|█████████▉| 1594/1600 [17:25<00:02,  2.01it/s]"
     ]
    },
    {
     "name": "stdout",
     "output_type": "stream",
     "text": [
      "Error detecting Y6.jpg {'error_code': -57, 'error_description': 'you have reached your daily processed images limit'}\n"
     ]
    },
    {
     "name": "stderr",
     "output_type": "stream",
     "text": [
      "\r",
      "100%|█████████▉| 1595/1600 [17:25<00:02,  1.93it/s]"
     ]
    },
    {
     "name": "stdout",
     "output_type": "stream",
     "text": [
      "Error detecting Y7.jpg {'error_code': -57, 'error_description': 'you have reached your daily processed images limit'}\n"
     ]
    },
    {
     "name": "stderr",
     "output_type": "stream",
     "text": [
      "\r",
      "100%|█████████▉| 1596/1600 [17:26<00:02,  1.97it/s]"
     ]
    },
    {
     "name": "stdout",
     "output_type": "stream",
     "text": [
      "Error detecting Y8.jpg {'error_code': -57, 'error_description': 'you have reached your daily processed images limit'}\n"
     ]
    },
    {
     "name": "stderr",
     "output_type": "stream",
     "text": [
      "\r",
      "100%|█████████▉| 1597/1600 [17:26<00:01,  1.97it/s]"
     ]
    },
    {
     "name": "stdout",
     "output_type": "stream",
     "text": [
      "Error detecting Y9.jpg {'error_code': -57, 'error_description': 'you have reached your daily processed images limit'}\n"
     ]
    },
    {
     "name": "stderr",
     "output_type": "stream",
     "text": [
      "\r",
      "100%|█████████▉| 1598/1600 [17:27<00:01,  1.97it/s]"
     ]
    },
    {
     "name": "stdout",
     "output_type": "stream",
     "text": [
      "Error detecting ZL1.jpg {'error_code': -57, 'error_description': 'you have reached your daily processed images limit'}\n"
     ]
    },
    {
     "name": "stderr",
     "output_type": "stream",
     "text": [
      "\r",
      "100%|█████████▉| 1599/1600 [17:27<00:00,  2.00it/s]"
     ]
    },
    {
     "name": "stdout",
     "output_type": "stream",
     "text": [
      "Error detecting ZL2.jpg {'error_code': -57, 'error_description': 'you have reached your daily processed images limit'}\n"
     ]
    },
    {
     "name": "stderr",
     "output_type": "stream",
     "text": [
      "\r",
      "100%|██████████| 1600/1600 [17:28<00:00,  2.00it/s]"
     ]
    },
    {
     "name": "stdout",
     "output_type": "stream",
     "text": [
      "Error detecting ZL3.jpg {'error_code': -57, 'error_description': 'you have reached your daily processed images limit'}\n"
     ]
    },
    {
     "name": "stderr",
     "output_type": "stream",
     "text": [
      "\n"
     ]
    }
   ],
   "source": [
    "\n",
    "headers = {\n",
    "    'Content-Type': 'application/json',\n",
    "    'User-Agent': 'Mozilla/5.0 (Macintosh; Intel Mac OS X 10_15_7) AppleWebKit/537.36 (KHTML, like Gecko) Chrome/90.0.4430.40 Safari/537.36'\n",
    "}\n",
    "\n",
    "\n",
    "counter = 0\n",
    "\n",
    "for file in tqdm(sorted(os.listdir('images/'))):\n",
    "    \n",
    "    if file in image_labels and len(image_labels[file]) > 0:\n",
    "        continue\n",
    "        \n",
    "    with open('images/' + file, 'rb') as file_stream:\n",
    "        file_content = file_stream.read()\n",
    "        \n",
    "    data = {\n",
    "        'api_key': \"d45fd466-51e2-4701-8da8-04351c872236\",\n",
    "        'detection_flags': \"cropface,recognition,content,classifiers,basicpoints,propoints\",\n",
    "        'original_filename': file,\n",
    "        'file_base64': base64.b64encode(file_content).decode('ascii')\n",
    "        \n",
    "    }\n",
    "    #print(file, data)\n",
    "    \n",
    "    response = requests.post('https://www.betafaceapi.com/api/v2/media', json=data, headers=headers)\n",
    "    response_json = response.json()\n",
    "    \n",
    "    if 'media' not in response_json or 'faces' not in response_json['media'] or response_json['media']['faces'] is None or len(response_json['media']['faces']) == 0:\n",
    "        print('Error detecting', file, response_json)\n",
    "        image_labels[file] = {}\n",
    "        continue\n",
    "        \n",
    "    face = response_json['media']['faces'][0]\n",
    "    \n",
    "    face_tags = {}\n",
    "    \n",
    "    for tag in face['tags']:\n",
    "        face_tags[tag['name'] + '.label'] = tag['value']\n",
    "        face_tags[tag['name'] + '.confidence'] = tag['confidence']\n",
    "    \n",
    "    image_labels[file] = face_tags\n",
    "    \n",
    "    \n",
    "    if counter % 10 == 0:\n",
    "        pd.DataFrame.from_dict(image_labels, orient='index').to_csv('data/image_labels.csv')\n",
    "\n",
    "    counter = counter + 1\n",
    "    \n",
    "    "
   ]
  },
  {
   "cell_type": "code",
   "execution_count": 7,
   "metadata": {},
   "outputs": [
    {
     "data": {
      "text/html": [
       "<div>\n",
       "<style scoped>\n",
       "    .dataframe tbody tr th:only-of-type {\n",
       "        vertical-align: middle;\n",
       "    }\n",
       "\n",
       "    .dataframe tbody tr th {\n",
       "        vertical-align: top;\n",
       "    }\n",
       "\n",
       "    .dataframe thead th {\n",
       "        text-align: right;\n",
       "    }\n",
       "</style>\n",
       "<table border=\"1\" class=\"dataframe\">\n",
       "  <thead>\n",
       "    <tr style=\"text-align: right;\">\n",
       "      <th></th>\n",
       "      <th>race.label</th>\n",
       "      <th>race.confidence</th>\n",
       "      <th>gender.label</th>\n",
       "      <th>gender.confidence</th>\n",
       "    </tr>\n",
       "  </thead>\n",
       "  <tbody>\n",
       "    <tr>\n",
       "      <th>A1.jpg</th>\n",
       "      <td>asian</td>\n",
       "      <td>1.00</td>\n",
       "      <td>male</td>\n",
       "      <td>1.00</td>\n",
       "    </tr>\n",
       "    <tr>\n",
       "      <th>A2.jpg</th>\n",
       "      <td>white</td>\n",
       "      <td>1.00</td>\n",
       "      <td>female</td>\n",
       "      <td>0.05</td>\n",
       "    </tr>\n",
       "    <tr>\n",
       "      <th>A3.jpg</th>\n",
       "      <td>white</td>\n",
       "      <td>1.00</td>\n",
       "      <td>male</td>\n",
       "      <td>0.21</td>\n",
       "    </tr>\n",
       "    <tr>\n",
       "      <th>A4.jpg</th>\n",
       "      <td>white</td>\n",
       "      <td>1.00</td>\n",
       "      <td>male</td>\n",
       "      <td>0.94</td>\n",
       "    </tr>\n",
       "    <tr>\n",
       "      <th>A6.jpg</th>\n",
       "      <td>white</td>\n",
       "      <td>0.73</td>\n",
       "      <td>male</td>\n",
       "      <td>0.95</td>\n",
       "    </tr>\n",
       "    <tr>\n",
       "      <th>AD1.jpg</th>\n",
       "      <td>white</td>\n",
       "      <td>1.00</td>\n",
       "      <td>male</td>\n",
       "      <td>0.89</td>\n",
       "    </tr>\n",
       "    <tr>\n",
       "      <th>AD10.jpg</th>\n",
       "      <td>asian</td>\n",
       "      <td>1.00</td>\n",
       "      <td>male</td>\n",
       "      <td>0.16</td>\n",
       "    </tr>\n",
       "    <tr>\n",
       "      <th>AD2.jpg</th>\n",
       "      <td>black</td>\n",
       "      <td>0.55</td>\n",
       "      <td>female</td>\n",
       "      <td>1.00</td>\n",
       "    </tr>\n",
       "    <tr>\n",
       "      <th>AD3.jpg</th>\n",
       "      <td>white</td>\n",
       "      <td>1.00</td>\n",
       "      <td>male</td>\n",
       "      <td>0.56</td>\n",
       "    </tr>\n",
       "    <tr>\n",
       "      <th>AD4.jpg</th>\n",
       "      <td>white</td>\n",
       "      <td>1.00</td>\n",
       "      <td>male</td>\n",
       "      <td>0.57</td>\n",
       "    </tr>\n",
       "    <tr>\n",
       "      <th>AD5.jpg</th>\n",
       "      <td>white</td>\n",
       "      <td>0.92</td>\n",
       "      <td>female</td>\n",
       "      <td>0.19</td>\n",
       "    </tr>\n",
       "    <tr>\n",
       "      <th>AD6.jpg</th>\n",
       "      <td>white</td>\n",
       "      <td>1.00</td>\n",
       "      <td>male</td>\n",
       "      <td>0.54</td>\n",
       "    </tr>\n",
       "    <tr>\n",
       "      <th>AD7.jpg</th>\n",
       "      <td>white</td>\n",
       "      <td>1.00</td>\n",
       "      <td>male</td>\n",
       "      <td>1.00</td>\n",
       "    </tr>\n",
       "    <tr>\n",
       "      <th>AD8.jpg</th>\n",
       "      <td>asian</td>\n",
       "      <td>0.62</td>\n",
       "      <td>male</td>\n",
       "      <td>0.54</td>\n",
       "    </tr>\n",
       "    <tr>\n",
       "      <th>AD9.jpg</th>\n",
       "      <td>white</td>\n",
       "      <td>0.99</td>\n",
       "      <td>male</td>\n",
       "      <td>0.42</td>\n",
       "    </tr>\n",
       "    <tr>\n",
       "      <th>AHX1.jpg</th>\n",
       "      <td>white</td>\n",
       "      <td>1.00</td>\n",
       "      <td>male</td>\n",
       "      <td>0.92</td>\n",
       "    </tr>\n",
       "    <tr>\n",
       "      <th>AHX2.jpg</th>\n",
       "      <td>white</td>\n",
       "      <td>1.00</td>\n",
       "      <td>male</td>\n",
       "      <td>1.00</td>\n",
       "    </tr>\n",
       "    <tr>\n",
       "      <th>AHX3.jpg</th>\n",
       "      <td>black</td>\n",
       "      <td>0.95</td>\n",
       "      <td>male</td>\n",
       "      <td>0.95</td>\n",
       "    </tr>\n",
       "    <tr>\n",
       "      <th>AK1.jpg</th>\n",
       "      <td>asian</td>\n",
       "      <td>0.94</td>\n",
       "      <td>female</td>\n",
       "      <td>0.69</td>\n",
       "    </tr>\n",
       "    <tr>\n",
       "      <th>AK10.jpg</th>\n",
       "      <td>white</td>\n",
       "      <td>1.00</td>\n",
       "      <td>male</td>\n",
       "      <td>0.75</td>\n",
       "    </tr>\n",
       "  </tbody>\n",
       "</table>\n",
       "</div>"
      ],
      "text/plain": [
       "         race.label  race.confidence gender.label  gender.confidence\n",
       "A1.jpg        asian             1.00         male               1.00\n",
       "A2.jpg        white             1.00       female               0.05\n",
       "A3.jpg        white             1.00         male               0.21\n",
       "A4.jpg        white             1.00         male               0.94\n",
       "A6.jpg        white             0.73         male               0.95\n",
       "AD1.jpg       white             1.00         male               0.89\n",
       "AD10.jpg      asian             1.00         male               0.16\n",
       "AD2.jpg       black             0.55       female               1.00\n",
       "AD3.jpg       white             1.00         male               0.56\n",
       "AD4.jpg       white             1.00         male               0.57\n",
       "AD5.jpg       white             0.92       female               0.19\n",
       "AD6.jpg       white             1.00         male               0.54\n",
       "AD7.jpg       white             1.00         male               1.00\n",
       "AD8.jpg       asian             0.62         male               0.54\n",
       "AD9.jpg       white             0.99         male               0.42\n",
       "AHX1.jpg      white             1.00         male               0.92\n",
       "AHX2.jpg      white             1.00         male               1.00\n",
       "AHX3.jpg      black             0.95         male               0.95\n",
       "AK1.jpg       asian             0.94       female               0.69\n",
       "AK10.jpg      white             1.00         male               0.75"
      ]
     },
     "execution_count": 7,
     "metadata": {},
     "output_type": "execute_result"
    }
   ],
   "source": [
    "df = pd.DataFrame.from_dict(image_labels, orient='index')\n",
    "df[['race.label', 'race.confidence', 'gender.label', 'gender.confidence']].head(20)"
   ]
  },
  {
   "cell_type": "code",
   "execution_count": 9,
   "metadata": {},
   "outputs": [],
   "source": [
    "df.to_csv('data/image_labels.csv')"
   ]
  },
  {
   "cell_type": "code",
   "execution_count": 10,
   "metadata": {},
   "outputs": [],
   "source": [
    "f = open(\"data/image_labels.pkl\",\"wb\")\n",
    "pickle.dump(image_labels, f)\n",
    "f.close()\n"
   ]
  },
  {
   "cell_type": "code",
   "execution_count": null,
   "metadata": {},
   "outputs": [],
   "source": []
  }
 ],
 "metadata": {
  "kernelspec": {
   "display_name": "Python 3",
   "language": "python",
   "name": "python3"
  },
  "language_info": {
   "codemirror_mode": {
    "name": "ipython",
    "version": 3
   },
   "file_extension": ".py",
   "mimetype": "text/x-python",
   "name": "python",
   "nbconvert_exporter": "python",
   "pygments_lexer": "ipython3",
   "version": "3.7.3"
  }
 },
 "nbformat": 4,
 "nbformat_minor": 5
}
