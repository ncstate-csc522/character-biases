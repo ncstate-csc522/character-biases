{
 "cells": [
  {
   "cell_type": "code",
   "execution_count": null,
   "metadata": {},
   "outputs": [],
   "source": [
    "from PIL import Image\n",
    "import numpy as np\n",
    "from IPython.display import clear_output\n",
    "import re\n",
    "import pandas as pd\n",
    "import matplotlib.pyplot as plt\n",
    "%matplotlib inline"
   ]
  },
  {
   "cell_type": "code",
   "execution_count": null,
   "metadata": {},
   "outputs": [],
   "source": [
    "key = open(\"data/key.js\", \"r\").read()\n",
    "character_key = re.search(r'var subjects =(.+)', key, re.DOTALL).group()\n",
    "# Randomly assign names to 4 different arrays\n",
    "image_key = np.array(re.findall(r'\\\"(.+)\\\".+\\\"([^\\\"]*.jpg)', character_key))\n",
    "np.random.shuffle(image_key)\n",
    "image_key = np.array_split(image_key, 4)\n",
    "image_key[0][0:10]"
   ]
  },
  {
   "cell_type": "code",
   "execution_count": null,
   "metadata": {},
   "outputs": [],
   "source": [
    "team_nums = {\n",
    "    '0' : \"Bruno\",\n",
    "    '1': \"Aaron\",\n",
    "    '2': \"Ken\",\n",
    "    '3': \"Parth\"\n",
    "}\n",
    "\n",
    "rater = input(\"Who are you? '0' for Bruno, '1' for Aaron, '2' for Ken, '3' for Parth\")\n",
    "confirmation = input(\"You entered \" + team_nums[rater] + \". Please re-enter \" + rater + \" if correct. Otherwise, enter -1.\")\n",
    "if confirmation != rater:\n",
    "    rater = None\n",
    "    raise(Exception(\"You entered two different values. Please rerun cell.\"))\n",
    "print(\"Hi,\", team_nums[rater], \"!\")"
   ]
  },
  {
   "cell_type": "code",
   "execution_count": null,
   "metadata": {},
   "outputs": [],
   "source": [
    "try:\n",
    "    rating_df = pd.read_csv('labels' + str(rater) + \".csv\", index_col=0)\n",
    "    print(\"Previous attempt found. Continuing.\")\n",
    "except:\n",
    "    print(\"No previous attempt found. Starting.\")\n",
    "    rating_df = pd.DataFrame(image_key[int(rater)], columns = ['characterName', 'imageFile'])\n",
    "    rating_df['gender'] = np.nan\n",
    "    rating_df['race'] = np.nan\n",
    "for i in rating_df[rating_df['gender'].isna()].index:\n",
    "    image = Image.open('data/images/' + rating_df.loc[i, 'imageFile'])\n",
    "    plt.imshow(image)\n",
    "    plt.show()\n",
    "    print(\"Character:\", rating_df.loc[i, 'characterName'])\n",
    "    gender = input(\"Male (M), Female (F), or Unknown (U)\\n?\")\n",
    "    while gender not in (['M', 'F', 'U', 'm', 'f', 'u']):\n",
    "        print(\"Invalid gender.\")\n",
    "        gender = input(\"Male (M), Female (F), or Unknown (U)\\n?\")\n",
    "    clear_output()\n",
    "    plt.imshow(image)\n",
    "    plt.show()\n",
    "    print(\"Character:\", rating_df.loc[i, 'characterName'])\n",
    "    race = input(\"White(W)\\nBlack(B)\\nHispanic(H)\\nAsian(A)\\nIndian(I)\\nMideast(M)\\nNative American(N)\\nUnknown(U)?\\n\")\n",
    "    while race not in (['W', 'B', 'H', 'A', 'I', 'M', 'N', 'U', 'w', 'b', 'h', 'a', 'i', 'm' 'n', 'u']):\n",
    "        print(\"Invalid race.\")\n",
    "        race = input(\"White(W)\\nBlack(B)\\nHispanic(H)\\nAsian(A)\\nIndian(I)\\nMideast(M)\\nNative American(N)\\nUnknown(U)?\\n\")\n",
    "    clear_output(wait=True)\n",
    "    rating_df.loc[i, 'gender'] = gender.upper()\n",
    "    rating_df.loc[i, 'race'] = race.upper()\n",
    "    rating_df.to_csv(\"labels\" + str(rater) + \".csv\")"
   ]
  },
  {
   "cell_type": "code",
   "execution_count": null,
   "metadata": {},
   "outputs": [],
   "source": []
  },
  {
   "cell_type": "code",
   "execution_count": null,
   "metadata": {},
   "outputs": [],
   "source": [
    "counter = 0\n",
    "for rater in range(0,4):\n",
    "    rating_df = pd.DataFrame(image_key[int(rater)], columns = ['characterName', 'imageFile'])\n",
    "    for i in rating_df.index:\n",
    "        image = Image.open('data/images/' + rating_df.loc[i, 'imageFile'])\n",
    "        clear_output(wait=True)\n",
    "        plt.imshow(image)\n",
    "        plt.show()\n",
    "        counter += 1\n",
    "        print(counter)"
   ]
  },
  {
   "cell_type": "code",
   "execution_count": null,
   "metadata": {},
   "outputs": [],
   "source": []
  }
 ],
 "metadata": {
  "kernelspec": {
   "display_name": "Python 3",
   "language": "python",
   "name": "python3"
  },
  "language_info": {
   "codemirror_mode": {
    "name": "ipython",
    "version": 3
   },
   "file_extension": ".py",
   "mimetype": "text/x-python",
   "name": "python",
   "nbconvert_exporter": "python",
   "pygments_lexer": "ipython3",
   "version": "3.8.3"
  }
 },
 "nbformat": 4,
 "nbformat_minor": 4
}
