{
 "cells": [
  {
   "cell_type": "code",
   "execution_count": 78,
   "metadata": {},
   "outputs": [],
   "source": [
    "import pandas as pd\n",
    "import re\n",
    "import numpy as np"
   ]
  },
  {
   "cell_type": "markdown",
   "metadata": {},
   "source": [
    "# Data Creation and Cleaning"
   ]
  },
  {
   "cell_type": "markdown",
   "metadata": {},
   "source": [
    "##### Create tables"
   ]
  },
  {
   "cell_type": "code",
   "execution_count": 79,
   "metadata": {},
   "outputs": [
    {
     "data": {
      "text/html": [
       "<div>\n",
       "<style scoped>\n",
       "    .dataframe tbody tr th:only-of-type {\n",
       "        vertical-align: middle;\n",
       "    }\n",
       "\n",
       "    .dataframe tbody tr th {\n",
       "        vertical-align: top;\n",
       "    }\n",
       "\n",
       "    .dataframe thead th {\n",
       "        text-align: right;\n",
       "    }\n",
       "</style>\n",
       "<table border=\"1\" class=\"dataframe\">\n",
       "  <thead>\n",
       "    <tr style=\"text-align: right;\">\n",
       "      <th>Trait</th>\n",
       "      <th>psychopath,empath</th>\n",
       "      <th>punchable,loveable</th>\n",
       "      <th>arrogant,humble</th>\n",
       "      <th>😈,😇</th>\n",
       "      <th>selfish,altruistic</th>\n",
       "      <th>cruel,kind</th>\n",
       "      <th>vengeful,forgiving</th>\n",
       "      <th>quarrelsome,warm</th>\n",
       "      <th>impatient,patient</th>\n",
       "      <th>juvenile,mature</th>\n",
       "      <th>...</th>\n",
       "      <th>feminine,masculine</th>\n",
       "      <th>'right-brained','left-brained'</th>\n",
       "      <th>avant-garde,classical</th>\n",
       "      <th>🎩,🧢</th>\n",
       "      <th>outsider,insider</th>\n",
       "      <th>industrial,domestic</th>\n",
       "      <th>complicated,simple</th>\n",
       "      <th>literary,mathematical</th>\n",
       "      <th>slow,fast</th>\n",
       "      <th>careful,brave</th>\n",
       "    </tr>\n",
       "  </thead>\n",
       "  <tbody>\n",
       "    <tr>\n",
       "      <th>A/1/</th>\n",
       "      <td>5.578319</td>\n",
       "      <td>10.573631</td>\n",
       "      <td>3.308922</td>\n",
       "      <td>6.026067</td>\n",
       "      <td>2.543995</td>\n",
       "      <td>2.568643</td>\n",
       "      <td>2.515576</td>\n",
       "      <td>2.695635</td>\n",
       "      <td>3.168104</td>\n",
       "      <td>2.152981</td>\n",
       "      <td>...</td>\n",
       "      <td>1.597625</td>\n",
       "      <td>3.889602</td>\n",
       "      <td>2.394826</td>\n",
       "      <td>7.222500</td>\n",
       "      <td>3.219938</td>\n",
       "      <td>2.182402</td>\n",
       "      <td>3.511505</td>\n",
       "      <td>3.335183</td>\n",
       "      <td>3.092329</td>\n",
       "      <td>3.236480</td>\n",
       "    </tr>\n",
       "    <tr>\n",
       "      <th>A/2/</th>\n",
       "      <td>3.226171</td>\n",
       "      <td>7.650000</td>\n",
       "      <td>2.585991</td>\n",
       "      <td>5.064870</td>\n",
       "      <td>1.727468</td>\n",
       "      <td>2.204796</td>\n",
       "      <td>2.609496</td>\n",
       "      <td>2.551628</td>\n",
       "      <td>3.430799</td>\n",
       "      <td>1.360332</td>\n",
       "      <td>...</td>\n",
       "      <td>2.151796</td>\n",
       "      <td>4.018724</td>\n",
       "      <td>2.249862</td>\n",
       "      <td>6.737143</td>\n",
       "      <td>3.297506</td>\n",
       "      <td>1.665730</td>\n",
       "      <td>2.730100</td>\n",
       "      <td>2.397082</td>\n",
       "      <td>2.076212</td>\n",
       "      <td>1.954638</td>\n",
       "    </tr>\n",
       "    <tr>\n",
       "      <th>A/3/</th>\n",
       "      <td>7.066667</td>\n",
       "      <td>7.794229</td>\n",
       "      <td>3.528119</td>\n",
       "      <td>5.739131</td>\n",
       "      <td>3.124203</td>\n",
       "      <td>2.717465</td>\n",
       "      <td>3.571535</td>\n",
       "      <td>3.237490</td>\n",
       "      <td>2.605233</td>\n",
       "      <td>2.225619</td>\n",
       "      <td>...</td>\n",
       "      <td>3.047910</td>\n",
       "      <td>3.243723</td>\n",
       "      <td>2.344876</td>\n",
       "      <td>5.189798</td>\n",
       "      <td>3.729672</td>\n",
       "      <td>2.762733</td>\n",
       "      <td>3.301433</td>\n",
       "      <td>3.919961</td>\n",
       "      <td>3.251203</td>\n",
       "      <td>3.133916</td>\n",
       "    </tr>\n",
       "  </tbody>\n",
       "</table>\n",
       "<p>3 rows × 400 columns</p>\n",
       "</div>"
      ],
      "text/plain": [
       "Trait  psychopath,empath  punchable,loveable  arrogant,humble       😈,😇  \\\n",
       "A/1/            5.578319           10.573631         3.308922  6.026067   \n",
       "A/2/            3.226171            7.650000         2.585991  5.064870   \n",
       "A/3/            7.066667            7.794229         3.528119  5.739131   \n",
       "\n",
       "Trait  selfish,altruistic  cruel,kind  vengeful,forgiving  quarrelsome,warm  \\\n",
       "A/1/             2.543995    2.568643            2.515576          2.695635   \n",
       "A/2/             1.727468    2.204796            2.609496          2.551628   \n",
       "A/3/             3.124203    2.717465            3.571535          3.237490   \n",
       "\n",
       "Trait  impatient,patient  juvenile,mature  ...  feminine,masculine  \\\n",
       "A/1/            3.168104         2.152981  ...            1.597625   \n",
       "A/2/            3.430799         1.360332  ...            2.151796   \n",
       "A/3/            2.605233         2.225619  ...            3.047910   \n",
       "\n",
       "Trait  'right-brained','left-brained'  avant-garde,classical       🎩,🧢  \\\n",
       "A/1/                         3.889602               2.394826  7.222500   \n",
       "A/2/                         4.018724               2.249862  6.737143   \n",
       "A/3/                         3.243723               2.344876  5.189798   \n",
       "\n",
       "Trait  outsider,insider  industrial,domestic  complicated,simple  \\\n",
       "A/1/           3.219938             2.182402            3.511505   \n",
       "A/2/           3.297506             1.665730            2.730100   \n",
       "A/3/           3.729672             2.762733            3.301433   \n",
       "\n",
       "Trait  literary,mathematical  slow,fast  careful,brave  \n",
       "A/1/                3.335183   3.092329       3.236480  \n",
       "A/2/                2.397082   2.076212       1.954638  \n",
       "A/3/                3.919961   3.251203       3.133916  \n",
       "\n",
       "[3 rows x 400 columns]"
      ]
     },
     "execution_count": 79,
     "metadata": {},
     "output_type": "execute_result"
    }
   ],
   "source": [
    "mean_df = pd.read_csv('data/mean.csv', index_col=0).T\n",
    "n_df = pd.read_csv('data/n.csv', index_col=0).T\n",
    "std_df = pd.read_csv('data/std.csv', index_col=0).T\n",
    "labels_df = pd.read_csv('data/image_labels.csv', index_col=0)\n",
    "\n",
    "stderr_df = std_df / np.sqrt(n_df)\n",
    "stderr_df.head(3)"
   ]
  },
  {
   "cell_type": "code",
   "execution_count": 80,
   "metadata": {},
   "outputs": [
    {
     "data": {
      "text/plain": [
       "(1601, 400)"
      ]
     },
     "execution_count": 80,
     "metadata": {},
     "output_type": "execute_result"
    }
   ],
   "source": [
    "stderr_df.shape"
   ]
  },
  {
   "cell_type": "markdown",
   "metadata": {},
   "source": [
    "##### Remove duplicate columns"
   ]
  },
  {
   "cell_type": "code",
   "execution_count": 81,
   "metadata": {},
   "outputs": [],
   "source": [
    "mean_df = mean_df.loc[:,~mean_df.columns.duplicated()]\n",
    "stderr_df = stderr_df.loc[:,~stderr_df.columns.duplicated()]"
   ]
  },
  {
   "cell_type": "markdown",
   "metadata": {},
   "source": [
    "##### Standardize index names"
   ]
  },
  {
   "cell_type": "code",
   "execution_count": 82,
   "metadata": {},
   "outputs": [],
   "source": [
    "cols = ['race.label', 'race.confidence', 'gender.label', 'gender.confidence']\n",
    "labels_df = labels_df[cols]"
   ]
  },
  {
   "cell_type": "code",
   "execution_count": 83,
   "metadata": {},
   "outputs": [],
   "source": [
    "index = mean_df.index.str.extract(r'([A-z]+).([0-9]+)')\n",
    "mean_df.index = index[0] + index[1]\n",
    "stderr_df.index = index[0] + index[1]\n",
    "labels_df.index = labels_df.index.str.extract(r'([A-z0-9]+)').iloc[:,0]"
   ]
  },
  {
   "cell_type": "markdown",
   "metadata": {},
   "source": [
    "##### Remove emoji and non-word columns"
   ]
  },
  {
   "cell_type": "code",
   "execution_count": 84,
   "metadata": {},
   "outputs": [],
   "source": [
    "stderr_df = stderr_df.loc[:,stderr_df.columns.str.match(\"[A-Za-z\\- ]+,[A-Za-z\\- ]+\")]\n",
    "mean_df = mean_df.loc[:,mean_df.columns.str.match(\"[A-Za-z\\- ]+,[A-Za-z\\- ]+\")]"
   ]
  },
  {
   "cell_type": "markdown",
   "metadata": {},
   "source": [
    "##### Merge face labels"
   ]
  },
  {
   "cell_type": "code",
   "execution_count": 85,
   "metadata": {},
   "outputs": [
    {
     "data": {
      "text/html": [
       "<div>\n",
       "<style scoped>\n",
       "    .dataframe tbody tr th:only-of-type {\n",
       "        vertical-align: middle;\n",
       "    }\n",
       "\n",
       "    .dataframe tbody tr th {\n",
       "        vertical-align: top;\n",
       "    }\n",
       "\n",
       "    .dataframe thead th {\n",
       "        text-align: right;\n",
       "    }\n",
       "</style>\n",
       "<table border=\"1\" class=\"dataframe\">\n",
       "  <thead>\n",
       "    <tr style=\"text-align: right;\">\n",
       "      <th></th>\n",
       "      <th>psychopath,empath</th>\n",
       "      <th>punchable,loveable</th>\n",
       "      <th>arrogant,humble</th>\n",
       "      <th>selfish,altruistic</th>\n",
       "      <th>cruel,kind</th>\n",
       "      <th>vengeful,forgiving</th>\n",
       "      <th>quarrelsome,warm</th>\n",
       "      <th>impatient,patient</th>\n",
       "      <th>juvenile,mature</th>\n",
       "      <th>entitled,grateful</th>\n",
       "      <th>...</th>\n",
       "      <th>outsider,insider</th>\n",
       "      <th>industrial,domestic</th>\n",
       "      <th>complicated,simple</th>\n",
       "      <th>literary,mathematical</th>\n",
       "      <th>slow,fast</th>\n",
       "      <th>careful,brave</th>\n",
       "      <th>race.label</th>\n",
       "      <th>race.confidence</th>\n",
       "      <th>gender.label</th>\n",
       "      <th>gender.confidence</th>\n",
       "    </tr>\n",
       "  </thead>\n",
       "  <tbody>\n",
       "    <tr>\n",
       "      <th>A1</th>\n",
       "      <td>55.5</td>\n",
       "      <td>31.0</td>\n",
       "      <td>51.7</td>\n",
       "      <td>59.7</td>\n",
       "      <td>63.1</td>\n",
       "      <td>60.1</td>\n",
       "      <td>45.0</td>\n",
       "      <td>48.6</td>\n",
       "      <td>73.3</td>\n",
       "      <td>34.7</td>\n",
       "      <td>...</td>\n",
       "      <td>60.5</td>\n",
       "      <td>29.6</td>\n",
       "      <td>52.7</td>\n",
       "      <td>65.8</td>\n",
       "      <td>53.0</td>\n",
       "      <td>57.8</td>\n",
       "      <td>asian</td>\n",
       "      <td>1.0</td>\n",
       "      <td>male</td>\n",
       "      <td>1.00</td>\n",
       "    </tr>\n",
       "    <tr>\n",
       "      <th>A2</th>\n",
       "      <td>86.7</td>\n",
       "      <td>71.0</td>\n",
       "      <td>59.2</td>\n",
       "      <td>81.6</td>\n",
       "      <td>74.3</td>\n",
       "      <td>29.4</td>\n",
       "      <td>35.3</td>\n",
       "      <td>53.3</td>\n",
       "      <td>85.0</td>\n",
       "      <td>71.7</td>\n",
       "      <td>...</td>\n",
       "      <td>38.9</td>\n",
       "      <td>22.9</td>\n",
       "      <td>28.8</td>\n",
       "      <td>75.9</td>\n",
       "      <td>83.8</td>\n",
       "      <td>85.9</td>\n",
       "      <td>white</td>\n",
       "      <td>1.0</td>\n",
       "      <td>female</td>\n",
       "      <td>0.05</td>\n",
       "    </tr>\n",
       "    <tr>\n",
       "      <th>A3</th>\n",
       "      <td>66.2</td>\n",
       "      <td>57.2</td>\n",
       "      <td>46.3</td>\n",
       "      <td>45.1</td>\n",
       "      <td>62.9</td>\n",
       "      <td>47.2</td>\n",
       "      <td>42.6</td>\n",
       "      <td>34.0</td>\n",
       "      <td>43.2</td>\n",
       "      <td>47.9</td>\n",
       "      <td>...</td>\n",
       "      <td>49.3</td>\n",
       "      <td>42.6</td>\n",
       "      <td>59.4</td>\n",
       "      <td>58.9</td>\n",
       "      <td>44.4</td>\n",
       "      <td>35.7</td>\n",
       "      <td>white</td>\n",
       "      <td>1.0</td>\n",
       "      <td>male</td>\n",
       "      <td>0.21</td>\n",
       "    </tr>\n",
       "  </tbody>\n",
       "</table>\n",
       "<p>3 rows × 366 columns</p>\n",
       "</div>"
      ],
      "text/plain": [
       "    psychopath,empath  punchable,loveable  arrogant,humble  \\\n",
       "A1               55.5                31.0             51.7   \n",
       "A2               86.7                71.0             59.2   \n",
       "A3               66.2                57.2             46.3   \n",
       "\n",
       "    selfish,altruistic  cruel,kind  vengeful,forgiving  quarrelsome,warm  \\\n",
       "A1                59.7        63.1                60.1              45.0   \n",
       "A2                81.6        74.3                29.4              35.3   \n",
       "A3                45.1        62.9                47.2              42.6   \n",
       "\n",
       "    impatient,patient  juvenile,mature  entitled,grateful  ...  \\\n",
       "A1               48.6             73.3               34.7  ...   \n",
       "A2               53.3             85.0               71.7  ...   \n",
       "A3               34.0             43.2               47.9  ...   \n",
       "\n",
       "    outsider,insider  industrial,domestic  complicated,simple  \\\n",
       "A1              60.5                 29.6                52.7   \n",
       "A2              38.9                 22.9                28.8   \n",
       "A3              49.3                 42.6                59.4   \n",
       "\n",
       "    literary,mathematical  slow,fast  careful,brave  race.label  \\\n",
       "A1                   65.8       53.0           57.8       asian   \n",
       "A2                   75.9       83.8           85.9       white   \n",
       "A3                   58.9       44.4           35.7       white   \n",
       "\n",
       "    race.confidence  gender.label  gender.confidence  \n",
       "A1              1.0          male               1.00  \n",
       "A2              1.0        female               0.05  \n",
       "A3              1.0          male               0.21  \n",
       "\n",
       "[3 rows x 366 columns]"
      ]
     },
     "execution_count": 85,
     "metadata": {},
     "output_type": "execute_result"
    }
   ],
   "source": [
    "mean_df = mean_df.merge(labels_df, left_index=True, right_index=True)\n",
    "mean_df.head(3)"
   ]
  },
  {
   "cell_type": "code",
   "execution_count": 86,
   "metadata": {},
   "outputs": [
    {
     "data": {
      "text/plain": [
       "(1601, 362)"
      ]
     },
     "execution_count": 86,
     "metadata": {},
     "output_type": "execute_result"
    }
   ],
   "source": [
    "stderr_df.shape"
   ]
  },
  {
   "cell_type": "markdown",
   "metadata": {},
   "source": [
    "##### Drop nonsense columns"
   ]
  },
  {
   "cell_type": "code",
   "execution_count": 87,
   "metadata": {},
   "outputs": [],
   "source": [
    "# Incorrect columns\n",
    "drop_cols = ['genocidal,genocidal', 'introspective,introspective']\n",
    "mean_df = mean_df.drop(drop_cols, axis=1)\n",
    "stderr_df = stderr_df.drop(drop_cols, axis=1)"
   ]
  },
  {
   "cell_type": "markdown",
   "metadata": {},
   "source": [
    "##### Drop characters with less than confidence_cutoff confidence for image labels"
   ]
  },
  {
   "cell_type": "code",
   "execution_count": 88,
   "metadata": {},
   "outputs": [
    {
     "data": {
      "text/html": [
       "<div>\n",
       "<style scoped>\n",
       "    .dataframe tbody tr th:only-of-type {\n",
       "        vertical-align: middle;\n",
       "    }\n",
       "\n",
       "    .dataframe tbody tr th {\n",
       "        vertical-align: top;\n",
       "    }\n",
       "\n",
       "    .dataframe thead th {\n",
       "        text-align: right;\n",
       "    }\n",
       "</style>\n",
       "<table border=\"1\" class=\"dataframe\">\n",
       "  <thead>\n",
       "    <tr style=\"text-align: right;\">\n",
       "      <th></th>\n",
       "      <th>psychopath,empath</th>\n",
       "      <th>punchable,loveable</th>\n",
       "      <th>arrogant,humble</th>\n",
       "      <th>selfish,altruistic</th>\n",
       "      <th>cruel,kind</th>\n",
       "      <th>vengeful,forgiving</th>\n",
       "      <th>quarrelsome,warm</th>\n",
       "      <th>impatient,patient</th>\n",
       "      <th>juvenile,mature</th>\n",
       "      <th>entitled,grateful</th>\n",
       "      <th>...</th>\n",
       "      <th>outsider,insider</th>\n",
       "      <th>industrial,domestic</th>\n",
       "      <th>complicated,simple</th>\n",
       "      <th>literary,mathematical</th>\n",
       "      <th>slow,fast</th>\n",
       "      <th>careful,brave</th>\n",
       "      <th>race.label</th>\n",
       "      <th>race.confidence</th>\n",
       "      <th>gender.label</th>\n",
       "      <th>gender.confidence</th>\n",
       "    </tr>\n",
       "  </thead>\n",
       "  <tbody>\n",
       "    <tr>\n",
       "      <th>A1</th>\n",
       "      <td>55.5</td>\n",
       "      <td>31.0</td>\n",
       "      <td>51.7</td>\n",
       "      <td>59.7</td>\n",
       "      <td>63.1</td>\n",
       "      <td>60.1</td>\n",
       "      <td>45.0</td>\n",
       "      <td>48.6</td>\n",
       "      <td>73.3</td>\n",
       "      <td>34.7</td>\n",
       "      <td>...</td>\n",
       "      <td>60.5</td>\n",
       "      <td>29.6</td>\n",
       "      <td>52.7</td>\n",
       "      <td>65.8</td>\n",
       "      <td>53.0</td>\n",
       "      <td>57.8</td>\n",
       "      <td>asian</td>\n",
       "      <td>1.0</td>\n",
       "      <td>male</td>\n",
       "      <td>1.00</td>\n",
       "    </tr>\n",
       "    <tr>\n",
       "      <th>A4</th>\n",
       "      <td>16.9</td>\n",
       "      <td>18.9</td>\n",
       "      <td>20.9</td>\n",
       "      <td>29.4</td>\n",
       "      <td>26.2</td>\n",
       "      <td>27.5</td>\n",
       "      <td>25.1</td>\n",
       "      <td>61.8</td>\n",
       "      <td>74.4</td>\n",
       "      <td>7.7</td>\n",
       "      <td>...</td>\n",
       "      <td>41.7</td>\n",
       "      <td>15.4</td>\n",
       "      <td>30.3</td>\n",
       "      <td>87.7</td>\n",
       "      <td>63.3</td>\n",
       "      <td>26.2</td>\n",
       "      <td>white</td>\n",
       "      <td>1.0</td>\n",
       "      <td>male</td>\n",
       "      <td>0.94</td>\n",
       "    </tr>\n",
       "    <tr>\n",
       "      <th>AD1</th>\n",
       "      <td>75.3</td>\n",
       "      <td>51.9</td>\n",
       "      <td>45.9</td>\n",
       "      <td>61.5</td>\n",
       "      <td>68.2</td>\n",
       "      <td>64.9</td>\n",
       "      <td>40.4</td>\n",
       "      <td>55.0</td>\n",
       "      <td>72.8</td>\n",
       "      <td>38.0</td>\n",
       "      <td>...</td>\n",
       "      <td>44.1</td>\n",
       "      <td>61.8</td>\n",
       "      <td>44.0</td>\n",
       "      <td>76.0</td>\n",
       "      <td>65.2</td>\n",
       "      <td>23.8</td>\n",
       "      <td>white</td>\n",
       "      <td>1.0</td>\n",
       "      <td>male</td>\n",
       "      <td>0.89</td>\n",
       "    </tr>\n",
       "  </tbody>\n",
       "</table>\n",
       "<p>3 rows × 364 columns</p>\n",
       "</div>"
      ],
      "text/plain": [
       "     psychopath,empath  punchable,loveable  arrogant,humble  \\\n",
       "A1                55.5                31.0             51.7   \n",
       "A4                16.9                18.9             20.9   \n",
       "AD1               75.3                51.9             45.9   \n",
       "\n",
       "     selfish,altruistic  cruel,kind  vengeful,forgiving  quarrelsome,warm  \\\n",
       "A1                 59.7        63.1                60.1              45.0   \n",
       "A4                 29.4        26.2                27.5              25.1   \n",
       "AD1                61.5        68.2                64.9              40.4   \n",
       "\n",
       "     impatient,patient  juvenile,mature  entitled,grateful  ...  \\\n",
       "A1                48.6             73.3               34.7  ...   \n",
       "A4                61.8             74.4                7.7  ...   \n",
       "AD1               55.0             72.8               38.0  ...   \n",
       "\n",
       "     outsider,insider  industrial,domestic  complicated,simple  \\\n",
       "A1               60.5                 29.6                52.7   \n",
       "A4               41.7                 15.4                30.3   \n",
       "AD1              44.1                 61.8                44.0   \n",
       "\n",
       "     literary,mathematical  slow,fast  careful,brave  race.label  \\\n",
       "A1                    65.8       53.0           57.8       asian   \n",
       "A4                    87.7       63.3           26.2       white   \n",
       "AD1                   76.0       65.2           23.8       white   \n",
       "\n",
       "     race.confidence  gender.label  gender.confidence  \n",
       "A1               1.0          male               1.00  \n",
       "A4               1.0          male               0.94  \n",
       "AD1              1.0          male               0.89  \n",
       "\n",
       "[3 rows x 364 columns]"
      ]
     },
     "execution_count": 88,
     "metadata": {},
     "output_type": "execute_result"
    }
   ],
   "source": [
    "confidence_cutoff = .80\n",
    "mean_df = mean_df[(mean_df['race.confidence'] >= confidence_cutoff) & (mean_df['gender.confidence'] >= confidence_cutoff)]\n",
    "stderr_df = stderr_df.loc[mean_df.index,:]\n",
    "mean_df.head(3)"
   ]
  },
  {
   "cell_type": "code",
   "execution_count": 89,
   "metadata": {},
   "outputs": [
    {
     "data": {
      "text/plain": [
       "(858, 364)"
      ]
     },
     "execution_count": 89,
     "metadata": {},
     "output_type": "execute_result"
    }
   ],
   "source": [
    "mean_df.shape"
   ]
  },
  {
   "cell_type": "markdown",
   "metadata": {},
   "source": [
    "##### Drop rows and columns with high standard error"
   ]
  },
  {
   "cell_type": "code",
   "execution_count": 90,
   "metadata": {},
   "outputs": [],
   "source": [
    "# TODO: Delete this. Just useful for playing with the \n",
    "# percentiles below without having to rerun whole notebook\n",
    "stderr_copy = stderr_df.copy()"
   ]
  },
  {
   "cell_type": "code",
   "execution_count": 91,
   "metadata": {},
   "outputs": [
    {
     "data": {
      "text/plain": [
       "'(Characters, traits) = (947, 72)'"
      ]
     },
     "execution_count": 91,
     "metadata": {},
     "output_type": "execute_result"
    }
   ],
   "source": [
    "# TODO: Delete this. Just useful for playing with the \n",
    "# percentiles below without having to rerun whole notebook\n",
    "stderr_df = stderr_copy.copy()\n",
    "\n",
    "# Drop cells that have stderr greater than the percentile specified\n",
    "stderr_cutoff_percentile = 95\n",
    "cutoff = np.percentile(stderr_df.stack(), q=stderr_cutoff_percentile)\n",
    "stderr_df = stderr_df.applymap(lambda x: np.nan if x > cutoff else x)\n",
    "na_counts = stderr_df.apply(lambda x: x.isna().sum())\n",
    "\n",
    "# Now drop the columns with the most NAs. This is a way of ensuring\n",
    "# that we do not drop too many rows\n",
    "# e.g. if there is a column with ALL NAs, we would drop every row\n",
    "col_cutoff_percentile = 20\n",
    "col_na_cutoff = np.percentile(na_counts, q=col_cutoff_percentile)\n",
    "for col in stderr_df.columns:\n",
    "    if na_counts[col] > col_na_cutoff:\n",
    "        stderr_df.drop(col, axis=1, inplace=True)\n",
    "stderr_df = stderr_df.dropna()\n",
    "'(Characters, traits) = ' + str(stderr_df.shape)"
   ]
  },
  {
   "cell_type": "code",
   "execution_count": 92,
   "metadata": {},
   "outputs": [],
   "source": [
    "mean_df.to_pickle('data/merged_mean_data.pkl')"
   ]
  },
  {
   "cell_type": "code",
   "execution_count": null,
   "metadata": {},
   "outputs": [],
   "source": []
  }
 ],
 "metadata": {
  "kernelspec": {
   "display_name": "Python 3",
   "language": "python",
   "name": "python3"
  },
  "language_info": {
   "codemirror_mode": {
    "name": "ipython",
    "version": 3
   },
   "file_extension": ".py",
   "mimetype": "text/x-python",
   "name": "python",
   "nbconvert_exporter": "python",
   "pygments_lexer": "ipython3",
   "version": "3.7.6"
  }
 },
 "nbformat": 4,
 "nbformat_minor": 4
}
